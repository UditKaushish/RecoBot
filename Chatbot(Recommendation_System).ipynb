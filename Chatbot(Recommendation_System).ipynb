{
  "cells": [
    {
      "cell_type": "markdown",
      "metadata": {
        "id": "KKg1QmftwrrB"
      },
      "source": [
        "MOVIES RECOMMENDATION"
      ]
    },
    {
      "cell_type": "code",
      "execution_count": null,
      "metadata": {
        "id": "N4V6CoP1rQBK"
      },
      "outputs": [],
      "source": [
        "import numpy as np\n",
        "import pandas as pd"
      ]
    },
    {
      "cell_type": "code",
      "execution_count": null,
      "metadata": {
        "id": "rMqAGrgTtYBV"
      },
      "outputs": [],
      "source": [
        "from scipy.sparse import csr_matrix\n",
        "from sklearn.neighbors import NearestNeighbors\n",
        "import matplotlib.pyplot as plt\n",
        "import seaborn as sns"
      ]
    },
    {
      "cell_type": "code",
      "execution_count": null,
      "metadata": {
        "id": "PNFFTPzath_7"
      },
      "outputs": [],
      "source": [
        "movies = pd.read_csv(\"movies.csv\")\n",
        "ratings = pd.read_csv(\"ratings.csv\")"
      ]
    },
    {
      "cell_type": "code",
      "execution_count": null,
      "metadata": {
        "colab": {
          "base_uri": "https://localhost:8080/",
          "height": 267
        },
        "id": "OK9Wi4KvwTaC",
        "outputId": "7dbe4d2c-bc05-4efb-b9b7-42c6f0b5d6fb"
      },
      "outputs": [
        {
          "output_type": "execute_result",
          "data": {
            "text/plain": [
              "userId   1    2    3    4    5    6    7    8    9    10   ...  601  602  603  \\\n",
              "movieId                                                    ...                  \n",
              "1        4.0  NaN  NaN  NaN  4.0  NaN  4.5  NaN  NaN  NaN  ...  4.0  NaN  4.0   \n",
              "2        NaN  NaN  NaN  NaN  NaN  4.0  NaN  4.0  NaN  NaN  ...  NaN  4.0  NaN   \n",
              "3        4.0  NaN  NaN  NaN  NaN  5.0  NaN  NaN  NaN  NaN  ...  NaN  NaN  NaN   \n",
              "4        NaN  NaN  NaN  NaN  NaN  3.0  NaN  NaN  NaN  NaN  ...  NaN  NaN  NaN   \n",
              "5        NaN  NaN  NaN  NaN  NaN  5.0  NaN  NaN  NaN  NaN  ...  NaN  NaN  NaN   \n",
              "\n",
              "userId   604  605  606  607  608  609  610  \n",
              "movieId                                     \n",
              "1        3.0  4.0  2.5  4.0  2.5  3.0  5.0  \n",
              "2        5.0  3.5  NaN  NaN  2.0  NaN  NaN  \n",
              "3        NaN  NaN  NaN  NaN  2.0  NaN  NaN  \n",
              "4        NaN  NaN  NaN  NaN  NaN  NaN  NaN  \n",
              "5        3.0  NaN  NaN  NaN  NaN  NaN  NaN  \n",
              "\n",
              "[5 rows x 610 columns]"
            ],
            "text/html": [
              "\n",
              "  <div id=\"df-d247b28c-99a8-4301-80c0-87af040bdd6c\">\n",
              "    <div class=\"colab-df-container\">\n",
              "      <div>\n",
              "<style scoped>\n",
              "    .dataframe tbody tr th:only-of-type {\n",
              "        vertical-align: middle;\n",
              "    }\n",
              "\n",
              "    .dataframe tbody tr th {\n",
              "        vertical-align: top;\n",
              "    }\n",
              "\n",
              "    .dataframe thead th {\n",
              "        text-align: right;\n",
              "    }\n",
              "</style>\n",
              "<table border=\"1\" class=\"dataframe\">\n",
              "  <thead>\n",
              "    <tr style=\"text-align: right;\">\n",
              "      <th>userId</th>\n",
              "      <th>1</th>\n",
              "      <th>2</th>\n",
              "      <th>3</th>\n",
              "      <th>4</th>\n",
              "      <th>5</th>\n",
              "      <th>6</th>\n",
              "      <th>7</th>\n",
              "      <th>8</th>\n",
              "      <th>9</th>\n",
              "      <th>10</th>\n",
              "      <th>...</th>\n",
              "      <th>601</th>\n",
              "      <th>602</th>\n",
              "      <th>603</th>\n",
              "      <th>604</th>\n",
              "      <th>605</th>\n",
              "      <th>606</th>\n",
              "      <th>607</th>\n",
              "      <th>608</th>\n",
              "      <th>609</th>\n",
              "      <th>610</th>\n",
              "    </tr>\n",
              "    <tr>\n",
              "      <th>movieId</th>\n",
              "      <th></th>\n",
              "      <th></th>\n",
              "      <th></th>\n",
              "      <th></th>\n",
              "      <th></th>\n",
              "      <th></th>\n",
              "      <th></th>\n",
              "      <th></th>\n",
              "      <th></th>\n",
              "      <th></th>\n",
              "      <th></th>\n",
              "      <th></th>\n",
              "      <th></th>\n",
              "      <th></th>\n",
              "      <th></th>\n",
              "      <th></th>\n",
              "      <th></th>\n",
              "      <th></th>\n",
              "      <th></th>\n",
              "      <th></th>\n",
              "      <th></th>\n",
              "    </tr>\n",
              "  </thead>\n",
              "  <tbody>\n",
              "    <tr>\n",
              "      <th>1</th>\n",
              "      <td>4.0</td>\n",
              "      <td>NaN</td>\n",
              "      <td>NaN</td>\n",
              "      <td>NaN</td>\n",
              "      <td>4.0</td>\n",
              "      <td>NaN</td>\n",
              "      <td>4.5</td>\n",
              "      <td>NaN</td>\n",
              "      <td>NaN</td>\n",
              "      <td>NaN</td>\n",
              "      <td>...</td>\n",
              "      <td>4.0</td>\n",
              "      <td>NaN</td>\n",
              "      <td>4.0</td>\n",
              "      <td>3.0</td>\n",
              "      <td>4.0</td>\n",
              "      <td>2.5</td>\n",
              "      <td>4.0</td>\n",
              "      <td>2.5</td>\n",
              "      <td>3.0</td>\n",
              "      <td>5.0</td>\n",
              "    </tr>\n",
              "    <tr>\n",
              "      <th>2</th>\n",
              "      <td>NaN</td>\n",
              "      <td>NaN</td>\n",
              "      <td>NaN</td>\n",
              "      <td>NaN</td>\n",
              "      <td>NaN</td>\n",
              "      <td>4.0</td>\n",
              "      <td>NaN</td>\n",
              "      <td>4.0</td>\n",
              "      <td>NaN</td>\n",
              "      <td>NaN</td>\n",
              "      <td>...</td>\n",
              "      <td>NaN</td>\n",
              "      <td>4.0</td>\n",
              "      <td>NaN</td>\n",
              "      <td>5.0</td>\n",
              "      <td>3.5</td>\n",
              "      <td>NaN</td>\n",
              "      <td>NaN</td>\n",
              "      <td>2.0</td>\n",
              "      <td>NaN</td>\n",
              "      <td>NaN</td>\n",
              "    </tr>\n",
              "    <tr>\n",
              "      <th>3</th>\n",
              "      <td>4.0</td>\n",
              "      <td>NaN</td>\n",
              "      <td>NaN</td>\n",
              "      <td>NaN</td>\n",
              "      <td>NaN</td>\n",
              "      <td>5.0</td>\n",
              "      <td>NaN</td>\n",
              "      <td>NaN</td>\n",
              "      <td>NaN</td>\n",
              "      <td>NaN</td>\n",
              "      <td>...</td>\n",
              "      <td>NaN</td>\n",
              "      <td>NaN</td>\n",
              "      <td>NaN</td>\n",
              "      <td>NaN</td>\n",
              "      <td>NaN</td>\n",
              "      <td>NaN</td>\n",
              "      <td>NaN</td>\n",
              "      <td>2.0</td>\n",
              "      <td>NaN</td>\n",
              "      <td>NaN</td>\n",
              "    </tr>\n",
              "    <tr>\n",
              "      <th>4</th>\n",
              "      <td>NaN</td>\n",
              "      <td>NaN</td>\n",
              "      <td>NaN</td>\n",
              "      <td>NaN</td>\n",
              "      <td>NaN</td>\n",
              "      <td>3.0</td>\n",
              "      <td>NaN</td>\n",
              "      <td>NaN</td>\n",
              "      <td>NaN</td>\n",
              "      <td>NaN</td>\n",
              "      <td>...</td>\n",
              "      <td>NaN</td>\n",
              "      <td>NaN</td>\n",
              "      <td>NaN</td>\n",
              "      <td>NaN</td>\n",
              "      <td>NaN</td>\n",
              "      <td>NaN</td>\n",
              "      <td>NaN</td>\n",
              "      <td>NaN</td>\n",
              "      <td>NaN</td>\n",
              "      <td>NaN</td>\n",
              "    </tr>\n",
              "    <tr>\n",
              "      <th>5</th>\n",
              "      <td>NaN</td>\n",
              "      <td>NaN</td>\n",
              "      <td>NaN</td>\n",
              "      <td>NaN</td>\n",
              "      <td>NaN</td>\n",
              "      <td>5.0</td>\n",
              "      <td>NaN</td>\n",
              "      <td>NaN</td>\n",
              "      <td>NaN</td>\n",
              "      <td>NaN</td>\n",
              "      <td>...</td>\n",
              "      <td>NaN</td>\n",
              "      <td>NaN</td>\n",
              "      <td>NaN</td>\n",
              "      <td>3.0</td>\n",
              "      <td>NaN</td>\n",
              "      <td>NaN</td>\n",
              "      <td>NaN</td>\n",
              "      <td>NaN</td>\n",
              "      <td>NaN</td>\n",
              "      <td>NaN</td>\n",
              "    </tr>\n",
              "  </tbody>\n",
              "</table>\n",
              "<p>5 rows × 610 columns</p>\n",
              "</div>\n",
              "      <button class=\"colab-df-convert\" onclick=\"convertToInteractive('df-d247b28c-99a8-4301-80c0-87af040bdd6c')\"\n",
              "              title=\"Convert this dataframe to an interactive table.\"\n",
              "              style=\"display:none;\">\n",
              "        \n",
              "  <svg xmlns=\"http://www.w3.org/2000/svg\" height=\"24px\"viewBox=\"0 0 24 24\"\n",
              "       width=\"24px\">\n",
              "    <path d=\"M0 0h24v24H0V0z\" fill=\"none\"/>\n",
              "    <path d=\"M18.56 5.44l.94 2.06.94-2.06 2.06-.94-2.06-.94-.94-2.06-.94 2.06-2.06.94zm-11 1L8.5 8.5l.94-2.06 2.06-.94-2.06-.94L8.5 2.5l-.94 2.06-2.06.94zm10 10l.94 2.06.94-2.06 2.06-.94-2.06-.94-.94-2.06-.94 2.06-2.06.94z\"/><path d=\"M17.41 7.96l-1.37-1.37c-.4-.4-.92-.59-1.43-.59-.52 0-1.04.2-1.43.59L10.3 9.45l-7.72 7.72c-.78.78-.78 2.05 0 2.83L4 21.41c.39.39.9.59 1.41.59.51 0 1.02-.2 1.41-.59l7.78-7.78 2.81-2.81c.8-.78.8-2.07 0-2.86zM5.41 20L4 18.59l7.72-7.72 1.47 1.35L5.41 20z\"/>\n",
              "  </svg>\n",
              "      </button>\n",
              "      \n",
              "  <style>\n",
              "    .colab-df-container {\n",
              "      display:flex;\n",
              "      flex-wrap:wrap;\n",
              "      gap: 12px;\n",
              "    }\n",
              "\n",
              "    .colab-df-convert {\n",
              "      background-color: #E8F0FE;\n",
              "      border: none;\n",
              "      border-radius: 50%;\n",
              "      cursor: pointer;\n",
              "      display: none;\n",
              "      fill: #1967D2;\n",
              "      height: 32px;\n",
              "      padding: 0 0 0 0;\n",
              "      width: 32px;\n",
              "    }\n",
              "\n",
              "    .colab-df-convert:hover {\n",
              "      background-color: #E2EBFA;\n",
              "      box-shadow: 0px 1px 2px rgba(60, 64, 67, 0.3), 0px 1px 3px 1px rgba(60, 64, 67, 0.15);\n",
              "      fill: #174EA6;\n",
              "    }\n",
              "\n",
              "    [theme=dark] .colab-df-convert {\n",
              "      background-color: #3B4455;\n",
              "      fill: #D2E3FC;\n",
              "    }\n",
              "\n",
              "    [theme=dark] .colab-df-convert:hover {\n",
              "      background-color: #434B5C;\n",
              "      box-shadow: 0px 1px 3px 1px rgba(0, 0, 0, 0.15);\n",
              "      filter: drop-shadow(0px 1px 2px rgba(0, 0, 0, 0.3));\n",
              "      fill: #FFFFFF;\n",
              "    }\n",
              "  </style>\n",
              "\n",
              "      <script>\n",
              "        const buttonEl =\n",
              "          document.querySelector('#df-d247b28c-99a8-4301-80c0-87af040bdd6c button.colab-df-convert');\n",
              "        buttonEl.style.display =\n",
              "          google.colab.kernel.accessAllowed ? 'block' : 'none';\n",
              "\n",
              "        async function convertToInteractive(key) {\n",
              "          const element = document.querySelector('#df-d247b28c-99a8-4301-80c0-87af040bdd6c');\n",
              "          const dataTable =\n",
              "            await google.colab.kernel.invokeFunction('convertToInteractive',\n",
              "                                                     [key], {});\n",
              "          if (!dataTable) return;\n",
              "\n",
              "          const docLinkHtml = 'Like what you see? Visit the ' +\n",
              "            '<a target=\"_blank\" href=https://colab.research.google.com/notebooks/data_table.ipynb>data table notebook</a>'\n",
              "            + ' to learn more about interactive tables.';\n",
              "          element.innerHTML = '';\n",
              "          dataTable['output_type'] = 'display_data';\n",
              "          await google.colab.output.renderOutput(dataTable, element);\n",
              "          const docLink = document.createElement('div');\n",
              "          docLink.innerHTML = docLinkHtml;\n",
              "          element.appendChild(docLink);\n",
              "        }\n",
              "      </script>\n",
              "    </div>\n",
              "  </div>\n",
              "  "
            ]
          },
          "metadata": {},
          "execution_count": 61
        }
      ],
      "source": [
        "final_dataset = ratings.pivot(index='movieId',columns='userId',values='rating')\n",
        "final_dataset.head()"
      ]
    },
    {
      "cell_type": "code",
      "execution_count": null,
      "metadata": {
        "colab": {
          "base_uri": "https://localhost:8080/",
          "height": 267
        },
        "id": "Hvuys7NiwdAL",
        "outputId": "f1bafd14-4939-4ae4-f243-a20640665532"
      },
      "outputs": [
        {
          "output_type": "execute_result",
          "data": {
            "text/plain": [
              "userId   1    2    3    4    5    6    7    8    9    10   ...  601  602  603  \\\n",
              "movieId                                                    ...                  \n",
              "1        4.0  0.0  0.0  0.0  4.0  0.0  4.5  0.0  0.0  0.0  ...  4.0  0.0  4.0   \n",
              "2        0.0  0.0  0.0  0.0  0.0  4.0  0.0  4.0  0.0  0.0  ...  0.0  4.0  0.0   \n",
              "3        4.0  0.0  0.0  0.0  0.0  5.0  0.0  0.0  0.0  0.0  ...  0.0  0.0  0.0   \n",
              "4        0.0  0.0  0.0  0.0  0.0  3.0  0.0  0.0  0.0  0.0  ...  0.0  0.0  0.0   \n",
              "5        0.0  0.0  0.0  0.0  0.0  5.0  0.0  0.0  0.0  0.0  ...  0.0  0.0  0.0   \n",
              "\n",
              "userId   604  605  606  607  608  609  610  \n",
              "movieId                                     \n",
              "1        3.0  4.0  2.5  4.0  2.5  3.0  5.0  \n",
              "2        5.0  3.5  0.0  0.0  2.0  0.0  0.0  \n",
              "3        0.0  0.0  0.0  0.0  2.0  0.0  0.0  \n",
              "4        0.0  0.0  0.0  0.0  0.0  0.0  0.0  \n",
              "5        3.0  0.0  0.0  0.0  0.0  0.0  0.0  \n",
              "\n",
              "[5 rows x 610 columns]"
            ],
            "text/html": [
              "\n",
              "  <div id=\"df-ef2feec1-7c25-49df-957b-09a7d531ef6d\">\n",
              "    <div class=\"colab-df-container\">\n",
              "      <div>\n",
              "<style scoped>\n",
              "    .dataframe tbody tr th:only-of-type {\n",
              "        vertical-align: middle;\n",
              "    }\n",
              "\n",
              "    .dataframe tbody tr th {\n",
              "        vertical-align: top;\n",
              "    }\n",
              "\n",
              "    .dataframe thead th {\n",
              "        text-align: right;\n",
              "    }\n",
              "</style>\n",
              "<table border=\"1\" class=\"dataframe\">\n",
              "  <thead>\n",
              "    <tr style=\"text-align: right;\">\n",
              "      <th>userId</th>\n",
              "      <th>1</th>\n",
              "      <th>2</th>\n",
              "      <th>3</th>\n",
              "      <th>4</th>\n",
              "      <th>5</th>\n",
              "      <th>6</th>\n",
              "      <th>7</th>\n",
              "      <th>8</th>\n",
              "      <th>9</th>\n",
              "      <th>10</th>\n",
              "      <th>...</th>\n",
              "      <th>601</th>\n",
              "      <th>602</th>\n",
              "      <th>603</th>\n",
              "      <th>604</th>\n",
              "      <th>605</th>\n",
              "      <th>606</th>\n",
              "      <th>607</th>\n",
              "      <th>608</th>\n",
              "      <th>609</th>\n",
              "      <th>610</th>\n",
              "    </tr>\n",
              "    <tr>\n",
              "      <th>movieId</th>\n",
              "      <th></th>\n",
              "      <th></th>\n",
              "      <th></th>\n",
              "      <th></th>\n",
              "      <th></th>\n",
              "      <th></th>\n",
              "      <th></th>\n",
              "      <th></th>\n",
              "      <th></th>\n",
              "      <th></th>\n",
              "      <th></th>\n",
              "      <th></th>\n",
              "      <th></th>\n",
              "      <th></th>\n",
              "      <th></th>\n",
              "      <th></th>\n",
              "      <th></th>\n",
              "      <th></th>\n",
              "      <th></th>\n",
              "      <th></th>\n",
              "      <th></th>\n",
              "    </tr>\n",
              "  </thead>\n",
              "  <tbody>\n",
              "    <tr>\n",
              "      <th>1</th>\n",
              "      <td>4.0</td>\n",
              "      <td>0.0</td>\n",
              "      <td>0.0</td>\n",
              "      <td>0.0</td>\n",
              "      <td>4.0</td>\n",
              "      <td>0.0</td>\n",
              "      <td>4.5</td>\n",
              "      <td>0.0</td>\n",
              "      <td>0.0</td>\n",
              "      <td>0.0</td>\n",
              "      <td>...</td>\n",
              "      <td>4.0</td>\n",
              "      <td>0.0</td>\n",
              "      <td>4.0</td>\n",
              "      <td>3.0</td>\n",
              "      <td>4.0</td>\n",
              "      <td>2.5</td>\n",
              "      <td>4.0</td>\n",
              "      <td>2.5</td>\n",
              "      <td>3.0</td>\n",
              "      <td>5.0</td>\n",
              "    </tr>\n",
              "    <tr>\n",
              "      <th>2</th>\n",
              "      <td>0.0</td>\n",
              "      <td>0.0</td>\n",
              "      <td>0.0</td>\n",
              "      <td>0.0</td>\n",
              "      <td>0.0</td>\n",
              "      <td>4.0</td>\n",
              "      <td>0.0</td>\n",
              "      <td>4.0</td>\n",
              "      <td>0.0</td>\n",
              "      <td>0.0</td>\n",
              "      <td>...</td>\n",
              "      <td>0.0</td>\n",
              "      <td>4.0</td>\n",
              "      <td>0.0</td>\n",
              "      <td>5.0</td>\n",
              "      <td>3.5</td>\n",
              "      <td>0.0</td>\n",
              "      <td>0.0</td>\n",
              "      <td>2.0</td>\n",
              "      <td>0.0</td>\n",
              "      <td>0.0</td>\n",
              "    </tr>\n",
              "    <tr>\n",
              "      <th>3</th>\n",
              "      <td>4.0</td>\n",
              "      <td>0.0</td>\n",
              "      <td>0.0</td>\n",
              "      <td>0.0</td>\n",
              "      <td>0.0</td>\n",
              "      <td>5.0</td>\n",
              "      <td>0.0</td>\n",
              "      <td>0.0</td>\n",
              "      <td>0.0</td>\n",
              "      <td>0.0</td>\n",
              "      <td>...</td>\n",
              "      <td>0.0</td>\n",
              "      <td>0.0</td>\n",
              "      <td>0.0</td>\n",
              "      <td>0.0</td>\n",
              "      <td>0.0</td>\n",
              "      <td>0.0</td>\n",
              "      <td>0.0</td>\n",
              "      <td>2.0</td>\n",
              "      <td>0.0</td>\n",
              "      <td>0.0</td>\n",
              "    </tr>\n",
              "    <tr>\n",
              "      <th>4</th>\n",
              "      <td>0.0</td>\n",
              "      <td>0.0</td>\n",
              "      <td>0.0</td>\n",
              "      <td>0.0</td>\n",
              "      <td>0.0</td>\n",
              "      <td>3.0</td>\n",
              "      <td>0.0</td>\n",
              "      <td>0.0</td>\n",
              "      <td>0.0</td>\n",
              "      <td>0.0</td>\n",
              "      <td>...</td>\n",
              "      <td>0.0</td>\n",
              "      <td>0.0</td>\n",
              "      <td>0.0</td>\n",
              "      <td>0.0</td>\n",
              "      <td>0.0</td>\n",
              "      <td>0.0</td>\n",
              "      <td>0.0</td>\n",
              "      <td>0.0</td>\n",
              "      <td>0.0</td>\n",
              "      <td>0.0</td>\n",
              "    </tr>\n",
              "    <tr>\n",
              "      <th>5</th>\n",
              "      <td>0.0</td>\n",
              "      <td>0.0</td>\n",
              "      <td>0.0</td>\n",
              "      <td>0.0</td>\n",
              "      <td>0.0</td>\n",
              "      <td>5.0</td>\n",
              "      <td>0.0</td>\n",
              "      <td>0.0</td>\n",
              "      <td>0.0</td>\n",
              "      <td>0.0</td>\n",
              "      <td>...</td>\n",
              "      <td>0.0</td>\n",
              "      <td>0.0</td>\n",
              "      <td>0.0</td>\n",
              "      <td>3.0</td>\n",
              "      <td>0.0</td>\n",
              "      <td>0.0</td>\n",
              "      <td>0.0</td>\n",
              "      <td>0.0</td>\n",
              "      <td>0.0</td>\n",
              "      <td>0.0</td>\n",
              "    </tr>\n",
              "  </tbody>\n",
              "</table>\n",
              "<p>5 rows × 610 columns</p>\n",
              "</div>\n",
              "      <button class=\"colab-df-convert\" onclick=\"convertToInteractive('df-ef2feec1-7c25-49df-957b-09a7d531ef6d')\"\n",
              "              title=\"Convert this dataframe to an interactive table.\"\n",
              "              style=\"display:none;\">\n",
              "        \n",
              "  <svg xmlns=\"http://www.w3.org/2000/svg\" height=\"24px\"viewBox=\"0 0 24 24\"\n",
              "       width=\"24px\">\n",
              "    <path d=\"M0 0h24v24H0V0z\" fill=\"none\"/>\n",
              "    <path d=\"M18.56 5.44l.94 2.06.94-2.06 2.06-.94-2.06-.94-.94-2.06-.94 2.06-2.06.94zm-11 1L8.5 8.5l.94-2.06 2.06-.94-2.06-.94L8.5 2.5l-.94 2.06-2.06.94zm10 10l.94 2.06.94-2.06 2.06-.94-2.06-.94-.94-2.06-.94 2.06-2.06.94z\"/><path d=\"M17.41 7.96l-1.37-1.37c-.4-.4-.92-.59-1.43-.59-.52 0-1.04.2-1.43.59L10.3 9.45l-7.72 7.72c-.78.78-.78 2.05 0 2.83L4 21.41c.39.39.9.59 1.41.59.51 0 1.02-.2 1.41-.59l7.78-7.78 2.81-2.81c.8-.78.8-2.07 0-2.86zM5.41 20L4 18.59l7.72-7.72 1.47 1.35L5.41 20z\"/>\n",
              "  </svg>\n",
              "      </button>\n",
              "      \n",
              "  <style>\n",
              "    .colab-df-container {\n",
              "      display:flex;\n",
              "      flex-wrap:wrap;\n",
              "      gap: 12px;\n",
              "    }\n",
              "\n",
              "    .colab-df-convert {\n",
              "      background-color: #E8F0FE;\n",
              "      border: none;\n",
              "      border-radius: 50%;\n",
              "      cursor: pointer;\n",
              "      display: none;\n",
              "      fill: #1967D2;\n",
              "      height: 32px;\n",
              "      padding: 0 0 0 0;\n",
              "      width: 32px;\n",
              "    }\n",
              "\n",
              "    .colab-df-convert:hover {\n",
              "      background-color: #E2EBFA;\n",
              "      box-shadow: 0px 1px 2px rgba(60, 64, 67, 0.3), 0px 1px 3px 1px rgba(60, 64, 67, 0.15);\n",
              "      fill: #174EA6;\n",
              "    }\n",
              "\n",
              "    [theme=dark] .colab-df-convert {\n",
              "      background-color: #3B4455;\n",
              "      fill: #D2E3FC;\n",
              "    }\n",
              "\n",
              "    [theme=dark] .colab-df-convert:hover {\n",
              "      background-color: #434B5C;\n",
              "      box-shadow: 0px 1px 3px 1px rgba(0, 0, 0, 0.15);\n",
              "      filter: drop-shadow(0px 1px 2px rgba(0, 0, 0, 0.3));\n",
              "      fill: #FFFFFF;\n",
              "    }\n",
              "  </style>\n",
              "\n",
              "      <script>\n",
              "        const buttonEl =\n",
              "          document.querySelector('#df-ef2feec1-7c25-49df-957b-09a7d531ef6d button.colab-df-convert');\n",
              "        buttonEl.style.display =\n",
              "          google.colab.kernel.accessAllowed ? 'block' : 'none';\n",
              "\n",
              "        async function convertToInteractive(key) {\n",
              "          const element = document.querySelector('#df-ef2feec1-7c25-49df-957b-09a7d531ef6d');\n",
              "          const dataTable =\n",
              "            await google.colab.kernel.invokeFunction('convertToInteractive',\n",
              "                                                     [key], {});\n",
              "          if (!dataTable) return;\n",
              "\n",
              "          const docLinkHtml = 'Like what you see? Visit the ' +\n",
              "            '<a target=\"_blank\" href=https://colab.research.google.com/notebooks/data_table.ipynb>data table notebook</a>'\n",
              "            + ' to learn more about interactive tables.';\n",
              "          element.innerHTML = '';\n",
              "          dataTable['output_type'] = 'display_data';\n",
              "          await google.colab.output.renderOutput(dataTable, element);\n",
              "          const docLink = document.createElement('div');\n",
              "          docLink.innerHTML = docLinkHtml;\n",
              "          element.appendChild(docLink);\n",
              "        }\n",
              "      </script>\n",
              "    </div>\n",
              "  </div>\n",
              "  "
            ]
          },
          "metadata": {},
          "execution_count": 62
        }
      ],
      "source": [
        "final_dataset.fillna(0,inplace=True)\n",
        "final_dataset.head()"
      ]
    },
    {
      "cell_type": "code",
      "execution_count": null,
      "metadata": {
        "colab": {
          "base_uri": "https://localhost:8080/"
        },
        "id": "r08M5me3wm0E",
        "outputId": "c64626a2-6ad5-4103-841b-00db27baf6e2"
      },
      "outputs": [
        {
          "output_type": "stream",
          "name": "stdout",
          "text": [
            "movieId\n",
            "1         215\n",
            "2         110\n",
            "3          52\n",
            "4           7\n",
            "5          49\n",
            "         ... \n",
            "193581      1\n",
            "193583      1\n",
            "193585      1\n",
            "193587      1\n",
            "193609      1\n",
            "Name: rating, Length: 9724, dtype: int64\n",
            "userId\n",
            "1       232\n",
            "2        29\n",
            "3        39\n",
            "4       216\n",
            "5        44\n",
            "       ... \n",
            "606    1115\n",
            "607     187\n",
            "608     831\n",
            "609      37\n",
            "610    1302\n",
            "Name: rating, Length: 610, dtype: int64\n"
          ]
        }
      ],
      "source": [
        "no_user_voted = ratings.groupby('movieId')['rating'].agg('count')\n",
        "print(no_user_voted)\n",
        "no_movies_voted = ratings.groupby('userId')['rating'].agg('count')\n",
        "print(no_movies_voted)"
      ]
    },
    {
      "cell_type": "code",
      "execution_count": null,
      "metadata": {
        "id": "hGHxmTM8w6EE"
      },
      "outputs": [],
      "source": [
        "final_dataset = final_dataset.loc[no_user_voted[no_user_voted > 10].index,:]"
      ]
    },
    {
      "cell_type": "code",
      "execution_count": null,
      "metadata": {
        "colab": {
          "base_uri": "https://localhost:8080/",
          "height": 455
        },
        "id": "PVZgE-lXxBML",
        "outputId": "714529b5-a9b4-4506-d73d-48927aa11ccf"
      },
      "outputs": [
        {
          "output_type": "execute_result",
          "data": {
            "text/plain": [
              "userId   1    4    6    7    10   11   15   16   17   18   ...  600  601  602  \\\n",
              "movieId                                                    ...                  \n",
              "1        4.0  0.0  0.0  4.5  0.0  0.0  2.5  0.0  4.5  3.5  ...  2.5  4.0  0.0   \n",
              "2        0.0  0.0  4.0  0.0  0.0  0.0  0.0  0.0  0.0  3.0  ...  4.0  0.0  4.0   \n",
              "3        4.0  0.0  5.0  0.0  0.0  0.0  0.0  0.0  0.0  0.0  ...  0.0  0.0  0.0   \n",
              "5        0.0  0.0  5.0  0.0  0.0  0.0  0.0  0.0  0.0  0.0  ...  2.5  0.0  0.0   \n",
              "6        4.0  0.0  4.0  0.0  0.0  5.0  0.0  0.0  0.0  4.0  ...  0.0  0.0  3.0   \n",
              "...      ...  ...  ...  ...  ...  ...  ...  ...  ...  ...  ...  ...  ...  ...   \n",
              "174055   0.0  0.0  0.0  0.0  0.0  0.0  0.0  0.0  0.0  0.0  ...  0.0  4.0  0.0   \n",
              "176371   0.0  0.0  0.0  0.0  0.0  0.0  0.0  0.0  0.0  0.0  ...  0.0  4.0  0.0   \n",
              "177765   0.0  0.0  0.0  0.0  0.0  0.0  0.0  0.0  0.0  0.0  ...  0.0  4.5  0.0   \n",
              "179819   0.0  0.0  0.0  0.0  0.0  0.0  0.0  0.0  0.0  0.0  ...  0.0  0.0  0.0   \n",
              "187593   0.0  0.0  0.0  0.0  0.0  0.0  0.0  0.0  0.0  0.0  ...  0.0  0.0  0.0   \n",
              "\n",
              "userId   603  604  605  606  607  608  610  \n",
              "movieId                                     \n",
              "1        4.0  3.0  4.0  2.5  4.0  2.5  5.0  \n",
              "2        0.0  5.0  3.5  0.0  0.0  2.0  0.0  \n",
              "3        0.0  0.0  0.0  0.0  0.0  2.0  0.0  \n",
              "5        0.0  3.0  0.0  0.0  0.0  0.0  0.0  \n",
              "6        4.0  3.0  0.0  0.0  0.0  0.0  5.0  \n",
              "...      ...  ...  ...  ...  ...  ...  ...  \n",
              "174055   0.0  0.0  0.0  0.0  0.0  0.0  0.0  \n",
              "176371   0.0  0.0  0.0  0.0  0.0  0.0  0.0  \n",
              "177765   0.0  0.0  0.0  0.0  0.0  0.0  0.0  \n",
              "179819   0.0  0.0  0.0  0.0  0.0  0.0  0.0  \n",
              "187593   0.0  0.0  0.0  0.0  0.0  0.0  0.0  \n",
              "\n",
              "[2121 rows x 378 columns]"
            ],
            "text/html": [
              "\n",
              "  <div id=\"df-9e9a1d09-4f81-4dfd-854b-d9cd0a17e9f6\">\n",
              "    <div class=\"colab-df-container\">\n",
              "      <div>\n",
              "<style scoped>\n",
              "    .dataframe tbody tr th:only-of-type {\n",
              "        vertical-align: middle;\n",
              "    }\n",
              "\n",
              "    .dataframe tbody tr th {\n",
              "        vertical-align: top;\n",
              "    }\n",
              "\n",
              "    .dataframe thead th {\n",
              "        text-align: right;\n",
              "    }\n",
              "</style>\n",
              "<table border=\"1\" class=\"dataframe\">\n",
              "  <thead>\n",
              "    <tr style=\"text-align: right;\">\n",
              "      <th>userId</th>\n",
              "      <th>1</th>\n",
              "      <th>4</th>\n",
              "      <th>6</th>\n",
              "      <th>7</th>\n",
              "      <th>10</th>\n",
              "      <th>11</th>\n",
              "      <th>15</th>\n",
              "      <th>16</th>\n",
              "      <th>17</th>\n",
              "      <th>18</th>\n",
              "      <th>...</th>\n",
              "      <th>600</th>\n",
              "      <th>601</th>\n",
              "      <th>602</th>\n",
              "      <th>603</th>\n",
              "      <th>604</th>\n",
              "      <th>605</th>\n",
              "      <th>606</th>\n",
              "      <th>607</th>\n",
              "      <th>608</th>\n",
              "      <th>610</th>\n",
              "    </tr>\n",
              "    <tr>\n",
              "      <th>movieId</th>\n",
              "      <th></th>\n",
              "      <th></th>\n",
              "      <th></th>\n",
              "      <th></th>\n",
              "      <th></th>\n",
              "      <th></th>\n",
              "      <th></th>\n",
              "      <th></th>\n",
              "      <th></th>\n",
              "      <th></th>\n",
              "      <th></th>\n",
              "      <th></th>\n",
              "      <th></th>\n",
              "      <th></th>\n",
              "      <th></th>\n",
              "      <th></th>\n",
              "      <th></th>\n",
              "      <th></th>\n",
              "      <th></th>\n",
              "      <th></th>\n",
              "      <th></th>\n",
              "    </tr>\n",
              "  </thead>\n",
              "  <tbody>\n",
              "    <tr>\n",
              "      <th>1</th>\n",
              "      <td>4.0</td>\n",
              "      <td>0.0</td>\n",
              "      <td>0.0</td>\n",
              "      <td>4.5</td>\n",
              "      <td>0.0</td>\n",
              "      <td>0.0</td>\n",
              "      <td>2.5</td>\n",
              "      <td>0.0</td>\n",
              "      <td>4.5</td>\n",
              "      <td>3.5</td>\n",
              "      <td>...</td>\n",
              "      <td>2.5</td>\n",
              "      <td>4.0</td>\n",
              "      <td>0.0</td>\n",
              "      <td>4.0</td>\n",
              "      <td>3.0</td>\n",
              "      <td>4.0</td>\n",
              "      <td>2.5</td>\n",
              "      <td>4.0</td>\n",
              "      <td>2.5</td>\n",
              "      <td>5.0</td>\n",
              "    </tr>\n",
              "    <tr>\n",
              "      <th>2</th>\n",
              "      <td>0.0</td>\n",
              "      <td>0.0</td>\n",
              "      <td>4.0</td>\n",
              "      <td>0.0</td>\n",
              "      <td>0.0</td>\n",
              "      <td>0.0</td>\n",
              "      <td>0.0</td>\n",
              "      <td>0.0</td>\n",
              "      <td>0.0</td>\n",
              "      <td>3.0</td>\n",
              "      <td>...</td>\n",
              "      <td>4.0</td>\n",
              "      <td>0.0</td>\n",
              "      <td>4.0</td>\n",
              "      <td>0.0</td>\n",
              "      <td>5.0</td>\n",
              "      <td>3.5</td>\n",
              "      <td>0.0</td>\n",
              "      <td>0.0</td>\n",
              "      <td>2.0</td>\n",
              "      <td>0.0</td>\n",
              "    </tr>\n",
              "    <tr>\n",
              "      <th>3</th>\n",
              "      <td>4.0</td>\n",
              "      <td>0.0</td>\n",
              "      <td>5.0</td>\n",
              "      <td>0.0</td>\n",
              "      <td>0.0</td>\n",
              "      <td>0.0</td>\n",
              "      <td>0.0</td>\n",
              "      <td>0.0</td>\n",
              "      <td>0.0</td>\n",
              "      <td>0.0</td>\n",
              "      <td>...</td>\n",
              "      <td>0.0</td>\n",
              "      <td>0.0</td>\n",
              "      <td>0.0</td>\n",
              "      <td>0.0</td>\n",
              "      <td>0.0</td>\n",
              "      <td>0.0</td>\n",
              "      <td>0.0</td>\n",
              "      <td>0.0</td>\n",
              "      <td>2.0</td>\n",
              "      <td>0.0</td>\n",
              "    </tr>\n",
              "    <tr>\n",
              "      <th>5</th>\n",
              "      <td>0.0</td>\n",
              "      <td>0.0</td>\n",
              "      <td>5.0</td>\n",
              "      <td>0.0</td>\n",
              "      <td>0.0</td>\n",
              "      <td>0.0</td>\n",
              "      <td>0.0</td>\n",
              "      <td>0.0</td>\n",
              "      <td>0.0</td>\n",
              "      <td>0.0</td>\n",
              "      <td>...</td>\n",
              "      <td>2.5</td>\n",
              "      <td>0.0</td>\n",
              "      <td>0.0</td>\n",
              "      <td>0.0</td>\n",
              "      <td>3.0</td>\n",
              "      <td>0.0</td>\n",
              "      <td>0.0</td>\n",
              "      <td>0.0</td>\n",
              "      <td>0.0</td>\n",
              "      <td>0.0</td>\n",
              "    </tr>\n",
              "    <tr>\n",
              "      <th>6</th>\n",
              "      <td>4.0</td>\n",
              "      <td>0.0</td>\n",
              "      <td>4.0</td>\n",
              "      <td>0.0</td>\n",
              "      <td>0.0</td>\n",
              "      <td>5.0</td>\n",
              "      <td>0.0</td>\n",
              "      <td>0.0</td>\n",
              "      <td>0.0</td>\n",
              "      <td>4.0</td>\n",
              "      <td>...</td>\n",
              "      <td>0.0</td>\n",
              "      <td>0.0</td>\n",
              "      <td>3.0</td>\n",
              "      <td>4.0</td>\n",
              "      <td>3.0</td>\n",
              "      <td>0.0</td>\n",
              "      <td>0.0</td>\n",
              "      <td>0.0</td>\n",
              "      <td>0.0</td>\n",
              "      <td>5.0</td>\n",
              "    </tr>\n",
              "    <tr>\n",
              "      <th>...</th>\n",
              "      <td>...</td>\n",
              "      <td>...</td>\n",
              "      <td>...</td>\n",
              "      <td>...</td>\n",
              "      <td>...</td>\n",
              "      <td>...</td>\n",
              "      <td>...</td>\n",
              "      <td>...</td>\n",
              "      <td>...</td>\n",
              "      <td>...</td>\n",
              "      <td>...</td>\n",
              "      <td>...</td>\n",
              "      <td>...</td>\n",
              "      <td>...</td>\n",
              "      <td>...</td>\n",
              "      <td>...</td>\n",
              "      <td>...</td>\n",
              "      <td>...</td>\n",
              "      <td>...</td>\n",
              "      <td>...</td>\n",
              "      <td>...</td>\n",
              "    </tr>\n",
              "    <tr>\n",
              "      <th>174055</th>\n",
              "      <td>0.0</td>\n",
              "      <td>0.0</td>\n",
              "      <td>0.0</td>\n",
              "      <td>0.0</td>\n",
              "      <td>0.0</td>\n",
              "      <td>0.0</td>\n",
              "      <td>0.0</td>\n",
              "      <td>0.0</td>\n",
              "      <td>0.0</td>\n",
              "      <td>0.0</td>\n",
              "      <td>...</td>\n",
              "      <td>0.0</td>\n",
              "      <td>4.0</td>\n",
              "      <td>0.0</td>\n",
              "      <td>0.0</td>\n",
              "      <td>0.0</td>\n",
              "      <td>0.0</td>\n",
              "      <td>0.0</td>\n",
              "      <td>0.0</td>\n",
              "      <td>0.0</td>\n",
              "      <td>0.0</td>\n",
              "    </tr>\n",
              "    <tr>\n",
              "      <th>176371</th>\n",
              "      <td>0.0</td>\n",
              "      <td>0.0</td>\n",
              "      <td>0.0</td>\n",
              "      <td>0.0</td>\n",
              "      <td>0.0</td>\n",
              "      <td>0.0</td>\n",
              "      <td>0.0</td>\n",
              "      <td>0.0</td>\n",
              "      <td>0.0</td>\n",
              "      <td>0.0</td>\n",
              "      <td>...</td>\n",
              "      <td>0.0</td>\n",
              "      <td>4.0</td>\n",
              "      <td>0.0</td>\n",
              "      <td>0.0</td>\n",
              "      <td>0.0</td>\n",
              "      <td>0.0</td>\n",
              "      <td>0.0</td>\n",
              "      <td>0.0</td>\n",
              "      <td>0.0</td>\n",
              "      <td>0.0</td>\n",
              "    </tr>\n",
              "    <tr>\n",
              "      <th>177765</th>\n",
              "      <td>0.0</td>\n",
              "      <td>0.0</td>\n",
              "      <td>0.0</td>\n",
              "      <td>0.0</td>\n",
              "      <td>0.0</td>\n",
              "      <td>0.0</td>\n",
              "      <td>0.0</td>\n",
              "      <td>0.0</td>\n",
              "      <td>0.0</td>\n",
              "      <td>0.0</td>\n",
              "      <td>...</td>\n",
              "      <td>0.0</td>\n",
              "      <td>4.5</td>\n",
              "      <td>0.0</td>\n",
              "      <td>0.0</td>\n",
              "      <td>0.0</td>\n",
              "      <td>0.0</td>\n",
              "      <td>0.0</td>\n",
              "      <td>0.0</td>\n",
              "      <td>0.0</td>\n",
              "      <td>0.0</td>\n",
              "    </tr>\n",
              "    <tr>\n",
              "      <th>179819</th>\n",
              "      <td>0.0</td>\n",
              "      <td>0.0</td>\n",
              "      <td>0.0</td>\n",
              "      <td>0.0</td>\n",
              "      <td>0.0</td>\n",
              "      <td>0.0</td>\n",
              "      <td>0.0</td>\n",
              "      <td>0.0</td>\n",
              "      <td>0.0</td>\n",
              "      <td>0.0</td>\n",
              "      <td>...</td>\n",
              "      <td>0.0</td>\n",
              "      <td>0.0</td>\n",
              "      <td>0.0</td>\n",
              "      <td>0.0</td>\n",
              "      <td>0.0</td>\n",
              "      <td>0.0</td>\n",
              "      <td>0.0</td>\n",
              "      <td>0.0</td>\n",
              "      <td>0.0</td>\n",
              "      <td>0.0</td>\n",
              "    </tr>\n",
              "    <tr>\n",
              "      <th>187593</th>\n",
              "      <td>0.0</td>\n",
              "      <td>0.0</td>\n",
              "      <td>0.0</td>\n",
              "      <td>0.0</td>\n",
              "      <td>0.0</td>\n",
              "      <td>0.0</td>\n",
              "      <td>0.0</td>\n",
              "      <td>0.0</td>\n",
              "      <td>0.0</td>\n",
              "      <td>0.0</td>\n",
              "      <td>...</td>\n",
              "      <td>0.0</td>\n",
              "      <td>0.0</td>\n",
              "      <td>0.0</td>\n",
              "      <td>0.0</td>\n",
              "      <td>0.0</td>\n",
              "      <td>0.0</td>\n",
              "      <td>0.0</td>\n",
              "      <td>0.0</td>\n",
              "      <td>0.0</td>\n",
              "      <td>0.0</td>\n",
              "    </tr>\n",
              "  </tbody>\n",
              "</table>\n",
              "<p>2121 rows × 378 columns</p>\n",
              "</div>\n",
              "      <button class=\"colab-df-convert\" onclick=\"convertToInteractive('df-9e9a1d09-4f81-4dfd-854b-d9cd0a17e9f6')\"\n",
              "              title=\"Convert this dataframe to an interactive table.\"\n",
              "              style=\"display:none;\">\n",
              "        \n",
              "  <svg xmlns=\"http://www.w3.org/2000/svg\" height=\"24px\"viewBox=\"0 0 24 24\"\n",
              "       width=\"24px\">\n",
              "    <path d=\"M0 0h24v24H0V0z\" fill=\"none\"/>\n",
              "    <path d=\"M18.56 5.44l.94 2.06.94-2.06 2.06-.94-2.06-.94-.94-2.06-.94 2.06-2.06.94zm-11 1L8.5 8.5l.94-2.06 2.06-.94-2.06-.94L8.5 2.5l-.94 2.06-2.06.94zm10 10l.94 2.06.94-2.06 2.06-.94-2.06-.94-.94-2.06-.94 2.06-2.06.94z\"/><path d=\"M17.41 7.96l-1.37-1.37c-.4-.4-.92-.59-1.43-.59-.52 0-1.04.2-1.43.59L10.3 9.45l-7.72 7.72c-.78.78-.78 2.05 0 2.83L4 21.41c.39.39.9.59 1.41.59.51 0 1.02-.2 1.41-.59l7.78-7.78 2.81-2.81c.8-.78.8-2.07 0-2.86zM5.41 20L4 18.59l7.72-7.72 1.47 1.35L5.41 20z\"/>\n",
              "  </svg>\n",
              "      </button>\n",
              "      \n",
              "  <style>\n",
              "    .colab-df-container {\n",
              "      display:flex;\n",
              "      flex-wrap:wrap;\n",
              "      gap: 12px;\n",
              "    }\n",
              "\n",
              "    .colab-df-convert {\n",
              "      background-color: #E8F0FE;\n",
              "      border: none;\n",
              "      border-radius: 50%;\n",
              "      cursor: pointer;\n",
              "      display: none;\n",
              "      fill: #1967D2;\n",
              "      height: 32px;\n",
              "      padding: 0 0 0 0;\n",
              "      width: 32px;\n",
              "    }\n",
              "\n",
              "    .colab-df-convert:hover {\n",
              "      background-color: #E2EBFA;\n",
              "      box-shadow: 0px 1px 2px rgba(60, 64, 67, 0.3), 0px 1px 3px 1px rgba(60, 64, 67, 0.15);\n",
              "      fill: #174EA6;\n",
              "    }\n",
              "\n",
              "    [theme=dark] .colab-df-convert {\n",
              "      background-color: #3B4455;\n",
              "      fill: #D2E3FC;\n",
              "    }\n",
              "\n",
              "    [theme=dark] .colab-df-convert:hover {\n",
              "      background-color: #434B5C;\n",
              "      box-shadow: 0px 1px 3px 1px rgba(0, 0, 0, 0.15);\n",
              "      filter: drop-shadow(0px 1px 2px rgba(0, 0, 0, 0.3));\n",
              "      fill: #FFFFFF;\n",
              "    }\n",
              "  </style>\n",
              "\n",
              "      <script>\n",
              "        const buttonEl =\n",
              "          document.querySelector('#df-9e9a1d09-4f81-4dfd-854b-d9cd0a17e9f6 button.colab-df-convert');\n",
              "        buttonEl.style.display =\n",
              "          google.colab.kernel.accessAllowed ? 'block' : 'none';\n",
              "\n",
              "        async function convertToInteractive(key) {\n",
              "          const element = document.querySelector('#df-9e9a1d09-4f81-4dfd-854b-d9cd0a17e9f6');\n",
              "          const dataTable =\n",
              "            await google.colab.kernel.invokeFunction('convertToInteractive',\n",
              "                                                     [key], {});\n",
              "          if (!dataTable) return;\n",
              "\n",
              "          const docLinkHtml = 'Like what you see? Visit the ' +\n",
              "            '<a target=\"_blank\" href=https://colab.research.google.com/notebooks/data_table.ipynb>data table notebook</a>'\n",
              "            + ' to learn more about interactive tables.';\n",
              "          element.innerHTML = '';\n",
              "          dataTable['output_type'] = 'display_data';\n",
              "          await google.colab.output.renderOutput(dataTable, element);\n",
              "          const docLink = document.createElement('div');\n",
              "          docLink.innerHTML = docLinkHtml;\n",
              "          element.appendChild(docLink);\n",
              "        }\n",
              "      </script>\n",
              "    </div>\n",
              "  </div>\n",
              "  "
            ]
          },
          "metadata": {},
          "execution_count": 65
        }
      ],
      "source": [
        "final_dataset=final_dataset.loc[:,no_movies_voted[no_movies_voted > 50].index]\n",
        "final_dataset"
      ]
    },
    {
      "cell_type": "code",
      "execution_count": null,
      "metadata": {
        "colab": {
          "base_uri": "https://localhost:8080/"
        },
        "id": "ukBfN58wxl4T",
        "outputId": "dcde4259-b9b1-4d74-f915-992bd5e45b4b"
      },
      "outputs": [
        {
          "output_type": "stream",
          "name": "stdout",
          "text": [
            "0.7333333333333334\n"
          ]
        }
      ],
      "source": [
        "sample = np.array([[0,0,3,0,0],[4,0,0,0,2],[0,0,0,0,1]])\n",
        "sparsity = 1.0 - ( np.count_nonzero(sample) / float(sample.size) )\n",
        "print(sparsity)"
      ]
    },
    {
      "cell_type": "code",
      "execution_count": null,
      "metadata": {
        "colab": {
          "base_uri": "https://localhost:8080/"
        },
        "id": "DZGv5EucyVWC",
        "outputId": "5e607e4d-a733-4a71-b4e4-d405a06db50a"
      },
      "outputs": [
        {
          "output_type": "stream",
          "name": "stdout",
          "text": [
            "  (0, 2)\t3\n",
            "  (1, 0)\t4\n",
            "  (1, 4)\t2\n",
            "  (2, 4)\t1\n"
          ]
        }
      ],
      "source": [
        "csr_sample = csr_matrix(sample)\n",
        "print(csr_sample)"
      ]
    },
    {
      "cell_type": "code",
      "execution_count": null,
      "metadata": {
        "id": "vs9uz9dkyn4L"
      },
      "outputs": [],
      "source": [
        "csr_data = csr_matrix(final_dataset.values)\n",
        "final_dataset.reset_index(inplace=True)"
      ]
    },
    {
      "cell_type": "code",
      "execution_count": null,
      "metadata": {
        "colab": {
          "base_uri": "https://localhost:8080/"
        },
        "id": "dKqbpvREywzT",
        "outputId": "9079062a-af2f-411e-e944-ce8588e401fc"
      },
      "outputs": [
        {
          "output_type": "execute_result",
          "data": {
            "text/plain": [
              "NearestNeighbors(algorithm='brute', metric='cosine', n_jobs=-1, n_neighbors=20)"
            ]
          },
          "metadata": {},
          "execution_count": 69
        }
      ],
      "source": [
        "knn = NearestNeighbors(metric='cosine', algorithm='brute', n_neighbors=20, n_jobs=-1)\n",
        "knn.fit(csr_data)"
      ]
    },
    {
      "cell_type": "code",
      "execution_count": null,
      "metadata": {
        "id": "sLTUSgKmzBM8"
      },
      "outputs": [],
      "source": [
        "def get_movie_recommendation(movie_name):\n",
        "    n_movies_to_reccomend = 10\n",
        "    movie_list = movies[movies['title'].str.contains(movie_name)]\n",
        "    if len(movie_list):\n",
        "        movie_idx= movie_list.iloc[0]['movieId']\n",
        "        movie_idx = final_dataset[final_dataset['movieId'] == movie_idx].index[0]\n",
        "        distances , indices = knn.kneighbors(csr_data[movie_idx],n_neighbors=n_movies_to_reccomend+1)\n",
        "        rec_movie_indices = sorted(list(zip(indices.squeeze().tolist(),distances.squeeze().tolist())),key=lambda x: x[1])[:0:-1]\n",
        "        recommend_frame = []\n",
        "        for val in rec_movie_indices:\n",
        "            movie_idx = final_dataset.iloc[val[0]]['movieId']\n",
        "            idx = movies[movies['movieId'] == movie_idx].index\n",
        "            recommend_frame.append({'Title':movies.iloc[idx]['title'].values[0],'Distance':val[1]})\n",
        "        df = pd.DataFrame(recommend_frame,index=range(1,n_movies_to_reccomend+1))\n",
        "        return df['Title']\n",
        "    else:\n",
        "        return \"No movies found. Please check your input\""
      ]
    },
    {
      "cell_type": "code",
      "execution_count": null,
      "metadata": {
        "id": "dEhRZNvHzHsF"
      },
      "outputs": [],
      "source": [
        "x=get_movie_recommendation('Avengers')"
      ]
    },
    {
      "cell_type": "code",
      "execution_count": null,
      "metadata": {
        "colab": {
          "base_uri": "https://localhost:8080/"
        },
        "id": "HXP58bj3Udo5",
        "outputId": "c16d7a74-22bf-45dc-e511-7264cb174cf9"
      },
      "outputs": [
        {
          "output_type": "stream",
          "name": "stdout",
          "text": [
            "1                                        Matilda (1996)\n",
            "2                                  Haunting, The (1999)\n",
            "3                                 Mercury Rising (1998)\n",
            "4                        Speed 2: Cruise Control (1997)\n",
            "5                                 Reindeer Games (2000)\n",
            "6                                     Snake Eyes (1998)\n",
            "7     William Shakespeare's A Midsummer Night's Drea...\n",
            "8                                       Anaconda (1997)\n",
            "9                                      Edge, The (1997)\n",
            "10                                        Sphere (1998)\n",
            "Name: Title, dtype: object\n"
          ]
        }
      ],
      "source": [
        "print(x)"
      ]
    },
    {
      "cell_type": "code",
      "execution_count": null,
      "metadata": {
        "colab": {
          "base_uri": "https://localhost:8080/"
        },
        "id": "F65Zv_Pksrr_",
        "outputId": "8b1b88c2-5a73-4b5a-8df6-c2e8135e33d4"
      },
      "outputs": [
        {
          "output_type": "execute_result",
          "data": {
            "text/plain": [
              "1                                    Barton Fink (1991)\n",
              "2                            Intolerable Cruelty (2003)\n",
              "3                    Big Trouble in Little China (1986)\n",
              "4                      Man Who Wasn't There, The (2001)\n",
              "5                  Twin Peaks: Fire Walk with Me (1992)\n",
              "6                            Lost in Translation (2003)\n",
              "7                                       WarGames (1983)\n",
              "8                       Witches of Eastwick, The (1987)\n",
              "9     Master and Commander: The Far Side of the Worl...\n",
              "10               Crocodile Dundee in Los Angeles (2001)\n",
              "Name: Title, dtype: object"
            ]
          },
          "metadata": {},
          "execution_count": 73
        }
      ],
      "source": [
        "x.map(str)"
      ]
    },
    {
      "cell_type": "markdown",
      "metadata": {
        "id": "yOz7aqBuLkI_"
      },
      "source": [
        "Books Recommenadtion"
      ]
    },
    {
      "cell_type": "code",
      "execution_count": null,
      "metadata": {
        "colab": {
          "base_uri": "https://localhost:8080/"
        },
        "id": "VuwF8h_3Ls9h",
        "outputId": "62f0404f-81a1-4e3c-ec16-56cb4daa4b36"
      },
      "outputs": [
        {
          "output_type": "stream",
          "name": "stdout",
          "text": [
            "[nltk_data] Downloading package stopwords to /root/nltk_data...\n",
            "[nltk_data]   Package stopwords is already up-to-date!\n"
          ]
        }
      ],
      "source": [
        "# Importing necessary libraries\n",
        "import pandas as pd\n",
        "import numpy as np\n",
        "import nltk\n",
        "nltk.download('stopwords')\n",
        "from nltk.corpus import stopwords\n",
        "from sklearn.metrics.pairwise import linear_kernel\n",
        "from sklearn.feature_extraction.text import CountVectorizer\n",
        "from sklearn.feature_extraction.text import TfidfVectorizer\n",
        "from nltk.tokenize import RegexpTokenizer\n",
        "import re\n",
        "import string\n",
        "import random\n",
        "from PIL import Image\n",
        "import requests\n",
        "from io import BytesIO\n",
        "import matplotlib.pyplot as plt\n",
        "%matplotlib inline\n",
        "from sklearn.metrics.pairwise import cosine_similarity\n",
        "from gensim.models import Word2Vec\n",
        "from gensim.models.phrases import Phrases, Phraser\n",
        "from matplotlib import pyplot\n",
        "from gensim.models import KeyedVectors"
      ]
    },
    {
      "cell_type": "code",
      "execution_count": null,
      "metadata": {
        "id": "S18xRo1PMEuD"
      },
      "outputs": [],
      "source": [
        "# Reading the data\n",
        "df = pd.read_excel(\"data.xlsx\")\n",
        "df.to_csv (\"Test.csv\", index = None,header=True)\n",
        "df = pd.DataFrame(pd.read_csv(\"Test.csv\"))"
      ]
    },
    {
      "cell_type": "code",
      "execution_count": null,
      "metadata": {
        "id": "Smq2joAQMwiM"
      },
      "outputs": [],
      "source": [
        "#Utitlity functions for removing ASCII characters, converting lower case, removing stop words, html and punctuation from description\n",
        "\n",
        "def _removeNonAscii(s):\n",
        "    return \"\".join(i for i in s if  ord(i)<128)\n",
        "\n",
        "def make_lower_case(text):\n",
        "    return text.lower()\n",
        "\n",
        "def remove_stop_words(text):\n",
        "    text = text.split()\n",
        "    stops = set(stopwords.words(\"english\"))\n",
        "    text = [w for w in text if not w in stops]\n",
        "    text = \" \".join(text)\n",
        "    return text\n",
        "\n",
        "def remove_html(text):\n",
        "    html_pattern = re.compile('<.*?>')\n",
        "    return html_pattern.sub(r'', text)\n",
        "\n",
        "def remove_punctuation(text):\n",
        "    tokenizer = RegexpTokenizer(r'\\w+')\n",
        "    text = tokenizer.tokenize(text)\n",
        "    text = \" \".join(text)\n",
        "    return text"
      ]
    },
    {
      "cell_type": "code",
      "execution_count": null,
      "metadata": {
        "id": "1THrKJESMz_H"
      },
      "outputs": [],
      "source": [
        "df['Desc'] = df['Desc'].astype(str)"
      ]
    },
    {
      "cell_type": "code",
      "execution_count": null,
      "metadata": {
        "id": "tM45D8IIM3ZR"
      },
      "outputs": [],
      "source": [
        "df['cleaned'] = df['Desc'].apply(_removeNonAscii)\n",
        "\n",
        "df['cleaned'] = df.cleaned.apply(func = make_lower_case)\n",
        "df['cleaned'] = df.cleaned.apply(func = remove_stop_words)\n",
        "df['cleaned'] = df.cleaned.apply(func=remove_punctuation)\n",
        "df['cleaned'] = df.cleaned.apply(func=remove_html)"
      ]
    },
    {
      "cell_type": "code",
      "execution_count": null,
      "metadata": {
        "colab": {
          "base_uri": "https://localhost:8080/",
          "height": 372
        },
        "id": "tG918ZK1M7N8",
        "outputId": "6d822eea-e528-4333-dc1c-23db25d19942"
      },
      "outputs": [
        {
          "output_type": "execute_result",
          "data": {
            "text/plain": [
              "<matplotlib.axes._subplots.AxesSubplot at 0x7fc904b7ca50>"
            ]
          },
          "metadata": {},
          "execution_count": 79
        },
        {
          "output_type": "display_data",
          "data": {
            "text/plain": [
              "<Figure size 720x360 with 1 Axes>"
            ],
            "image/png": "[encoded data removed]"
          },
          "metadata": {
            "needs_background": "light"
          }
        }
      ],
      "source": [
        "\n",
        "df['genre'].value_counts().plot(x = 'genre', y ='count', kind = 'bar', figsize = (10,5)  )"
      ]
    },
    {
      "cell_type": "code",
      "execution_count": null,
      "metadata": {
        "colab": {
          "base_uri": "https://localhost:8080/",
          "height": 436
        },
        "id": "r8XIX4WwM_-K",
        "outputId": "630a6cb4-e4c3-4a59-cca9-3256d24b2d89"
      },
      "outputs": [
        {
          "output_type": "stream",
          "name": "stdout",
          "text": [
            "Collecting git+https://github.com/sloria/TextBlob.git@dev\n",
            "  Cloning https://github.com/sloria/TextBlob.git (to revision dev) to /tmp/pip-req-build-dt9olo3m\n",
            "  Running command git clone -q https://github.com/sloria/TextBlob.git /tmp/pip-req-build-dt9olo3m\n",
            "Requirement already satisfied: nltk>=3.1 in /usr/local/lib/python3.7/dist-packages (from textblob==0.17.1) (3.2.5)\n",
            "Requirement already satisfied: six in /usr/local/lib/python3.7/dist-packages (from nltk>=3.1->textblob==0.17.1) (1.15.0)\n",
            "Building wheels for collected packages: textblob\n",
            "  Building wheel for textblob (setup.py) ... \u001b[?25l\u001b[?25hdone\n",
            "  Created wheel for textblob: filename=textblob-0.17.1-py2.py3-none-any.whl size=636763 sha256=1785211963095d71dcdc72ef96d9ef1ab5e19c210901f6960b31eeaf9d5b508c\n",
            "  Stored in directory: /tmp/pip-ephem-wheel-cache-qpndgznk/wheels/7a/1e/a0/7d296388d9cfc59ab7fb1f42ada18376c1bf0245615b736b36\n",
            "Successfully built textblob\n",
            "Installing collected packages: textblob\n",
            "  Attempting uninstall: textblob\n",
            "    Found existing installation: textblob 0.15.3\n",
            "    Uninstalling textblob-0.15.3:\n",
            "      Successfully uninstalled textblob-0.15.3\n",
            "\u001b[31mERROR: pip's dependency resolver does not currently take into account all the packages that are installed. This behaviour is the source of the following dependency conflicts.\n",
            "spacytextblob 4.0.0 requires textblob<0.16.0,>=0.15.3, but you have textblob 0.17.1 which is incompatible.\u001b[0m\n",
            "Successfully installed textblob-0.17.1\n"
          ]
        },
        {
          "output_type": "display_data",
          "data": {
            "application/vnd.colab-display-data+json": {
              "pip_warning": {
                "packages": [
                  "textblob"
                ]
              }
            }
          },
          "metadata": {}
        }
      ],
      "source": [
        "!pip install -U git+https://github.com/sloria/TextBlob.git@dev"
      ]
    },
    {
      "cell_type": "code",
      "execution_count": null,
      "metadata": {
        "colab": {
          "base_uri": "https://localhost:8080/",
          "height": 852
        },
        "id": "2haQ6R_HNEua",
        "outputId": "56c30c8a-30f1-4e5e-a0f4-53f37abc37a8"
      },
      "outputs": [
        {
          "output_type": "stream",
          "name": "stdout",
          "text": [
            "Requirement already satisfied: spacytextblob in /usr/local/lib/python3.7/dist-packages (4.0.0)\n",
            "Collecting textblob<0.16.0,>=0.15.3\n",
            "  Using cached textblob-0.15.3-py2.py3-none-any.whl (636 kB)\n",
            "Requirement already satisfied: spacy<4.0,>=3.0 in /usr/local/lib/python3.7/dist-packages (from spacytextblob) (3.3.0)\n",
            "Requirement already satisfied: murmurhash<1.1.0,>=0.28.0 in /usr/local/lib/python3.7/dist-packages (from spacy<4.0,>=3.0->spacytextblob) (1.0.7)\n",
            "Requirement already satisfied: spacy-loggers<2.0.0,>=1.0.0 in /usr/local/lib/python3.7/dist-packages (from spacy<4.0,>=3.0->spacytextblob) (1.0.2)\n",
            "Requirement already satisfied: typer<0.5.0,>=0.3.0 in /usr/local/lib/python3.7/dist-packages (from spacy<4.0,>=3.0->spacytextblob) (0.4.1)\n",
            "Requirement already satisfied: langcodes<4.0.0,>=3.2.0 in /usr/local/lib/python3.7/dist-packages (from spacy<4.0,>=3.0->spacytextblob) (3.3.0)\n",
            "Requirement already satisfied: spacy-legacy<3.1.0,>=3.0.9 in /usr/local/lib/python3.7/dist-packages (from spacy<4.0,>=3.0->spacytextblob) (3.0.9)\n",
            "Requirement already satisfied: cymem<2.1.0,>=2.0.2 in /usr/local/lib/python3.7/dist-packages (from spacy<4.0,>=3.0->spacytextblob) (2.0.6)\n",
            "Requirement already satisfied: catalogue<2.1.0,>=2.0.6 in /usr/local/lib/python3.7/dist-packages (from spacy<4.0,>=3.0->spacytextblob) (2.0.7)\n",
            "Requirement already satisfied: setuptools in /usr/local/lib/python3.7/dist-packages (from spacy<4.0,>=3.0->spacytextblob) (57.4.0)\n",
            "Requirement already satisfied: wasabi<1.1.0,>=0.9.1 in /usr/local/lib/python3.7/dist-packages (from spacy<4.0,>=3.0->spacytextblob) (0.9.1)\n",
            "Requirement already satisfied: pathy>=0.3.5 in /usr/local/lib/python3.7/dist-packages (from spacy<4.0,>=3.0->spacytextblob) (0.6.1)\n",
            "Requirement already satisfied: packaging>=20.0 in /usr/local/lib/python3.7/dist-packages (from spacy<4.0,>=3.0->spacytextblob) (21.3)\n",
            "Requirement already satisfied: srsly<3.0.0,>=2.4.3 in /usr/local/lib/python3.7/dist-packages (from spacy<4.0,>=3.0->spacytextblob) (2.4.3)\n",
            "Requirement already satisfied: preshed<3.1.0,>=3.0.2 in /usr/local/lib/python3.7/dist-packages (from spacy<4.0,>=3.0->spacytextblob) (3.0.6)\n",
            "Requirement already satisfied: typing-extensions<4.0.0.0,>=3.7.4 in /usr/local/lib/python3.7/dist-packages (from spacy<4.0,>=3.0->spacytextblob) (3.10.0.2)\n",
            "Requirement already satisfied: tqdm<5.0.0,>=4.38.0 in /usr/local/lib/python3.7/dist-packages (from spacy<4.0,>=3.0->spacytextblob) (4.64.0)\n",
            "Requirement already satisfied: thinc<8.1.0,>=8.0.14 in /usr/local/lib/python3.7/dist-packages (from spacy<4.0,>=3.0->spacytextblob) (8.0.15)\n",
            "Requirement already satisfied: numpy>=1.15.0 in /usr/local/lib/python3.7/dist-packages (from spacy<4.0,>=3.0->spacytextblob) (1.21.6)\n",
            "Requirement already satisfied: pydantic!=1.8,!=1.8.1,<1.9.0,>=1.7.4 in /usr/local/lib/python3.7/dist-packages (from spacy<4.0,>=3.0->spacytextblob) (1.8.2)\n",
            "Requirement already satisfied: jinja2 in /usr/local/lib/python3.7/dist-packages (from spacy<4.0,>=3.0->spacytextblob) (2.11.3)\n",
            "Requirement already satisfied: requests<3.0.0,>=2.13.0 in /usr/local/lib/python3.7/dist-packages (from spacy<4.0,>=3.0->spacytextblob) (2.27.1)\n",
            "Requirement already satisfied: blis<0.8.0,>=0.4.0 in /usr/local/lib/python3.7/dist-packages (from spacy<4.0,>=3.0->spacytextblob) (0.4.1)\n",
            "Requirement already satisfied: zipp>=0.5 in /usr/local/lib/python3.7/dist-packages (from catalogue<2.1.0,>=2.0.6->spacy<4.0,>=3.0->spacytextblob) (3.8.0)\n",
            "Requirement already satisfied: pyparsing!=3.0.5,>=2.0.2 in /usr/local/lib/python3.7/dist-packages (from packaging>=20.0->spacy<4.0,>=3.0->spacytextblob) (3.0.8)\n",
            "Requirement already satisfied: smart-open<6.0.0,>=5.0.0 in /usr/local/lib/python3.7/dist-packages (from pathy>=0.3.5->spacy<4.0,>=3.0->spacytextblob) (5.2.1)\n",
            "Requirement already satisfied: urllib3<1.27,>=1.21.1 in /usr/local/lib/python3.7/dist-packages (from requests<3.0.0,>=2.13.0->spacy<4.0,>=3.0->spacytextblob) (1.26.9)\n",
            "Requirement already satisfied: certifi>=2017.4.17 in /usr/local/lib/python3.7/dist-packages (from requests<3.0.0,>=2.13.0->spacy<4.0,>=3.0->spacytextblob) (2021.10.8)\n",
            "Requirement already satisfied: idna<4,>=2.5 in /usr/local/lib/python3.7/dist-packages (from requests<3.0.0,>=2.13.0->spacy<4.0,>=3.0->spacytextblob) (2.10)\n",
            "Requirement already satisfied: charset-normalizer~=2.0.0 in /usr/local/lib/python3.7/dist-packages (from requests<3.0.0,>=2.13.0->spacy<4.0,>=3.0->spacytextblob) (2.0.12)\n",
            "Requirement already satisfied: nltk>=3.1 in /usr/local/lib/python3.7/dist-packages (from textblob<0.16.0,>=0.15.3->spacytextblob) (3.2.5)\n",
            "Requirement already satisfied: six in /usr/local/lib/python3.7/dist-packages (from nltk>=3.1->textblob<0.16.0,>=0.15.3->spacytextblob) (1.15.0)\n",
            "Requirement already satisfied: click<9.0.0,>=7.1.1 in /usr/local/lib/python3.7/dist-packages (from typer<0.5.0,>=0.3.0->spacy<4.0,>=3.0->spacytextblob) (7.1.2)\n",
            "Requirement already satisfied: MarkupSafe>=0.23 in /usr/local/lib/python3.7/dist-packages (from jinja2->spacy<4.0,>=3.0->spacytextblob) (2.0.1)\n",
            "Installing collected packages: textblob\n",
            "  Attempting uninstall: textblob\n",
            "    Found existing installation: textblob 0.17.1\n",
            "    Uninstalling textblob-0.17.1:\n",
            "      Successfully uninstalled textblob-0.17.1\n",
            "Successfully installed textblob-0.15.3\n"
          ]
        },
        {
          "output_type": "display_data",
          "data": {
            "application/vnd.colab-display-data+json": {
              "pip_warning": {
                "packages": [
                  "textblob"
                ]
              }
            }
          },
          "metadata": {}
        }
      ],
      "source": [
        "!pip install spacytextblob"
      ]
    },
    {
      "cell_type": "code",
      "execution_count": null,
      "metadata": {
        "colab": {
          "base_uri": "https://localhost:8080/"
        },
        "id": "dzagBjwLNKMT",
        "outputId": "f76ce232-5f27-471f-9765-33ec0bce937f"
      },
      "outputs": [
        {
          "output_type": "stream",
          "name": "stdout",
          "text": [
            "[nltk_data] Downloading package brown to /root/nltk_data...\n",
            "[nltk_data]   Package brown is already up-to-date!\n",
            "[nltk_data] Downloading package punkt to /root/nltk_data...\n",
            "[nltk_data]   Package punkt is already up-to-date!\n",
            "[nltk_data] Downloading package wordnet to /root/nltk_data...\n",
            "[nltk_data]   Package wordnet is already up-to-date!\n",
            "[nltk_data] Downloading package averaged_perceptron_tagger to\n",
            "[nltk_data]     /root/nltk_data...\n",
            "[nltk_data]   Package averaged_perceptron_tagger is already up-to-\n",
            "[nltk_data]       date!\n",
            "[nltk_data] Downloading package conll2000 to /root/nltk_data...\n",
            "[nltk_data]   Package conll2000 is already up-to-date!\n",
            "[nltk_data] Downloading package movie_reviews to /root/nltk_data...\n",
            "[nltk_data]   Package movie_reviews is already up-to-date!\n",
            "Finished.\n"
          ]
        }
      ],
      "source": [
        "%%bash\n",
        "python -m textblob.download_corpora"
      ]
    },
    {
      "cell_type": "code",
      "execution_count": null,
      "metadata": {
        "colab": {
          "base_uri": "https://localhost:8080/",
          "height": 532
        },
        "id": "p9VRK6OlNP4j",
        "outputId": "be59997f-5943-43e7-86ce-bd0d2191f1ee"
      },
      "outputs": [
        {
          "output_type": "execute_result",
          "data": {
            "text/plain": [
              "<matplotlib.axes._subplots.AxesSubplot at 0x7fc904b0b9d0>"
            ]
          },
          "metadata": {},
          "execution_count": 83
        },
        {
          "output_type": "display_data",
          "data": {
            "text/plain": [
              "<Figure size 720x576 with 1 Axes>"
            ],
            "image/png": "[encoded data removed]"
          },
          "metadata": {
            "needs_background": "light"
          }
        }
      ],
      "source": [
        "from textblob import TextBlob\n",
        "blob = TextBlob(str(df['Desc']))\n",
        "pos_df = pd.DataFrame(blob.tags, columns = ['word' , 'pos'])\n",
        "pos_df = pos_df.pos.value_counts()[:20]\n",
        "pos_df.plot(kind = 'bar', figsize=(10, 8), title = \"Top 20 Part-of-speech tagging for comments\")"
      ]
    },
    {
      "cell_type": "code",
      "execution_count": null,
      "metadata": {
        "colab": {
          "base_uri": "https://localhost:8080/",
          "height": 557
        },
        "id": "TtY0QDKeNVFJ",
        "outputId": "350ab378-6d45-4c6e-a2ff-ec5f3673edcb"
      },
      "outputs": [
        {
          "output_type": "execute_result",
          "data": {
            "text/plain": [
              "<matplotlib.axes._subplots.AxesSubplot at 0x7fc8ed4492d0>"
            ]
          },
          "metadata": {},
          "execution_count": 84
        },
        {
          "output_type": "display_data",
          "data": {
            "text/plain": [
              "<Figure size 1080x504 with 1 Axes>"
            ],
            "image/png": "[encoded data removed]"
          },
          "metadata": {
            "needs_background": "light"
          }
        }
      ],
      "source": [
        "#Converting text descriptions into vectors using TF-IDF using Bigram\n",
        "tf = TfidfVectorizer(ngram_range=(2, 2), stop_words='english', lowercase = False)\n",
        "tfidf_matrix = tf.fit_transform(df['Desc'])\n",
        "total_words = tfidf_matrix.sum(axis=0)\n",
        "#Finding the word frequency\n",
        "freq = [(word, total_words[0, idx]) for word, idx in tf.vocabulary_.items()]\n",
        "freq =sorted(freq, key = lambda x: x[1], reverse=True)\n",
        "#converting into dataframe\n",
        "bigram = pd.DataFrame(freq)\n",
        "bigram.rename(columns = {0:'bigram', 1: 'count'}, inplace = True)\n",
        "#Taking first 20 records\n",
        "bigram = bigram.head(20)\n",
        "\n",
        "#Plotting the bigram distribution\n",
        "bigram.plot(x ='bigram', y='count', kind = 'bar', title = \"Bigram disribution for the top 20 words in the book description\", figsize = (15,7), )"
      ]
    },
    {
      "cell_type": "code",
      "execution_count": null,
      "metadata": {
        "colab": {
          "base_uri": "https://localhost:8080/",
          "height": 592
        },
        "id": "cKNW5b4WNbGT",
        "outputId": "e51e4f63-bc9f-4feb-8bca-8093c65928e6"
      },
      "outputs": [
        {
          "output_type": "execute_result",
          "data": {
            "text/plain": [
              "<matplotlib.axes._subplots.AxesSubplot at 0x7fc8fd49e510>"
            ]
          },
          "metadata": {},
          "execution_count": 85
        },
        {
          "output_type": "display_data",
          "data": {
            "text/plain": [
              "<Figure size 1080x504 with 1 Axes>"
            ],
            "image/png": "[encoded data removed]"
          },
          "metadata": {
            "needs_background": "light"
          }
        }
      ],
      "source": [
        "#Converting text descriptions into vectors using TF-IDF using Trigram\n",
        "tf = TfidfVectorizer(ngram_range=(3, 3), stop_words='english', lowercase = False)\n",
        "tfidf_matrix = tf.fit_transform(df['Desc'])\n",
        "total_words = tfidf_matrix.sum(axis=0)\n",
        "#Finding the word frequency\n",
        "freq = [(word, total_words[0, idx]) for word, idx in tf.vocabulary_.items()]\n",
        "freq =sorted(freq, key = lambda x: x[1], reverse=True)#converting into dataframe\n",
        "trigram = pd.DataFrame(freq)\n",
        "trigram.rename(columns = {0:'trigram', 1: 'count'}, inplace = True)\n",
        "#Taking first 20 records\n",
        "trigram = trigram.head(20)\n",
        "\n",
        "#Plotting the trigramn distribution\n",
        "trigram.plot(x ='trigram', y='count', kind = 'bar', title = \"Bigram disribution for the top 20 words in the book description\", figsize = (15,7), )"
      ]
    },
    {
      "cell_type": "code",
      "execution_count": null,
      "metadata": {
        "id": "kmHKBD4YNklR"
      },
      "outputs": [],
      "source": [
        "  # Function for recommending books based on Book title. It takes book title and genre as an input.\n",
        "def recommend(title, genre):\n",
        "  # Matching the genre with the dataset and reset the index\n",
        "    data = df.loc[df['genre'] == genre]\n",
        "    data.reset_index(level = 0, inplace = True)\n",
        "\n",
        "    # Convert the index into series\n",
        "    indices = pd.Series(data.index, index = data['title'])\n",
        "\n",
        "    #Converting the book title into vectors and used bigram\n",
        "    tf = TfidfVectorizer(analyzer='word', ngram_range=(2, 2), min_df = 1, stop_words='english')\n",
        "    tfidf_matrix = tf.fit_transform(data['title'])\n",
        "\n",
        "    # Calculating the similarity measures based on Cosine Similarity\n",
        "    sg = cosine_similarity(tfidf_matrix, tfidf_matrix)\n",
        "\n",
        "    # Get the index corresponding to original_title\n",
        "\n",
        "    idx = indices[title]# Get the pairwsie similarity scores\n",
        "    sig = list(enumerate(sg[idx]))# Sort the books\n",
        "    sig = sorted(sig, key=lambda x: x[1], reverse=True)# Scores of the 5 most similar books\n",
        "    sig = sig[1:6]# Book indicies\n",
        "    movie_indices = [i[0] for i in sig]\n",
        "\n",
        "    # Top 5 book recommendation\n",
        "    rec = data[['title', 'image_link']].iloc[movie_indices]\n",
        "    return str(rec['title']);"
      ]
    },
    {
      "cell_type": "code",
      "execution_count": null,
      "metadata": {
        "id": "IIOd51ElNqPI"
      },
      "outputs": [],
      "source": [
        "st=recommend(\"Pride and Prejudice\", \"Fiction\") #Harry Potter and the Deathly Hallows,Fiction"
      ]
    },
    {
      "cell_type": "code",
      "execution_count": null,
      "metadata": {
        "colab": {
          "base_uri": "https://localhost:8080/",
          "height": 71
        },
        "id": "r1LY61DSECa1",
        "outputId": "11c9d7b6-2178-484b-e5cd-9741b3c06a54"
      },
      "outputs": [
        {
          "output_type": "execute_result",
          "data": {
            "text/plain": [
              "'601                      Pride and Prejudice and Zombies\\n865    Eligible : A Modern Retelling of Pride & Preju...\\n0                                  To Kill a Mockingbird\\n1                                                   1984\\n2                                       The Great Gatsby\\nName: title, dtype: object'"
            ],
            "application/vnd.google.colaboratory.intrinsic+json": {
              "type": "string"
            }
          },
          "metadata": {},
          "execution_count": 108
        }
      ],
      "source": [
        "st"
      ]
    },
    {
      "cell_type": "markdown",
      "metadata": {
        "id": "gxyZIgJud3fm"
      },
      "source": [
        "SONG RECOMMMENDATION"
      ]
    },
    {
      "cell_type": "code",
      "execution_count": null,
      "metadata": {
        "id": "H8VxGYMFd609"
      },
      "outputs": [],
      "source": [
        "import os\n",
        "import numpy as np\n",
        "import pandas as pd\n",
        "\n",
        "import seaborn as sns\n",
        "import plotly.express as px\n",
        "import matplotlib.pyplot as plt\n",
        "%matplotlib inline\n",
        "\n",
        "from sklearn.cluster import KMeans\n",
        "from sklearn.preprocessing import StandardScaler\n",
        "from sklearn.pipeline import Pipeline\n",
        "from sklearn.manifold import TSNE\n",
        "from sklearn.decomposition import PCA\n",
        "from sklearn.metrics import euclidean_distances\n",
        "from scipy.spatial.distance import cdist\n",
        "\n",
        "import warnings\n",
        "warnings.filterwarnings(\"ignore\")"
      ]
    },
    {
      "cell_type": "code",
      "execution_count": null,
      "metadata": {
        "id": "GEEnAvzNeMJR"
      },
      "outputs": [],
      "source": [
        "data = pd.read_csv(\"data.csv\")\n",
        "genre_data = pd.read_csv('data_by_genres.csv')\n",
        "year_data = pd.read_csv('data_by_year.csv')"
      ]
    },
    {
      "cell_type": "code",
      "execution_count": null,
      "metadata": {
        "id": "QoApRjx-eWwx"
      },
      "outputs": [],
      "source": [
        "from sklearn.cluster import KMeans\n",
        "from sklearn.preprocessing import StandardScaler\n",
        "from sklearn.pipeline import Pipeline\n",
        "\n",
        "cluster_pipeline = Pipeline([('scaler', StandardScaler()), ('kmeans', KMeans(n_clusters=10))])\n",
        "X = genre_data.select_dtypes(np.number)\n",
        "cluster_pipeline.fit(X)\n",
        "genre_data['cluster'] = cluster_pipeline.predict(X)"
      ]
    },
    {
      "cell_type": "code",
      "execution_count": null,
      "metadata": {
        "colab": {
          "base_uri": "https://localhost:8080/",
          "height": 854
        },
        "id": "I3GCEbLLeapc",
        "outputId": "00a8907d-0ea8-47ae-b892-21e166edaa38"
      },
      "outputs": [
        {
          "output_type": "stream",
          "name": "stdout",
          "text": [
            "[t-SNE] Computing 91 nearest neighbors...\n",
            "[t-SNE] Indexed 2973 samples in 0.007s...\n",
            "[t-SNE] Computed neighbors for 2973 samples in 0.327s...\n",
            "[t-SNE] Computed conditional probabilities for sample 1000 / 2973\n",
            "[t-SNE] Computed conditional probabilities for sample 2000 / 2973\n",
            "[t-SNE] Computed conditional probabilities for sample 2973 / 2973\n",
            "[t-SNE] Mean sigma: 0.777516\n",
            "[t-SNE] KL divergence after 250 iterations with early exaggeration: 76.112457\n"
          ]
        },
        {
          "output_type": "stream",
          "name": "stderr",
          "text": [
            "No error handlers are registered, logging exception.\n",
            "Traceback (most recent call last):\n",
            "  File \"/usr/local/lib/python3.7/dist-packages/telegram/ext/dispatcher.py\", line 555, in process_update\n",
            "    handler.handle_update(update, self, check, context)\n",
            "  File \"/usr/local/lib/python3.7/dist-packages/telegram/ext/handler.py\", line 198, in handle_update\n",
            "    return self.callback(update, context)\n",
            "  File \"<ipython-input-51-437a5b851948>\", line 65, in unknown_text\n",
            "    if s:\n",
            "UnboundLocalError: local variable 's' referenced before assignment\n"
          ]
        },
        {
          "output_type": "stream",
          "name": "stdout",
          "text": [
            "[t-SNE] KL divergence after 1000 iterations: 1.395118\n"
          ]
        },
        {
          "output_type": "display_data",
          "data": {
            "text/html": [
              "<html>\n",
              "<head><meta charset=\"utf-8\" /></head>\n",
              "<body>\n",
              "    <div>            <script src=\"https://cdnjs.cloudflare.com/ajax/libs/mathjax/2.7.5/MathJax.js?config=TeX-AMS-MML_SVG\"></script><script type=\"text/javascript\">if (window.MathJax) {MathJax.Hub.Config({SVG: {font: \"STIX-Web\"}});}</script>                <script type=\"text/javascript\">window.PlotlyConfig = {MathJaxConfig: 'local'};</script>\n",
              "        <script src=\"https://cdn.plot.ly/plotly-2.8.3.min.js\"></script>                <div id=\"9207e998-f4d6-4a6b-b8db-cdeb0c8e00d2\" class=\"plotly-graph-div\" style=\"height:525px; width:100%;\"></div>            <script type=\"text/javascript\">                                    window.PLOTLYENV=window.PLOTLYENV || {};                                    if (document.getElementById(\"9207e998-f4d6-4a6b-b8db-cdeb0c8e00d2\")) {                    Plotly.newPlot(                        \"9207e998-f4d6-4a6b-b8db-cdeb0c8e00d2\",                        [{\"customdata\":[[\"21st century classical\"],[\"432hz\"],[\"8-bit\"],[\"[]\"],[\"a cappella\"],[\"abstract\"],[\"abstract beats\"],[\"abstract hip hop\"],[\"accordeon\"],[\"accordion\"],[\"acid house\"],[\"acid rock\"],[\"acid trance\"],[\"acousmatic\"],[\"acoustic blues\"],[\"acoustic pop\"],[\"acoustic punk\"],[\"acoustic rock\"],[\"action rock\"],[\"adoracion\"],[\"adult standards\"],[\"adventista\"],[\"afghan pop\"],[\"afghan traditional\"],[\"african percussion\"],[\"african reggae\"],[\"african rock\"],[\"african-american classical\"],[\"afro dancehall\"],[\"afro house\"],[\"afro psych\"],[\"afro soul\"],[\"afro-funk\"],[\"afrobeat\"],[\"afrofuturism\"],[\"afrofuturismo brasileiro\"],[\"afropop\"],[\"afroswing\"],[\"aggrotech\"],[\"alabama indie\"],[\"alabama metal\"],[\"alabama rap\"],[\"alaska indie\"],[\"albanian pop\"],[\"albany ny indie\"],[\"alberta country\"],[\"alberta hip hop\"],[\"album rock\"],[\"albuquerque indie\"],[\"alt-idol\"],[\"alte\"],[\"alternative americana\"],[\"alternative country\"],[\"alternative dance\"],[\"alternative emo\"],[\"alternative hip hop\"],[\"alternative metal\"],[\"alternative pop\"],[\"alternative pop rock\"],[\"alternative r&b\"],[\"alternative rock\"],[\"alternative roots rock\"],[\"ambeat\"],[\"ambient\"],[\"ambient black metal\"],[\"ambient folk\"],[\"ambient house\"],[\"ambient idm\"],[\"ambient industrial\"],[\"ambient pop\"],[\"ambient techno\"],[\"ambient worship\"],[\"american 21st century classical\"],[\"american choir\"],[\"american classical piano\"],[\"american contemporary classical\"],[\"american early music\"],[\"american folk revival\"],[\"american metalcore\"],[\"american modern classical\"],[\"american oi\"],[\"american orchestra\"],[\"american post-rock\"],[\"american primitive\"],[\"american romanticism\"],[\"american shoegaze\"],[\"anadolu rock\"],[\"anarcho-punk\"],[\"anglican liturgy\"],[\"animal singing\"],[\"anime\"],[\"anime latino\"],[\"anime rock\"],[\"anime score\"],[\"ann arbor indie\"],[\"anthem emo\"],[\"anthem worship\"],[\"anti-folk\"],[\"antilliaanse folklore\"],[\"antiviral pop\"],[\"appalachian folk\"],[\"arab folk\"],[\"arab groove\"],[\"arab pop\"],[\"arabesk\"],[\"arabic hip hop\"],[\"arabic jazz\"],[\"argentine ambient\"],[\"argentine hardcore\"],[\"argentine heavy metal\"],[\"argentine hip hop\"],[\"argentine indie\"],[\"argentine metal\"],[\"argentine punk\"],[\"argentine reggae\"],[\"argentine rock\"],[\"argentine telepop\"],[\"arizona punk\"],[\"arkansas country\"],[\"arkansas hip hop\"],[\"arkansas indie\"],[\"armenian folk\"],[\"art pop\"],[\"art punk\"],[\"art rock\"],[\"art song\"],[\"asbury park indie\"],[\"asheville indie\"],[\"asian american hip hop\"],[\"asmr\"],[\"athens indie\"],[\"atl hip hop\"],[\"atl trap\"],[\"atlanta indie\"],[\"atlanta metal\"],[\"atlanta punk\"],[\"atmosphere\"],[\"atmospheric black metal\"],[\"atmospheric dnb\"],[\"atmospheric post-metal\"],[\"atmospheric post-rock\"],[\"atmospheric sludge\"],[\"auckland indie\"],[\"audiophile vocal\"],[\"aussietronica\"],[\"austin americana\"],[\"austin singer-songwriter\"],[\"austindie\"],[\"australian alternative pop\"],[\"australian alternative rock\"],[\"australian ambient\"],[\"australian children's music\"],[\"australian choir\"],[\"australian classical\"],[\"australian classical piano\"],[\"australian country\"],[\"australian dance\"],[\"australian electropop\"],[\"australian garage punk\"],[\"australian hip hop\"],[\"australian house\"],[\"australian indie\"],[\"australian indie folk\"],[\"australian indie rock\"],[\"australian indigenous\"],[\"australian metal\"],[\"australian metalcore\"],[\"australian pop\"],[\"australian post-hardcore\"],[\"australian post-punk\"],[\"australian psych\"],[\"australian r&b\"],[\"australian reggae fusion\"],[\"australian rock\"],[\"australian singer-songwriter\"],[\"australian ska\"],[\"australian talent show\"],[\"australian trap\"],[\"australian underground hip hop\"],[\"austrian choir\"],[\"austrian classical piano\"],[\"austrian orchestra\"],[\"austrian pop\"],[\"austro-german modernism\"],[\"austropop\"],[\"autoharp\"],[\"autonomous black metal\"],[\"avant-garde\"],[\"avant-garde jazz\"],[\"avant-garde metal\"],[\"axe\"],[\"azeri traditional\"],[\"azonto\"],[\"azontobeats\"],[\"bachata\"],[\"bachata dominicana\"],[\"background music\"],[\"background piano\"],[\"baglama\"],[\"bahai\"],[\"bahamian folk\"],[\"bahamian pop\"],[\"baiao\"],[\"bajki\"],[\"bakersfield sound\"],[\"balearic\"],[\"balkan brass\"],[\"balkan classical piano\"],[\"ballet class\"],[\"ballroom\"],[\"baltic classical\"],[\"baltimore hip hop\"],[\"baltimore indie\"],[\"banda\"],[\"banda caliente\"],[\"banda carnavalera\"],[\"bandinhas\"],[\"bandolim\"],[\"bandoneon\"],[\"bangla\"],[\"banjo\"],[\"bansuri\"],[\"barbadian pop\"],[\"barbershop\"],[\"bard\"],[\"barnmusik\"],[\"barockinterpreten\"],[\"baroque\"],[\"baroque brass\"],[\"baroque ensemble\"],[\"baroque pop\"],[\"baroque singing\"],[\"baroque violin\"],[\"baroque woodwind\"],[\"bass house\"],[\"bass music\"],[\"bass trap\"],[\"basshall\"],[\"bassline\"],[\"bath indie\"],[\"baton rouge indie\"],[\"baton rouge rap\"],[\"battle rap\"],[\"bay area hip hop\"],[\"bay area indie\"],[\"bboy\"],[\"bc underground hip hop\"],[\"beach music\"],[\"beat italiano\"],[\"beat poetry\"],[\"beatboxing\"],[\"beatlesque\"],[\"bebop\"],[\"bedroom pop\"],[\"bedroom soul\"],[\"belarusian indie\"],[\"belarusian pop\"],[\"belarusian rock\"],[\"belgian classical piano\"],[\"belgian contemporary classical\"],[\"belgian dance\"],[\"belgian edm\"],[\"belgian hardcore\"],[\"belgian indie\"],[\"belgian indie rock\"],[\"belgian jazz\"],[\"belgian new wave\"],[\"belgian pop\"],[\"belgian rock\"],[\"belgian singer-songwriter\"],[\"belgian techno\"],[\"belly dance\"],[\"bengali folk\"],[\"beninese pop\"],[\"bergen indie\"],[\"berlin minimal techno\"],[\"berlin school\"],[\"bhajan\"],[\"bhangra\"],[\"bible\"],[\"big band\"],[\"big beat\"],[\"big room\"],[\"binaural\"],[\"birdsong\"],[\"birmingham grime\"],[\"birmingham hip hop\"],[\"birmingham metal\"],[\"bitpop\"],[\"black 'n' roll\"],[\"black comedy\"],[\"black metal\"],[\"black punk\"],[\"black thrash\"],[\"blackened crust\"],[\"blackgaze\"],[\"bleep techno\"],[\"bluegrass\"],[\"bluegrass fiddle\"],[\"bluegrass gospel\"],[\"blues\"],[\"blues latinoamericano\"],[\"blues mexicano\"],[\"blues rock\"],[\"bmore\"],[\"bolero\"],[\"bolero cubano\"],[\"boogaloo\"],[\"boogie\"],[\"boogie-woogie\"],[\"boom bap\"],[\"boom bap brasileiro\"],[\"bossa nova\"],[\"bossa nova jazz\"],[\"boston folk\"],[\"boston hardcore\"],[\"boston hip hop\"],[\"boston indie\"],[\"boston metal\"],[\"boston punk\"],[\"boston rock\"],[\"bounce\"],[\"bouncy house\"],[\"bouzouki\"],[\"bow pop\"],[\"boy band\"],[\"boy pop\"],[\"boy soprano\"],[\"brain waves\"],[\"braindance\"],[\"brass band\"],[\"brass ensemble\"],[\"brass quintet\"],[\"brazilian boogie\"],[\"brazilian classical\"],[\"brazilian classical piano\"],[\"brazilian contemporary classical\"],[\"brazilian edm\"],[\"brazilian groove metal\"],[\"brazilian hip hop\"],[\"brazilian indie\"],[\"brazilian jazz\"],[\"brazilian metal\"],[\"brazilian modern jazz\"],[\"brazilian percussion\"],[\"brazilian punk\"],[\"brazilian reggae\"],[\"brazilian rock\"],[\"brazilian ska\"],[\"brazilian soul\"],[\"brazilian thrash metal\"],[\"breakbeat\"],[\"breakcore\"],[\"brega\"],[\"breton folk\"],[\"brighton indie\"],[\"brill building pop\"],[\"brisbane indie\"],[\"bristol electronic\"],[\"bristol indie\"],[\"brit funk\"],[\"british alternative rock\"],[\"british black metal\"],[\"british blues\"],[\"british children's music\"],[\"british choir\"],[\"british classical piano\"],[\"british comedy\"],[\"british contemporary classical\"],[\"british dance band\"],[\"british death metal\"],[\"british experimental\"],[\"british folk\"],[\"british grindcore\"],[\"british indie rock\"],[\"british industrial\"],[\"british invasion\"],[\"british jazz\"],[\"british modern classical\"],[\"british orchestra\"],[\"british post-rock\"],[\"british power metal\"],[\"british singer-songwriter\"],[\"british soul\"],[\"british soundtrack\"],[\"britpop\"],[\"broadway\"],[\"broken beat\"],[\"bronx hip hop\"],[\"brooklyn drill\"],[\"brooklyn indie\"],[\"brostep\"],[\"brutal death metal\"],[\"brutal deathcore\"],[\"bubble trance\"],[\"bubblegrunge\"],[\"bubblegum dance\"],[\"bubblegum pop\"],[\"buffalo hip hop\"],[\"buffalo ny indie\"],[\"buffalo ny metal\"],[\"bulgarian experimental\"],[\"burmese traditional\"],[\"bush ballad\"],[\"c-pop\"],[\"c86\"],[\"cabaret\"],[\"cajun\"],[\"calgary indie\"],[\"cali rap\"],[\"calming instrumental\"],[\"calypso\"],[\"cambodian rock\"],[\"cambridge choir\"],[\"cambridgeshire indie\"],[\"cameroonian pop\"],[\"canadian americana\"],[\"canadian blues\"],[\"canadian ccm\"],[\"canadian celtic\"],[\"canadian children's music\"],[\"canadian choir\"],[\"canadian classical\"],[\"canadian classical piano\"],[\"canadian comedy\"],[\"canadian contemporary country\"],[\"canadian contemporary r&b\"],[\"canadian country\"],[\"canadian electronic\"],[\"canadian electropop\"],[\"canadian experimental\"],[\"canadian folk\"],[\"canadian hardcore\"],[\"canadian hip hop\"],[\"canadian house\"],[\"canadian indie\"],[\"canadian indie folk\"],[\"canadian indigenous\"],[\"canadian indigenous hip hop\"],[\"canadian latin\"],[\"canadian metal\"],[\"canadian metalcore\"],[\"canadian modern jazz\"],[\"canadian pop\"],[\"canadian pop punk\"],[\"canadian post-hardcore\"],[\"canadian post-rock\"],[\"canadian psychedelic\"],[\"canadian punk\"],[\"canadian rock\"],[\"canadian rockabilly\"],[\"canadian singer-songwriter\"],[\"canadian soundtrack\"],[\"cancion melodica\"],[\"candy pop\"],[\"cantautor\"],[\"cante flamenco\"],[\"canterbury scene\"],[\"canto popular uruguayo\"],[\"cantopop\"],[\"canzone d'autore\"],[\"canzone genovese\"],[\"canzone napoletana\"],[\"cape town indie\"],[\"cape verdean folk\"],[\"capoeira\"],[\"caracas indie\"],[\"carnatic\"],[\"carnatic instrumental\"],[\"carnatic vocal\"],[\"cartoon\"],[\"cathedral choir\"],[\"caucasian classical\"],[\"caucasian classical piano\"],[\"ccm\"],[\"cedm\"],[\"cello\"],[\"celtic\"],[\"celtic harp\"],[\"celtic metal\"],[\"celtic punk\"],[\"celtic rock\"],[\"cha-cha-cha\"],[\"chakra\"],[\"chamame\"],[\"chamber choir\"],[\"chamber ensemble\"],[\"chamber folk\"],[\"chamber orchestra\"],[\"chamber pop\"],[\"chamber psych\"],[\"champeta\"],[\"channel islands indie\"],[\"channel pop\"],[\"chanson\"],[\"chanson paillarde\"],[\"chaotic hardcore\"],[\"charanga\"],[\"charango\"],[\"charlotte nc indie\"],[\"charlottesville indie\"],[\"chattanooga indie\"],[\"chicago blues\"],[\"chicago drill\"],[\"chicago hardcore\"],[\"chicago house\"],[\"chicago indie\"],[\"chicago pop punk\"],[\"chicago punk\"],[\"chicago rap\"],[\"chicago soul\"],[\"chicano punk\"],[\"chicano rap\"],[\"chicha\"],[\"chihuahua indie\"],[\"children's choir\"],[\"children's folk\"],[\"children's music\"],[\"children's story\"],[\"chilean hardcore\"],[\"chilean indie\"],[\"chilean rock\"],[\"chilena\"],[\"chill beats\"],[\"chill guitar\"],[\"chill lounge\"],[\"chill out\"],[\"chill pop\"],[\"chill r&b\"],[\"chillhop\"],[\"chillstep\"],[\"chillwave\"],[\"chinese audiophile\"],[\"chinese classical\"],[\"chinese classical performance\"],[\"chinese classical piano\"],[\"chinese electropop\"],[\"chinese hip hop\"],[\"chinese idol pop\"],[\"chinese indie\"],[\"chinese indie rock\"],[\"chinese instrumental\"],[\"chinese jazz\"],[\"chinese r&b\"],[\"chinese soundtrack\"],[\"chinese traditional\"],[\"chiptune\"],[\"chopped and screwed\"],[\"choral\"],[\"choro\"],[\"christchurch indie\"],[\"christelijk\"],[\"christian a cappella\"],[\"christian alternative rock\"],[\"christian dance\"],[\"christian hard rock\"],[\"christian hardcore\"],[\"christian hip hop\"],[\"christian indie\"],[\"christian metal\"],[\"christian metalcore\"],[\"christian music\"],[\"christian pop\"],[\"christian power metal\"],[\"christian punk\"],[\"christian relaxative\"],[\"christian rock\"],[\"christian trap\"],[\"christian uplift\"],[\"christmas instrumental\"],[\"christmas product\"],[\"chunchaca\"],[\"chutney\"],[\"cincinnati rap\"],[\"cinematic post-rock\"],[\"circuit\"],[\"circus\"],[\"classic afrobeat\"],[\"classic arab pop\"],[\"classic australian country\"],[\"classic belgian pop\"],[\"classic bhangra\"],[\"classic bollywood\"],[\"classic canadian rock\"],[\"classic cantopop\"],[\"classic colombian pop\"],[\"classic country pop\"],[\"classic czech pop\"],[\"classic danish pop\"],[\"classic dubstep\"],[\"classic eurovision\"],[\"classic finnish pop\"],[\"classic french pop\"],[\"classic garage rock\"],[\"classic girl group\"],[\"classic greek pop\"],[\"classic hardstyle\"],[\"classic icelandic pop\"],[\"classic indo pop\"],[\"classic iskelma\"],[\"classic israeli pop\"],[\"classic italian folk pop\"],[\"classic italian pop\"],[\"classic j-rock\"],[\"classic japanese jazz\"],[\"classic korean pop\"],[\"classic latvian pop\"],[\"classic mandopop\"],[\"classic norwegian pop\"],[\"classic opm\"],[\"classic pakistani pop\"],[\"classic persian pop\"],[\"classic peruvian pop\"],[\"classic polish pop\"],[\"classic praise\"],[\"classic psychedelic rock\"],[\"classic punjabi pop\"],[\"classic rock\"],[\"classic russian pop\"],[\"classic russian rock\"],[\"classic schlager\"],[\"classic soul\"],[\"classic soundtrack\"],[\"classic swedish pop\"],[\"classic thai pop\"],[\"classic tunisian pop\"],[\"classic turkish pop\"],[\"classic uk pop\"],[\"classic venezuelan pop\"],[\"classical\"],[\"classical accordion\"],[\"classical baritone\"],[\"classical bass\"],[\"classical cello\"],[\"classical clarinet\"],[\"classical contralto\"],[\"classical countertenor\"],[\"classical era\"],[\"classical flute\"],[\"classical guitar\"],[\"classical harp\"],[\"classical horn\"],[\"classical mandolin\"],[\"classical mezzo-soprano\"],[\"classical oboe\"],[\"classical organ\"],[\"classical performance\"],[\"classical piano\"],[\"classical piano duo\"],[\"classical piano trio\"],[\"classical saxophone\"],[\"classical soprano\"],[\"classical tenor\"],[\"classical trumpet\"],[\"classify\"],[\"clawhammer banjo\"],[\"clean comedy\"],[\"cleveland metal\"],[\"coco\"],[\"collage pop\"],[\"college a cappella\"],[\"colombian hip hop\"],[\"colombian pop\"],[\"colombian rock\"],[\"columbus ohio indie\"],[\"comedy\"],[\"comedy rap\"],[\"comedy rock\"],[\"comic\"],[\"comic metal\"],[\"commons\"],[\"complextro\"],[\"compositional ambient\"],[\"concepcion indie\"],[\"concert band\"],[\"connecticut hardcore\"],[\"connecticut indie\"],[\"conscious hip hop\"],[\"contemporary choir\"],[\"contemporary classical\"],[\"contemporary classical piano\"],[\"contemporary country\"],[\"contemporary folk\"],[\"contemporary gospel\"],[\"contemporary jazz\"],[\"contemporary post-bop\"],[\"contemporary vocal jazz\"],[\"contrabass\"],[\"cool jazz\"],[\"copla\"],[\"cornish folk\"],[\"cornwall indie\"],[\"corrido\"],[\"corridos cristianos\"],[\"corridos tumbados\"],[\"corrosion\"],[\"cosmic american\"],[\"cosmic post-rock\"],[\"country\"],[\"country blues\"],[\"country boogie\"],[\"country dawn\"],[\"country gospel\"],[\"country pop\"],[\"country rap\"],[\"country road\"],[\"country rock\"],[\"coverchill\"],[\"cowboy western\"],[\"cowpunk\"],[\"crack rock steady\"],[\"croatian folk\"],[\"croatian pop\"],[\"croatian rock\"],[\"crossover thrash\"],[\"crunk\"],[\"crust punk\"],[\"cuarteto\"],[\"cuatro venezolano\"],[\"cuban alternative\"],[\"cuban rumba\"],[\"cubaton\"],[\"cumbia\"],[\"cumbia andina mexicana\"],[\"cumbia chilena\"],[\"cumbia colombiana regia\"],[\"cumbia ecuatoriana\"],[\"cumbia funk\"],[\"cumbia lagunera\"],[\"cumbia paraguaya\"],[\"cumbia peruana\"],[\"cumbia pop\"],[\"cumbia ranchera\"],[\"cumbia salvadorena\"],[\"cumbia santafesina\"],[\"cumbia sonidera\"],[\"cumbia villera\"],[\"cyberpunk\"],[\"cymraeg\"],[\"cypriot pop\"],[\"czech classical\"],[\"czech classical piano\"],[\"czech contemporary classical\"],[\"d-beat\"],[\"dabke\"],[\"dakke dak\"],[\"dallas indie\"],[\"dance pop\"],[\"dance rock\"],[\"dance-punk\"],[\"dancehall\"],[\"dangdut\"],[\"danish alternative rock\"],[\"danish classical\"],[\"danish electronic\"],[\"danish electropop\"],[\"danish hip hop\"],[\"danish jazz\"],[\"danish metal\"],[\"danish pop\"],[\"danish pop rock\"],[\"danish post-punk\"],[\"danish punk\"],[\"danish rock\"],[\"danish singer-songwriter\"],[\"dansband\"],[\"danseband\"],[\"dansktop\"],[\"danspunk\"],[\"dark cabaret\"],[\"dark clubbing\"],[\"dark disco\"],[\"dark hardcore\"],[\"dark jazz\"],[\"dark minimal techno\"],[\"dark post-punk\"],[\"dark techno\"],[\"dark trap\"],[\"dark wave\"],[\"darksynth\"],[\"dayton indie\"],[\"dc hardcore\"],[\"dc indie\"],[\"death 'n' roll\"],[\"death metal\"],[\"deathcore\"],[\"deathgrass\"],[\"deathgrind\"],[\"deathrash\"],[\"deathrock\"],[\"deathstep\"],[\"deep acoustic pop\"],[\"deep adult standards\"],[\"deep big room\"],[\"deep ccm\"],[\"deep christian rock\"],[\"deep classic garage rock\"],[\"deep comedy\"],[\"deep contemporary country\"],[\"deep dance pop\"],[\"deep delta blues\"],[\"deep disco\"],[\"deep disco house\"],[\"deep dnb\"],[\"deep east coast hip hop\"],[\"deep euro house\"],[\"deep flow\"],[\"deep free jazz\"],[\"deep freestyle\"],[\"deep full on\"],[\"deep funk\"],[\"deep g funk\"],[\"deep gothic post-punk\"],[\"deep groove house\"],[\"deep house\"],[\"deep idm\"],[\"deep indian pop\"],[\"deep indie singer-songwriter\"],[\"deep latin alternative\"],[\"deep latin christian\"],[\"deep melodic metalcore\"],[\"deep minimal techno\"],[\"deep motown\"],[\"deep new americana\"],[\"deep new wave\"],[\"deep norteno\"],[\"deep northern soul\"],[\"deep pop edm\"],[\"deep progressive house\"],[\"deep psychobilly\"],[\"deep punk rock\"],[\"deep r&b\"],[\"deep ragga\"],[\"deep regional mexican\"],[\"deep smooth jazz\"],[\"deep soft rock\"],[\"deep soul house\"],[\"deep soundtrack\"],[\"deep southern soul\"],[\"deep southern trap\"],[\"deep space rock\"],[\"deep talent show\"],[\"deep tech house\"],[\"deep techno\"],[\"deep tropical house\"],[\"deep underground hip hop\"],[\"deep uplifting trance\"],[\"delta blues\"],[\"dembow\"],[\"denpa-kei\"],[\"denton tx indie\"],[\"denver indie\"],[\"depressive black metal\"],[\"derby indie\"],[\"desert blues\"],[\"desi hip hop\"],[\"desi pop\"],[\"destroy techno\"],[\"detroit hip hop\"],[\"detroit house\"],[\"detroit techno\"],[\"detroit trap\"],[\"detske pisnicky\"],[\"detskie pesni\"],[\"devon indie\"],[\"dfw rap\"],[\"dhrupad\"],[\"digital hardcore\"],[\"dinner jazz\"],[\"dirty south rap\"],[\"dirty texas rap\"],[\"disco\"],[\"disco house\"],[\"disney\"],[\"diva house\"],[\"dixieland\"],[\"diy emo\"],[\"djent\"],[\"dmv rap\"],[\"dominican pop\"],[\"dong-yo\"],[\"doo-wop\"],[\"doom metal\"],[\"double drumming\"],[\"downtempo\"],[\"drama\"],[\"dream pop\"],[\"dream trance\"],[\"dreamgaze\"],[\"dreamo\"],[\"drift\"],[\"drill\"],[\"drill and bass\"],[\"drone\"],[\"drone folk\"],[\"drone metal\"],[\"drum and bass\"],[\"dub\"],[\"dub metal\"],[\"dub poetry\"],[\"dub techno\"],[\"dubstep\"],[\"dubsteppe\"],[\"duduk\"],[\"duluth indie\"],[\"dunedin indie\"],[\"dunedin sound\"],[\"dungeon synth\"],[\"duranguense\"],[\"dusseldorf electronic\"],[\"dutch blues\"],[\"dutch cabaret\"],[\"dutch classical piano\"],[\"dutch death metal\"],[\"dutch dnb\"],[\"dutch edm\"],[\"dutch folk\"],[\"dutch hip hop\"],[\"dutch house\"],[\"dutch indie\"],[\"dutch jazz\"],[\"dutch metal\"],[\"dutch pop\"],[\"dutch prog\"],[\"dutch rap pop\"],[\"dutch rock\"],[\"dutch trance\"],[\"e6fi\"],[\"early american folk\"],[\"early avant garde\"],[\"early modern classical\"],[\"early music\"],[\"early music choir\"],[\"early music ensemble\"],[\"early reggae\"],[\"early romantic era\"],[\"early synthpop\"],[\"early us punk\"],[\"east coast hip hop\"],[\"east coast reggae\"],[\"eastern bloc groove\"],[\"easy listening\"],[\"easycore\"],[\"eau claire indie\"],[\"ebm\"],[\"ecm-style jazz\"],[\"ectofolk\"],[\"ecuadorian pop\"],[\"edm\"],[\"edmonton indie\"],[\"egyptian pop\"],[\"egyptian traditional\"],[\"el paso indie\"],[\"electra\"],[\"electric bass\"],[\"electric blues\"],[\"electro\"],[\"electro house\"],[\"electro jazz\"],[\"electro latino\"],[\"electro swing\"],[\"electro-industrial\"],[\"electro-pop francais\"],[\"electroclash\"],[\"electrofox\"],[\"electronic djent\"],[\"electronic rock\"],[\"electronic trap\"],[\"electronica\"],[\"electronica argentina\"],[\"electropop\"],[\"electropowerpop\"],[\"emo\"],[\"emo mexicano\"],[\"emo punk\"],[\"emo rap\"],[\"emocore\"],[\"english baroque\"],[\"english indie rock\"],[\"english renaissance\"],[\"enka\"],[\"entehno\"],[\"environmental\"],[\"epic doom\"],[\"epicore\"],[\"erhu\"],[\"escape room\"],[\"esperanto\"],[\"essex indie\"],[\"estonian hip hop\"],[\"estonian pop\"],[\"ethereal wave\"],[\"etherpop\"],[\"ethio-jazz\"],[\"ethiopian pop\"],[\"ethnomusicology\"],[\"ethnotronica\"],[\"eugene indie\"],[\"euphoric hardstyle\"],[\"eurobeat\"],[\"eurodance\"],[\"europop\"],[\"euroska\"],[\"eurovision\"],[\"exotica\"],[\"experimental\"],[\"experimental ambient\"],[\"experimental big band\"],[\"experimental dub\"],[\"experimental folk\"],[\"experimental guitar\"],[\"experimental hip hop\"],[\"experimental house\"],[\"experimental indie\"],[\"experimental jazz\"],[\"experimental pop\"],[\"experimental rock\"],[\"experimental vocal\"],[\"fado\"],[\"family gospel\"],[\"faroese pop\"],[\"fast melodic punk\"],[\"fidget house\"],[\"filmi\"],[\"filter house\"],[\"filthstep\"],[\"final fantasy\"],[\"fingerstyle\"],[\"finnish alternative rock\"],[\"finnish classical\"],[\"finnish contemporary classical\"],[\"finnish death metal\"],[\"finnish edm\"],[\"finnish hard rock\"],[\"finnish heavy metal\"],[\"finnish metal\"],[\"finnish power metal\"],[\"finnish soul\"],[\"flamenco\"],[\"flamenco guitar\"],[\"flick hop\"],[\"flint hip hop\"],[\"float house\"],[\"florida death metal\"],[\"florida rap\"],[\"fluxwork\"],[\"fo jing\"],[\"focus\"],[\"focus beats\"],[\"focus trance\"],[\"folclor afrocolombiano\"],[\"folclor colombiano\"],[\"folclore extremeno\"],[\"folclore jujeno\"],[\"folclore navarra\"],[\"folclore salteno\"],[\"folclore tucumano\"],[\"folk\"],[\"folk metal\"],[\"folk punk\"],[\"folk rock\"],[\"folk rock italiano\"],[\"folk-pop\"],[\"folklore argentino\"],[\"folklore boliviano\"],[\"folklore chileno\"],[\"folklore ecuatoriano\"],[\"folklore peruano\"],[\"folklore venezolano\"],[\"folklore veracruzano\"],[\"folkmusik\"],[\"folktronica\"],[\"footwork\"],[\"forro\"],[\"forro tradicional\"],[\"fort worth indie\"],[\"fourth world\"],[\"francoton\"],[\"freak folk\"],[\"freakbeat\"],[\"free folk\"],[\"free improvisation\"],[\"free jazz\"],[\"freestyle\"],[\"french baroque\"],[\"french classical piano\"],[\"french contemporary classical\"],[\"french death metal\"],[\"french dnb\"],[\"french hip hop\"],[\"french indie folk\"],[\"french indie pop\"],[\"french indietronica\"],[\"french jazz\"],[\"french metal\"],[\"french movie tunes\"],[\"french opera\"],[\"french orchestra\"],[\"french pop\"],[\"french post-punk\"],[\"french psychedelic\"],[\"french reggae\"],[\"french rock\"],[\"french romanticism\"],[\"french shoegaze\"],[\"french soundtrack\"],[\"french synthpop\"],[\"french techno\"],[\"frenchcore\"],[\"full on\"],[\"funana\"],[\"funeral doom\"],[\"funk\"],[\"funk 150 bpm\"],[\"funk carioca\"],[\"funk das antigas\"],[\"funk metal\"],[\"funk mexicano\"],[\"funk ostentacao\"],[\"funk paulista\"],[\"funk pop\"],[\"funk rock\"],[\"funky breaks\"],[\"funky tech house\"],[\"future bass\"],[\"future funk\"],[\"future garage\"],[\"future house\"],[\"future rock\"],[\"futurepop\"],[\"g funk\"],[\"gabba\"],[\"gabonese pop\"],[\"gaian doom\"],[\"gainesville indie\"],[\"gaita zuliana\"],[\"galante era\"],[\"gamelan\"],[\"gaming dubstep\"],[\"gaming edm\"],[\"gangster rap\"],[\"garage house\"],[\"garage pop\"],[\"garage psych\"],[\"garage punk\"],[\"garage punk blues\"],[\"garage rock\"],[\"garage rock revival\"],[\"gauze pop\"],[\"gbvfi\"],[\"geek folk\"],[\"geek rock\"],[\"georgian folk\"],[\"german alternative rock\"],[\"german baroque\"],[\"german choir\"],[\"german classical piano\"],[\"german country\"],[\"german dance\"],[\"german hard rock\"],[\"german heavy metal\"],[\"german house\"],[\"german indie\"],[\"german jazz\"],[\"german literature\"],[\"german metal\"],[\"german oi\"],[\"german opera\"],[\"german orchestra\"],[\"german pop\"],[\"german pop rock\"],[\"german post-hardcore\"],[\"german power metal\"],[\"german punk\"],[\"german renaissance\"],[\"german rock\"],[\"german romanticism\"],[\"german show tunes\"],[\"german soundtrack\"],[\"german techno\"],[\"german thrash metal\"],[\"german trance\"],[\"german underground rap\"],[\"ghanaian hip hop\"],[\"ghanaian traditional\"],[\"ghazal\"],[\"ghent indie\"],[\"girl group\"],[\"glam metal\"],[\"glam punk\"],[\"glam rock\"],[\"glee club\"],[\"glitch\"],[\"glitch hop\"],[\"glitch pop\"],[\"glitchcore\"],[\"go-go\"],[\"goregrind\"],[\"gospel\"],[\"gospel antigas\"],[\"gospel blues\"],[\"gospel italiano\"],[\"gospel r&b\"],[\"gospel rap\"],[\"gospel singers\"],[\"gospel soul\"],[\"gothabilly\"],[\"gothenburg indie\"],[\"gothenburg metal\"],[\"gothic alternative\"],[\"gothic americana\"],[\"gothic black metal\"],[\"gothic metal\"],[\"gothic post-punk\"],[\"gothic rock\"],[\"gothic symphonic metal\"],[\"gqom\"],[\"grand rapids indie\"],[\"grave wave\"],[\"greek clarinet\"],[\"greek contemporary classical\"],[\"greek folk\"],[\"greek guitar\"],[\"greek house\"],[\"greek jazz\"],[\"greek pop\"],[\"greek swing\"],[\"gregorian chant\"],[\"grime\"],[\"grindcore\"],[\"griot\"],[\"groove metal\"],[\"groove room\"],[\"grunge\"],[\"grunge pop\"],[\"grupera\"],[\"gruperas inmortales\"],[\"guadalajara indie\"],[\"guam indie\"],[\"guaracha\"],[\"guatemalan pop\"],[\"guidance\"],[\"guinean pop\"],[\"guitarra argentina\"],[\"guitarra clasica\"],[\"guitarra portuguesa\"],[\"gujarati garba\"],[\"gujarati pop\"],[\"guzheng\"],[\"gymcore\"],[\"gypsy\"],[\"gypsy jazz\"],[\"gypsy punk\"],[\"haitian traditional\"],[\"halifax indie\"],[\"halloween\"],[\"hamburg electronic\"],[\"hammered dulcimer\"],[\"hammond organ\"],[\"hands up\"],[\"hangpan\"],[\"happy hardcore\"],[\"hard alternative\"],[\"hard bop\"],[\"hard minimal techno\"],[\"hard rock\"],[\"hard rock brasileiro\"],[\"hardcore\"],[\"hardcore hip hop\"],[\"hardcore punk\"],[\"hardcore techno\"],[\"hardstyle\"],[\"harlem hip hop\"],[\"harlem renaissance\"],[\"harmonica blues\"],[\"harmonica jazz\"],[\"harp\"],[\"harpsichord\"],[\"haryanvi pop\"],[\"hauntology\"],[\"hawaiian\"],[\"hawaiian hip hop\"],[\"hawaiian indie\"],[\"healing\"],[\"heartland rock\"],[\"hi-nrg\"],[\"highlife\"],[\"hindi hip hop\"],[\"hindi indie\"],[\"hindustani classical\"],[\"hindustani instrumental\"],[\"hindustani vocal\"],[\"hip hop\"],[\"hip hop cubano\"],[\"hip house\"],[\"hip pop\"],[\"hiplife\"],[\"histoire pour enfants\"],[\"historic classical performance\"],[\"historic orchestral performance\"],[\"historic piano performance\"],[\"historic string quartet\"],[\"historical keyboard\"],[\"historically informed performance\"],[\"hoerspiel\"],[\"hokkien pop\"],[\"hollywood\"],[\"hong kong hip hop\"],[\"hong kong indie\"],[\"hong kong rock\"],[\"honky tonk\"],[\"honky-tonk piano\"],[\"hopebeat\"],[\"horror punk\"],[\"horror synth\"],[\"horrorcore\"],[\"house\"],[\"houston rap\"],[\"huapango\"],[\"huayno\"],[\"hula\"],[\"humppa\"],[\"hungarian choir\"],[\"hungarian classical performance\"],[\"hungarian classical piano\"],[\"hungarian contemporary classical\"],[\"hungarian edm\"],[\"hungarian folk\"],[\"hungarian pop\"],[\"hungarian rock\"],[\"hungarian techno\"],[\"hurdy-gurdy\"],[\"hyperpop\"],[\"hyphy\"],[\"icelandic classical\"],[\"icelandic electronic\"],[\"icelandic experimental\"],[\"icelandic folk\"],[\"icelandic indie\"],[\"icelandic jazz\"],[\"icelandic pop\"],[\"icelandic rock\"],[\"idaho indie\"],[\"idol\"],[\"idol rock\"],[\"ilahiler\"],[\"ilocano pop\"],[\"impressionism\"],[\"indian classical\"],[\"indian edm\"],[\"indian folk\"],[\"indian fusion\"],[\"indian indie\"],[\"indian instrumental\"],[\"indian jazz\"],[\"indiana hip hop\"],[\"indie anthem-folk\"],[\"indie cafe pop\"],[\"indie deutschrap\"],[\"indie dream pop\"],[\"indie electronica\"],[\"indie electropop\"],[\"indie folk\"],[\"indie game soundtrack\"],[\"indie garage rock\"],[\"indie hip hop\"],[\"indie jazz\"],[\"indie pop\"],[\"indie pop rap\"],[\"indie poptimism\"],[\"indie psych-pop\"],[\"indie punk\"],[\"indie quebecois\"],[\"indie r&b\"],[\"indie rock\"],[\"indie rock mexicano\"],[\"indie rockism\"],[\"indie shoegaze\"],[\"indie singer-songwriter\"],[\"indie soul\"],[\"indie surf\"],[\"indie triste\"],[\"indiecoustica\"],[\"indietronica\"],[\"indonesian hip hop\"],[\"indonesian indie\"],[\"indonesian pop\"],[\"indonesian r&b\"],[\"indonesian worship\"],[\"industrial\"],[\"industrial hardcore\"],[\"industrial hip hop\"],[\"industrial metal\"],[\"industrial rock\"],[\"indy indie\"],[\"instrumental acoustic guitar\"],[\"instrumental bluegrass\"],[\"instrumental funk\"],[\"instrumental grime\"],[\"instrumental math rock\"],[\"instrumental post-rock\"],[\"instrumental progressive metal\"],[\"instrumental rock\"],[\"instrumental soul\"],[\"instrumental stoner rock\"],[\"instrumental surf\"],[\"intelligent dance music\"],[\"iowa hip hop\"],[\"irish accordion\"],[\"irish ballad\"],[\"irish banjo\"],[\"irish classical\"],[\"irish country\"],[\"irish dance\"],[\"irish fiddle\"],[\"irish folk\"],[\"irish hip hop\"],[\"irish indie\"],[\"irish metal\"],[\"irish pop\"],[\"irish pub song\"],[\"irish rock\"],[\"irish singer-songwriter\"],[\"iskelma\"],[\"islamic recitation\"],[\"isle of wight indie\"],[\"israeli classical\"],[\"israeli classical piano\"],[\"israeli folk\"],[\"israeli hip hop\"],[\"israeli mediterranean\"],[\"israeli pop\"],[\"israeli rock\"],[\"israeli singer-songwriter\"],[\"israeli techno\"],[\"italian adult pop\"],[\"italian baritone\"],[\"italian baroque\"],[\"italian baroque ensemble\"],[\"italian bass\"],[\"italian blues\"],[\"italian classical guitar\"],[\"italian classical piano\"],[\"italian contemporary jazz\"],[\"italian disco\"],[\"italian gothic\"],[\"italian gothic metal\"],[\"italian indie pop\"],[\"italian jazz\"],[\"italian library music\"],[\"italian mandolin\"],[\"italian metal\"],[\"italian mezzo-soprano\"],[\"italian modern prog\"],[\"italian opera\"],[\"italian orchestra\"],[\"italian pop rock\"],[\"italian power metal\"],[\"italian progressive metal\"],[\"italian progressive rock\"],[\"italian renaissance\"],[\"italian romanticism\"],[\"italian soprano\"],[\"italian soundtrack\"],[\"italian techno\"],[\"italian tenor\"],[\"italian violin\"],[\"italo dance\"],[\"italo house\"],[\"j-acoustic\"],[\"j-ambient\"],[\"j-dance\"],[\"j-division\"],[\"j-idol\"],[\"j-metal\"],[\"j-pixie\"],[\"j-pop\"],[\"j-pop girl group\"],[\"j-poprock\"],[\"j-punk\"],[\"j-reggae\"],[\"j-rock\"],[\"jacksonville indie\"],[\"jam band\"],[\"jamgrass\"],[\"jamtronica\"],[\"jangle pop\"],[\"japanese alternative rock\"],[\"japanese chillhop\"],[\"japanese city pop\"],[\"japanese classical\"],[\"japanese classical performance\"],[\"japanese classical piano\"],[\"japanese concert band\"],[\"japanese dream pop\"],[\"japanese electronic\"],[\"japanese electropop\"],[\"japanese emo\"],[\"japanese experimental\"],[\"japanese folk\"],[\"japanese garage rock\"],[\"japanese girl punk\"],[\"japanese heavy metal\"],[\"japanese idm\"],[\"japanese indie folk\"],[\"japanese indie rock\"],[\"japanese instrumental\"],[\"japanese jazz\"],[\"japanese jazz fusion\"],[\"japanese jazztronica\"],[\"japanese metalcore\"],[\"japanese new wave\"],[\"japanese piano\"],[\"japanese pop punk\"],[\"japanese post-hardcore\"],[\"japanese power metal\"],[\"japanese prog\"],[\"japanese psychedelic\"],[\"japanese punk rock\"],[\"japanese r&b\"],[\"japanese rockabilly\"],[\"japanese singer-songwriter\"],[\"japanese soundtrack\"],[\"japanese traditional\"],[\"japanese vgm\"],[\"japanese vocal jazz\"],[\"jawaiian\"],[\"jazz\"],[\"jazz accordion\"],[\"jazz blues\"],[\"jazz boom bap\"],[\"jazz brass\"],[\"jazz chileno\"],[\"jazz clarinet\"],[\"jazz colombiano\"],[\"jazz cubano\"],[\"jazz double bass\"],[\"jazz drums\"],[\"jazz flute\"],[\"jazz funk\"],[\"jazz fusion\"],[\"jazz guitar\"],[\"jazz harp\"],[\"jazz metal\"],[\"jazz mexicano\"],[\"jazz orchestra\"],[\"jazz organ\"],[\"jazz piano\"],[\"jazz pop\"],[\"jazz quartet\"],[\"jazz rap\"],[\"jazz rock\"],[\"jazz saxophone\"],[\"jazz trio\"],[\"jazz trombone\"],[\"jazz trumpet\"],[\"jazz tuba\"],[\"jazz venezolano\"],[\"jazz vibraphone\"],[\"jazz violin\"],[\"jazztronica\"],[\"jewish cantorial\"],[\"jewish hip hop\"],[\"jig and reel\"],[\"jordanian pop\"],[\"joropo\"],[\"jovem guarda\"],[\"jug band\"],[\"juju\"],[\"jump blues\"],[\"jump up\"],[\"k-indie\"],[\"k-pop\"],[\"k-pop boy group\"],[\"k-pop girl group\"],[\"k-rap\"],[\"kabarett\"],[\"kabyle\"],[\"kaneka\"],[\"kannada bhava geethe\"],[\"kansas city hip hop\"],[\"kashmiri pop\"],[\"kawaii future bass\"],[\"kawaii metal\"],[\"kayokyoku\"],[\"kc indie\"],[\"kent indie\"],[\"kentucky hip hop\"],[\"kentucky indie\"],[\"kentucky metal\"],[\"kentucky mountain folk\"],[\"kentucky punk\"],[\"kentucky roots\"],[\"keroncong\"],[\"khaleeji iraqi\"],[\"khmer\"],[\"kids dance party\"],[\"kindie rock\"],[\"kingston on indie\"],[\"kirtan\"],[\"kiwi rock\"],[\"kizomba antigas\"],[\"kleine hoerspiel\"],[\"klezmer\"],[\"knoxville indie\"],[\"kodomo no ongaku\"],[\"kolsche karneval\"],[\"komedi\"],[\"kompa\"],[\"kora\"],[\"korean classical performance\"],[\"korean classical piano\"],[\"korean indie rock\"],[\"korean mask singer\"],[\"korean pop\"],[\"korean r&b\"],[\"korean trap\"],[\"koto\"],[\"krautrock\"],[\"kundiman\"],[\"la indie\"],[\"la pop\"],[\"laboratorio\"],[\"lafayette indie\"],[\"laiko\"],[\"lancashire indie\"],[\"lancaster pa indie\"],[\"late romantic era\"],[\"latin\"],[\"latin afrobeat\"],[\"latin alternative\"],[\"latin american classical piano\"],[\"latin arena pop\"],[\"latin christian\"],[\"latin classical\"],[\"latin funk\"],[\"latin hip hop\"],[\"latin house\"],[\"latin jazz\"],[\"latin metal\"],[\"latin pop\"],[\"latin rock\"],[\"latin ska\"],[\"latin soundtrack\"],[\"latin talent show\"],[\"latin tech house\"],[\"latin viral pop\"],[\"latin worship\"],[\"latincore\"],[\"latino comedy\"],[\"latintronica\"],[\"latinx alternative\"],[\"latvian pop\"],[\"lds\"],[\"lds youth\"],[\"lebanese pop\"],[\"leicester indie\"],[\"lexington ky indie\"],[\"lgbtq+ hip hop\"],[\"library music\"],[\"liedermacher\"],[\"light music\"],[\"lilith\"],[\"liquid funk\"],[\"lithuanian electronic\"],[\"liverpool indie\"],[\"livetronica\"],[\"lldm\"],[\"lo star\"],[\"lo-fi\"],[\"lo-fi beats\"],[\"lo-fi brasileiro\"],[\"lo-fi chill\"],[\"lo-fi cover\"],[\"lo-fi emo\"],[\"lo-fi house\"],[\"lo-fi indie\"],[\"lo-fi vgm\"],[\"london rap\"],[\"louisiana blues\"],[\"louisiana metal\"],[\"louisville indie\"],[\"louisville underground\"],[\"lounge\"],[\"louvor\"],[\"lovers rock\"],[\"lullaby\"],[\"lund indie\"],[\"lute\"],[\"macedonian folk\"],[\"madchester\"],[\"madrigal\"],[\"magyar alternative\"],[\"maine hip hop\"],[\"maine indie\"],[\"mainland chinese pop\"],[\"makossa\"],[\"malaysian mandopop\"],[\"malaysian pop\"],[\"malian blues\"],[\"mallet\"],[\"malmo indie\"],[\"mambo\"],[\"manchester hip hop\"],[\"manchester indie\"],[\"mande pop\"],[\"mandolin\"],[\"mandopop\"],[\"manguebeat\"],[\"manila sound\"],[\"manitoba indie\"],[\"mantra\"],[\"marathi pop\"],[\"marathi traditional\"],[\"marching band\"],[\"mariachi\"],[\"mariachi cristiano\"],[\"marimba orquesta\"],[\"martial industrial\"],[\"mashup\"],[\"math rock\"],[\"mathcore\"],[\"mbalax\"],[\"medieval\"],[\"medieval folk\"],[\"medieval rock\"],[\"meditation\"],[\"melancholia\"],[\"melbourne bounce\"],[\"melbourne bounce international\"],[\"melbourne indie\"],[\"mellow gold\"],[\"melodic death metal\"],[\"melodic deathcore\"],[\"melodic dubstep\"],[\"melodic groove metal\"],[\"melodic hard rock\"],[\"melodic hardcore\"],[\"melodic metal\"],[\"melodic metalcore\"],[\"melodic power metal\"],[\"melodic rap\"],[\"melodic thrash\"],[\"meme rap\"],[\"memphis americana\"],[\"memphis blues\"],[\"memphis hip hop\"],[\"memphis indie\"],[\"memphis soul\"],[\"mento\"],[\"merengue\"],[\"merengue tipico\"],[\"merseybeat\"],[\"messianic praise\"],[\"metal\"],[\"metal guitar\"],[\"metal mineiro\"],[\"metalcore\"],[\"metropopolis\"],[\"mexican classic rock\"],[\"mexican classical\"],[\"mexican hip hop\"],[\"mexican indie\"],[\"mexican pop\"],[\"mexican pop punk\"],[\"mexican rock\"],[\"mexican rock-and-roll\"],[\"mexican son\"],[\"mexican traditional\"],[\"miami bass\"],[\"miami hip hop\"],[\"miami indie\"],[\"miami metal\"],[\"michigan indie\"],[\"microhouse\"],[\"microtonal\"],[\"middle earth\"],[\"middle east hip hop\"],[\"middle eastern traditional\"],[\"midwest americana\"],[\"midwest emo\"],[\"military cadence\"],[\"military rap\"],[\"milwaukee indie\"],[\"mindfulness\"],[\"minecraft\"],[\"minimal melodic techno\"],[\"minimal tech house\"],[\"minimal techno\"],[\"minimal wave\"],[\"minimalism\"],[\"minneapolis indie\"],[\"minneapolis metal\"],[\"minneapolis punk\"],[\"minneapolis sound\"],[\"minnesota hip hop\"],[\"mississippi hip hop\"],[\"mississippi indie\"],[\"mizrahi\"],[\"mod revival\"],[\"modern alternative pop\"],[\"modern alternative rock\"],[\"modern big band\"],[\"modern blues\"],[\"modern blues rock\"],[\"modern bollywood\"],[\"modern country rock\"],[\"modern dream pop\"],[\"modern folk rock\"],[\"modern funk\"],[\"modern hard rock\"],[\"modern indie pop\"],[\"modern jazz piano\"],[\"modern jazz trio\"],[\"modern old-time\"],[\"modern performance\"],[\"modern power pop\"],[\"modern psychedelic folk\"],[\"modern reggae\"],[\"modern rock\"],[\"modern salsa\"],[\"modern ska punk\"],[\"modern southern rock\"],[\"modern string quartet\"],[\"modern swing\"],[\"modern uplift\"],[\"modular synth\"],[\"moldovan pop\"],[\"mollywood\"],[\"mongolian hip hop\"],[\"mongolian pop\"],[\"monterrey indie\"],[\"montreal indie\"],[\"moog\"],[\"moombahton\"],[\"morna\"],[\"motivation\"],[\"motown\"],[\"mountain dulcimer\"],[\"movie tunes\"],[\"mpb\"],[\"music box\"],[\"music hall\"],[\"musica afroperuana\"],[\"musica alagoana\"],[\"musica andina\"],[\"musica andina colombiana\"],[\"musica antigua\"],[\"musica aragonesa\"],[\"musica ayacuchana\"],[\"musica canaria\"],[\"musica costarricense\"],[\"musica costena\"],[\"musica cristiana guatemalteca\"],[\"musica de fondo\"],[\"musica gaucha tradicionalista\"],[\"musica hondurena\"],[\"musica infantil\"],[\"musica jibara\"],[\"musica juiz-forana\"],[\"musica llanera\"],[\"musica nicaraguense\"],[\"musica para criancas\"],[\"musica para ninos\"],[\"musica paraibana\"],[\"musica piemonteisa\"],[\"musica popular colombiana\"],[\"musica popular mineira\"],[\"musica popular paraense\"],[\"musica potosina\"],[\"musica prehispanica\"],[\"musica sarda\"],[\"musica tradicional cubana\"],[\"musica tropical guatemalteca\"],[\"musical advocacy\"],[\"musikkorps\"],[\"musique concrete\"],[\"musique peule\"],[\"musique pour enfant quebecois\"],[\"musique pour enfants\"],[\"musique touareg\"],[\"muzica populara\"],[\"muzika l'yeladim\"],[\"naija worship\"],[\"nantes indie\"],[\"narodna muzika\"],[\"nashville americana\"],[\"nashville hip hop\"],[\"nashville indie\"],[\"nashville singer-songwriter\"],[\"nashville sound\"],[\"native american\"],[\"native american contemporary\"],[\"native american flute\"],[\"native american hip hop\"],[\"native american spiritual\"],[\"navajo\"],[\"nederlandse hardstyle\"],[\"nederpop\"],[\"neo classical metal\"],[\"neo kyma\"],[\"neo mellow\"],[\"neo r&b\"],[\"neo soul\"],[\"neo-classical\"],[\"neo-kraut\"],[\"neo-pagan\"],[\"neo-progressive\"],[\"neo-psychedelic\"],[\"neo-rockabilly\"],[\"neo-singer-songwriter\"],[\"neo-synthpop\"],[\"neo-trad metal\"],[\"neo-traditional bluegrass\"],[\"neo-traditional country\"],[\"neoclassical darkwave\"],[\"neoclassicism\"],[\"neofolk\"],[\"neon pop punk\"],[\"neotango\"],[\"nepali indie\"],[\"nepali pop\"],[\"nerdcore\"],[\"neue deutsche harte\"],[\"neue deutsche todeskunst\"],[\"neue deutsche welle\"],[\"neurofunk\"],[\"new age\"],[\"new age piano\"],[\"new americana\"],[\"new beat\"],[\"new comedy\"],[\"new england americana\"],[\"new england emo\"],[\"new french touch\"],[\"new isolationism\"],[\"new jack swing\"],[\"new jersey hardcore\"],[\"new jersey indie\"],[\"new jersey punk\"],[\"new jersey rap\"],[\"new mexico music\"],[\"new orleans blues\"],[\"new orleans funk\"],[\"new orleans indie\"],[\"new orleans jazz\"],[\"new orleans rap\"],[\"new rave\"],[\"new romantic\"],[\"new tribe\"],[\"new wave\"],[\"new wave of thrash metal\"],[\"new wave pop\"],[\"new weird america\"],[\"new york death metal\"],[\"new york drill\"],[\"new zealand classical\"],[\"newcastle indie\"],[\"newcastle nsw indie\"],[\"nigerian hip hop\"],[\"nigerian pop\"],[\"nightcore\"],[\"nightrun\"],[\"ninja\"],[\"nintendocore\"],[\"nisiotika\"],[\"nl folk\"],[\"no wave\"],[\"noise pop\"],[\"noise punk\"],[\"noise rock\"],[\"nordic classical piano\"],[\"nordic contemporary classical\"],[\"nordic folk\"],[\"nordic house\"],[\"nordic orchestra\"],[\"nordic post-rock\"],[\"nordic soundtrack\"],[\"norman ok indie\"],[\"norsk lovsang\"],[\"norteno\"],[\"norteno-sax\"],[\"north carolina emo\"],[\"north carolina hip hop\"],[\"north carolina indie\"],[\"north carolina metal\"],[\"north carolina roots\"],[\"north east england indie\"],[\"northern irish indie\"],[\"northern irish punk\"],[\"northern soul\"],[\"norwegian black metal\"],[\"norwegian choir\"],[\"norwegian classical\"],[\"norwegian contemporary jazz\"],[\"norwegian death metal\"],[\"norwegian experimental\"],[\"norwegian hip hop\"],[\"norwegian indie\"],[\"norwegian jazz\"],[\"norwegian metal\"],[\"norwegian pop\"],[\"norwegian pop rap\"],[\"norwegian punk rock\"],[\"norwegian rock\"],[\"norwegian singer-songwriter\"],[\"norwegian space disco\"],[\"nottingham indie\"],[\"nouvelle chanson francaise\"],[\"nova canco\"],[\"nova mpb\"],[\"nova musica pernambucana\"],[\"novelty\"],[\"nu age\"],[\"nu disco\"],[\"nu gaze\"],[\"nu jazz\"],[\"nu metal\"],[\"nu skool breaks\"],[\"nu-cumbia\"],[\"nu-metalcore\"],[\"nubian traditional\"],[\"nueva cancion\"],[\"nueva ola chilena\"],[\"nueva ola peruana\"],[\"nuevo flamenco\"],[\"nuevo folklore mexicano\"],[\"nuevo regional mexicano\"],[\"nuevo tango\"],[\"nursery\"],[\"nwobhm\"],[\"nwothm\"],[\"ny roots\"],[\"nyc pop\"],[\"nyc rap\"],[\"nyhc\"],[\"nz christian\"],[\"nz folk\"],[\"nz hardcore\"],[\"nz indie\"],[\"nz pop\"],[\"nz punk\"],[\"nz reggae\"],[\"nz singer-songwriter\"],[\"oakland hip hop\"],[\"oakland indie\"],[\"oc indie\"],[\"oc rap\"],[\"oceania soundtrack\"],[\"ohio hip hop\"],[\"ohio indie\"],[\"oi\"],[\"ok indie\"],[\"okc indie\"],[\"okinawan pop\"],[\"oklahoma country\"],[\"old school dancehall\"],[\"old school hip hop\"],[\"old school rap francais\"],[\"old school thrash\"],[\"old school uk hip hop\"],[\"old west\"],[\"old-time\"],[\"old-time fiddle\"],[\"olympia wa indie\"],[\"omaha indie\"],[\"one-person band\"],[\"ontario indie\"],[\"opera\"],[\"opera chorus\"],[\"opera metal\"],[\"operatic pop\"],[\"operetta\"],[\"opm\"],[\"oratory\"],[\"orchestra\"],[\"orchestral performance\"],[\"orebro indie\"],[\"organic ambient\"],[\"organic electronic\"],[\"organic house\"],[\"orgcore\"],[\"oriental classical\"],[\"orkney and shetland folk\"],[\"orlando indie\"],[\"orquesta tipica\"],[\"orthodox chant\"],[\"oshare kei\"],[\"otacore\"],[\"oth indie\"],[\"ottawa indie\"],[\"ottawa rap\"],[\"oud\"],[\"outer hip hop\"],[\"outlaw country\"],[\"outsider\"],[\"outsider house\"],[\"oxford choir\"],[\"oxford indie\"],[\"p funk\"],[\"pagan black metal\"],[\"pagode\"],[\"pagode baiano\"],[\"paisley underground\"],[\"pakistani folk\"],[\"pakistani hip hop\"],[\"pakistani pop\"],[\"palestinian pop\"],[\"palm desert scene\"],[\"panamanian pop\"],[\"panamanian rock\"],[\"panpipe\"],[\"papuri\"],[\"parody\"],[\"partido alto\"],[\"partyschlager\"],[\"pei indie\"],[\"permanent wave\"],[\"perreo\"],[\"persian pop\"],[\"persian traditional\"],[\"perth indie\"],[\"peruvian hip hop\"],[\"peruvian rock\"],[\"pet calming\"],[\"philly indie\"],[\"philly rap\"],[\"philly soul\"],[\"phoenix indie\"],[\"phonk\"],[\"pianissimo\"],[\"piano blues\"],[\"piano cover\"],[\"piano mpb\"],[\"piano rock\"],[\"pibroch\"],[\"piedmont blues\"],[\"pinoy hip hop\"],[\"pinoy indie\"],[\"pinoy pop punk\"],[\"pinoy praise\"],[\"pinoy r&b\"],[\"pinoy reggae\"],[\"pinoy rock\"],[\"pinoy traditional\"],[\"pinoy trap\"],[\"pirate\"],[\"pittsburgh indie\"],[\"pittsburgh rap\"],[\"pittsburgh rock\"],[\"pixie\"],[\"plunderphonics\"],[\"poetry\"],[\"polca paraguaya\"],[\"polish blues\"],[\"polish classical\"],[\"polish classical piano\"],[\"polish contemporary classical\"],[\"polish jazz\"],[\"polish modern jazz\"],[\"polish pop\"],[\"polish post-rock\"],[\"polish reggae\"],[\"polish rock\"],[\"political hip hop\"],[\"polka\"],[\"polynesian hip hop\"],[\"polynesian pop\"],[\"polyphony\"],[\"pony\"],[\"pop\"],[\"pop argentino\"],[\"pop chileno\"],[\"pop dance\"],[\"pop edm\"],[\"pop electronico\"],[\"pop emo\"],[\"pop flamenco\"],[\"pop folk\"],[\"pop house\"],[\"pop nacional\"],[\"pop nacional antigas\"],[\"pop peruano\"],[\"pop punk\"],[\"pop quebecois\"],[\"pop r&b\"],[\"pop rap\"],[\"pop reggaeton\"],[\"pop rock\"],[\"pop rock brasileiro\"],[\"pop romantico\"],[\"pop soul\"],[\"pop venezolano\"],[\"pop violin\"],[\"popgaze\"],[\"popping\"],[\"pops orchestra\"],[\"popwave\"],[\"pornogrind\"],[\"porro\"],[\"portland hip hop\"],[\"portland indie\"],[\"portland metal\"],[\"portland punk\"],[\"portuguese early music\"],[\"post-disco\"],[\"post-disco soul\"],[\"post-doom metal\"],[\"post-grunge\"],[\"post-hardcore\"],[\"post-metal\"],[\"post-minimalism\"],[\"post-post-hardcore\"],[\"post-punk\"],[\"post-punk argentina\"],[\"post-rock\"],[\"post-romantic era\"],[\"post-screamo\"],[\"post-teen pop\"],[\"power metal\"],[\"power pop\"],[\"power thrash\"],[\"power-pop punk\"],[\"praise\"],[\"prepared piano\"],[\"preschool children's music\"],[\"prog quebec\"],[\"progressive alternative\"],[\"progressive bluegrass\"],[\"progressive deathcore\"],[\"progressive electro house\"],[\"progressive groove metal\"],[\"progressive house\"],[\"progressive jazz fusion\"],[\"progressive metal\"],[\"progressive metalcore\"],[\"progressive post-hardcore\"],[\"progressive power metal\"],[\"progressive psytrance\"],[\"progressive rock\"],[\"progressive sludge\"],[\"progressive trance\"],[\"progressive trance house\"],[\"progressive uplifting trance\"],[\"proto-rap\"],[\"proto-techno\"],[\"protopunk\"],[\"psalmen\"],[\"psicodelia brasileira\"],[\"psybass\"],[\"psychedelic blues-rock\"],[\"psychedelic doom\"],[\"psychedelic folk\"],[\"psychedelic folk rock\"],[\"psychedelic hip hop\"],[\"psychedelic pop\"],[\"psychedelic punk\"],[\"psychedelic rock\"],[\"psychedelic soul\"],[\"psychedelic trance\"],[\"psychill\"],[\"psychobilly\"],[\"pub rock\"],[\"puerto rican folk\"],[\"puerto rican pop\"],[\"puerto rican rock\"],[\"punjabi folk\"],[\"punjabi hip hop\"],[\"punjabi pop\"],[\"punk\"],[\"punk 'n' roll\"],[\"punk blues\"],[\"punk rock italiano\"],[\"punk rock mexicano\"],[\"punta\"],[\"purple sound\"],[\"qawwali\"],[\"quartetto d'archi\"],[\"quatuor a cordes\"],[\"quebec death metal\"],[\"quebec indie\"],[\"queens hip hop\"],[\"queer country\"],[\"queercore\"],[\"quiet storm\"],[\"quran\"],[\"r&b\"],[\"r&b en espanol\"],[\"rabindra sangeet\"],[\"radio symphony\"],[\"ragtime\"],[\"rai\"],[\"ranchera\"],[\"rap\"],[\"rap chileno\"],[\"rap conciencia\"],[\"rap conscient\"],[\"rap cristiano\"],[\"rap dominicano\"],[\"rap kreyol\"],[\"rap latina\"],[\"rap metal\"],[\"rap nacional antigo\"],[\"rap napoletano\"],[\"rap rock\"],[\"rap underground mexicano\"],[\"rare groove\"],[\"rave\"],[\"rawstyle\"],[\"reading\"],[\"reading indie\"],[\"rebel blues\"],[\"rebetiko\"],[\"recorder\"],[\"red dirt\"],[\"redneck\"],[\"reggae\"],[\"reggae en espanol\"],[\"reggae fusion\"],[\"reggae rock\"],[\"reggaeton\"],[\"reggaeton colombiano\"],[\"reggaeton cristiano\"],[\"reggaeton flow\"],[\"reggaeton mexicano\"],[\"regional mexican\"],[\"relaxative\"],[\"renaissance\"],[\"rennes indie\"],[\"retro metal\"],[\"retro soul\"],[\"rhode island indie\"],[\"rhode island rap\"],[\"rhythm and blues\"],[\"riddim\"],[\"rif\"],[\"riot grrrl\"],[\"ritmo kombina\"],[\"rochester mn indie\"],[\"rochester ny indie\"],[\"rock\"],[\"rock alternatif francais\"],[\"rock alternativo brasileiro\"],[\"rock andaluz\"],[\"rock baiano\"],[\"rock brasiliense\"],[\"rock chapin\"],[\"rock cristiano\"],[\"rock drums\"],[\"rock en espanol\"],[\"rock gaucho\"],[\"rock independant francais\"],[\"rock kapak\"],[\"rock keyboard\"],[\"rock nacional\"],[\"rock nacional brasileiro\"],[\"rock pernambucano\"],[\"rock progressif francais\"],[\"rock steady\"],[\"rock urbano mexicano\"],[\"rock-and-roll\"],[\"rockabilly\"],[\"rockabilly en espanol\"],[\"roda de samba\"],[\"romanian classical piano\"],[\"romanian electronic\"],[\"romanian folk\"],[\"romanian pop\"],[\"romanian rock\"],[\"romantico\"],[\"roots americana\"],[\"roots reggae\"],[\"roots rock\"],[\"roots worship\"],[\"rosary\"],[\"rumba\"],[\"rumba congolaise\"],[\"rune folk\"],[\"russian alternative rock\"],[\"russian ccm\"],[\"russian chanson\"],[\"russian choir\"],[\"russian classical piano\"],[\"russian dance\"],[\"russian edm\"],[\"russian folk\"],[\"russian folk rock\"],[\"russian jazz\"],[\"russian metal\"],[\"russian metalcore\"],[\"russian modern classical\"],[\"russian orchestra\"],[\"russian pop\"],[\"russian post-punk\"],[\"russian punk\"],[\"russian rock\"],[\"russian romanticism\"],[\"russian shoegaze\"],[\"russian trance\"],[\"rva indie\"],[\"rwandan traditional\"],[\"ryukyu ongaku\"],[\"sacramento hip hop\"],[\"sacramento indie\"],[\"sacred steel\"],[\"sad rap\"],[\"salsa\"],[\"salsa choke\"],[\"salsa colombiana\"],[\"salsa cubana\"],[\"salsa international\"],[\"salsa peruana\"],[\"salsa puertorriquena\"],[\"salsa venezolana\"],[\"samba\"],[\"samba de roda\"],[\"samba moderno\"],[\"samba-enredo\"],[\"samba-jazz\"],[\"samba-rock\"],[\"san antonio rap\"],[\"san diego indie\"],[\"san diego rap\"],[\"san marcos tx indie\"],[\"sandalwood\"],[\"sarod\"],[\"saskatchewan indie\"],[\"scam rap\"],[\"scandinavian r&b\"],[\"scandipop\"],[\"schlager\"],[\"scorecore\"],[\"scottish electronic\"],[\"scottish fiddle\"],[\"scottish folk\"],[\"scottish hip hop\"],[\"scottish indie\"],[\"scottish jazz\"],[\"scottish metal\"],[\"scottish new wave\"],[\"scottish rock\"],[\"scottish singer-songwriter\"],[\"scratch\"],[\"scream rap\"],[\"screamo\"],[\"seattle hip hop\"],[\"seattle indie\"],[\"second line\"],[\"sefardi\"],[\"serbian electronic\"],[\"serialism\"],[\"sertanejo\"],[\"sertanejo pop\"],[\"sertanejo tradicional\"],[\"sertanejo universitario\"],[\"sevdah\"],[\"sevillanas\"],[\"shaabi\"],[\"shabad\"],[\"shakuhachi\"],[\"shamanic\"],[\"shanty\"],[\"sheffield indie\"],[\"shibuya-kei\"],[\"shimmer pop\"],[\"shimmer psych\"],[\"shiver pop\"],[\"shoegaze\"],[\"show tunes\"],[\"shred\"],[\"shush\"],[\"sierreno\"],[\"singaporean mandopop\"],[\"singaporean pop\"],[\"singaporean singer-songwriter\"],[\"singer-songwriter\"],[\"singing bowl\"],[\"sitar\"],[\"ska\"],[\"ska argentino\"],[\"ska chileno\"],[\"ska jazz\"],[\"ska mexicano\"],[\"ska punk\"],[\"ska revival\"],[\"skate punk\"],[\"skiffle\"],[\"skramz\"],[\"sky room\"],[\"slack-key guitar\"],[\"slam poetry\"],[\"slamming deathcore\"],[\"slavic folk metal\"],[\"slayer\"],[\"slc indie\"],[\"sleaze rock\"],[\"sleep\"],[\"slovak electronic\"],[\"slovenian electronic\"],[\"slovenian metal\"],[\"slow game\"],[\"slowcore\"],[\"sludge metal\"],[\"small room\"],[\"smooth jazz\"],[\"smooth saxophone\"],[\"smooth soul\"],[\"soca\"],[\"socal pop punk\"],[\"social media pop\"],[\"soda pop\"],[\"soft rock\"],[\"solipsynthm\"],[\"son cubano\"],[\"son cubano clasico\"],[\"son jarocho\"],[\"sophisti-pop\"],[\"sotalaulut\"],[\"soukous\"],[\"soul\"],[\"soul blues\"],[\"soul flow\"],[\"soul jazz\"],[\"souldies\"],[\"sound\"],[\"sound art\"],[\"sound effects\"],[\"sound team\"],[\"soundtrack\"],[\"south african alternative\"],[\"south african choral\"],[\"south african country\"],[\"south african hip hop\"],[\"south african house\"],[\"south african jazz\"],[\"south african pop\"],[\"south african pop dance\"],[\"south african rock\"],[\"south carolina hip hop\"],[\"south carolina indie\"],[\"south carolina metal\"],[\"south dakota indie\"],[\"southampton indie\"],[\"southern americana\"],[\"southern gospel\"],[\"southern hip hop\"],[\"southern metal\"],[\"southern rock\"],[\"southern soul\"],[\"southern soul blues\"],[\"soviet synthpop\"],[\"sovietwave\"],[\"spa\"],[\"space age pop\"],[\"space ambient\"],[\"space rock\"],[\"spanish baroque\"],[\"spanish classical\"],[\"spanish classical piano\"],[\"spanish folk metal\"],[\"spanish hip hop\"],[\"spanish indie pop\"],[\"spanish invasion\"],[\"spanish metal\"],[\"spanish modern rock\"],[\"spanish new wave\"],[\"spanish noise pop\"],[\"spanish pop\"],[\"spanish pop rock\"],[\"spanish renaissance\"],[\"spanish rock\"],[\"spanish synthpop\"],[\"spanish techno\"],[\"speed garage\"],[\"speed metal\"],[\"speedcore\"],[\"spiritual hip hop\"],[\"spiritual jazz\"],[\"spirituals\"],[\"springfield mo indie\"],[\"spytrack\"],[\"st louis rap\"],[\"steampunk\"],[\"steel guitar\"],[\"steelpan\"],[\"stl indie\"],[\"stomp and flutter\"],[\"stomp and holler\"],[\"stomp and whittle\"],[\"stomp pop\"],[\"stoner metal\"],[\"stoner rock\"],[\"straight edge\"],[\"straight-ahead jazz\"],[\"street band\"],[\"street punk\"],[\"streichquartett\"],[\"stride\"],[\"string band\"],[\"string folk\"],[\"string orchestra\"],[\"string quartet\"],[\"strut\"],[\"substep\"],[\"sudanese pop\"],[\"sufi\"],[\"sufi chant\"],[\"sunshine pop\"],[\"supergroup\"],[\"surf music\"],[\"surf punk\"],[\"svensk progg\"],[\"swamp blues\"],[\"swamp pop\"],[\"swamp rock\"],[\"swancore\"],[\"swedish alternative rock\"],[\"swedish americana\"],[\"swedish black metal\"],[\"swedish choir\"],[\"swedish country\"],[\"swedish dancehall\"],[\"swedish death metal\"],[\"swedish doom metal\"],[\"swedish electronic\"],[\"swedish electropop\"],[\"swedish eurodance\"],[\"swedish garage rock\"],[\"swedish hard rock\"],[\"swedish hardcore\"],[\"swedish heavy metal\"],[\"swedish house\"],[\"swedish idol pop\"],[\"swedish indie folk\"],[\"swedish indie pop\"],[\"swedish indie rock\"],[\"swedish jazz\"],[\"swedish jazz orkester\"],[\"swedish melodic rock\"],[\"swedish metal\"],[\"swedish metalcore\"],[\"swedish pop\"],[\"swedish post-hardcore\"],[\"swedish power metal\"],[\"swedish prog\"],[\"swedish progressive metal\"],[\"swedish rock-and-roll\"],[\"swedish singer-songwriter\"],[\"swedish soul\"],[\"swedish stoner rock\"],[\"swedish synth\"],[\"swedish synthpop\"],[\"swedish tropical house\"],[\"swedish underground rap\"],[\"swing\"],[\"swing italiano\"],[\"swing revival\"],[\"swiss black metal\"],[\"swiss classical piano\"],[\"swiss country\"],[\"swiss metal\"],[\"swiss pop\"],[\"swiss rock\"],[\"swiss worship\"],[\"sydney indie\"],[\"symphonic black metal\"],[\"symphonic metal\"],[\"symphonic rock\"],[\"synth funk\"],[\"synthpop\"],[\"synthwave\"],[\"syrian pop\"],[\"tabla\"],[\"tagalog rap\"],[\"tagalog worship\"],[\"taiwan campus folk\"],[\"taiwan classical performance\"],[\"taiwan hip hop\"],[\"taiwan indie\"],[\"taiwan pop\"],[\"taiwan singer-songwriter\"],[\"tajik pop\"],[\"talent show\"],[\"tamaulipas indie\"],[\"tamaulipas rap\"],[\"tamborazo\"],[\"tamil hip hop\"],[\"tamil pop\"],[\"tamil worship\"],[\"tampa indie\"],[\"tango\"],[\"tango cancion\"],[\"tape club\"],[\"tech house\"],[\"technical death metal\"],[\"technical deathcore\"],[\"technical groove metal\"],[\"technical melodic death metal\"],[\"technical thrash\"],[\"techno\"],[\"techno kayo\"],[\"tecnobanda\"],[\"teen pop\"],[\"tejano\"],[\"tempe indie\"],[\"tennessee hip hop\"],[\"tennessee metal\"],[\"tex-mex\"],[\"texas blues\"],[\"texas country\"],[\"texas latin rap\"],[\"texas pop punk\"],[\"texas punk\"],[\"thai folk\"],[\"thai folk rock\"],[\"thai idol\"],[\"thai indie rock\"],[\"thai pop\"],[\"thall\"],[\"theme\"],[\"theremin\"],[\"thrash core\"],[\"thrash metal\"],[\"timba\"],[\"tin pan alley\"],[\"tipico\"],[\"tolkien metal\"],[\"tollywood\"],[\"tone\"],[\"torch song\"],[\"toronto indie\"],[\"toronto rap\"],[\"trad jazz catala\"],[\"traditional bluegrass\"],[\"traditional blues\"],[\"traditional british folk\"],[\"traditional country\"],[\"traditional folk\"],[\"traditional funk\"],[\"traditional rockabilly\"],[\"traditional ska\"],[\"traditional soul\"],[\"trance\"],[\"trance mexicano\"],[\"trancecore\"],[\"transpop\"],[\"trap\"],[\"trap argentino\"],[\"trap chileno\"],[\"trap dominicano\"],[\"trap latino\"],[\"trap mexicano\"],[\"trap queen\"],[\"trap soul\"],[\"trap triste\"],[\"trap venezolano\"],[\"traprun\"],[\"trash rock\"],[\"triangle indie\"],[\"tribal house\"],[\"trinidadian reggae\"],[\"trio cubano\"],[\"trip hop\"],[\"trival\"],[\"tropical\"],[\"tropical house\"],[\"tropicalia\"],[\"trova\"],[\"trova mexicana\"],[\"truck-driving country\"],[\"tuareg guitar\"],[\"tucson indie\"],[\"tulsa indie\"],[\"tuna estudiantil\"],[\"tunisian pop\"],[\"turbo folk\"],[\"turkish classical\"],[\"turkish classical performance\"],[\"turkish edm\"],[\"turkish experimental\"],[\"turkish folk\"],[\"turkish jazz\"],[\"turkish modern jazz\"],[\"turkish pop\"],[\"turkish psych\"],[\"turkish trap\"],[\"turkish trap pop\"],[\"turntablism\"],[\"twee pop\"],[\"twoubadou\"],[\"tzadik\"],[\"ugandan pop\"],[\"uilleann pipes\"],[\"uk alternative hip hop\"],[\"uk alternative pop\"],[\"uk americana\"],[\"uk contemporary jazz\"],[\"uk contemporary r&b\"],[\"uk dance\"],[\"uk dancehall\"],[\"uk diy punk\"],[\"uk dnb\"],[\"uk doom metal\"],[\"uk dub\"],[\"uk experimental electronic\"],[\"uk funky\"],[\"uk garage\"],[\"uk hip hop\"],[\"uk house\"],[\"uk metalcore\"],[\"uk noise rock\"],[\"uk pop\"],[\"uk pop punk\"],[\"uk post-hardcore\"],[\"uk post-punk\"],[\"uk reggae\"],[\"uk rockabilly\"],[\"uk stoner rock\"],[\"uk worship\"],[\"uk82\"],[\"ukrainian choir\"],[\"ukrainian classical\"],[\"ukrainian classical piano\"],[\"ukrainian electronic\"],[\"ukrainian pop\"],[\"ukulele\"],[\"umbanda\"],[\"underground hip hop\"],[\"underground power pop\"],[\"underground rap\"],[\"university choir\"],[\"uplifting trance\"],[\"uptempo hardcore\"],[\"urban contemporary\"],[\"urbano espanol\"],[\"us power metal\"],[\"utah indie\"],[\"uzbek pop\"],[\"uzbek traditional\"],[\"v-pop\"],[\"vallenato\"],[\"vallenato moderno\"],[\"vancouver indie\"],[\"vancouver metal\"],[\"vancouver punk\"],[\"vapor pop\"],[\"vapor soul\"],[\"vapor trap\"],[\"vapor twitch\"],[\"vaporwave\"],[\"variete francaise\"],[\"vaudeville\"],[\"vbs\"],[\"veena\"],[\"vegan straight edge\"],[\"vegas indie\"],[\"velha guarda\"],[\"venezuelan hip hop\"],[\"venezuelan indie\"],[\"venezuelan rock\"],[\"veracruz indie\"],[\"vermont indie\"],[\"vgm instrumental\"],[\"vgm remix\"],[\"victoria bc indie\"],[\"victorian britain\"],[\"video game music\"],[\"vienna indie\"],[\"vietnamese bolero\"],[\"vietnamese pop\"],[\"viking black metal\"],[\"viking folk\"],[\"viking metal\"],[\"villancicos\"],[\"vintage chanson\"],[\"vintage chinese pop\"],[\"vintage classical singing\"],[\"vintage country folk\"],[\"vintage dutch pop\"],[\"vintage french electronic\"],[\"vintage gospel\"],[\"vintage hollywood\"],[\"vintage italian pop\"],[\"vintage italian soundtrack\"],[\"vintage jazz\"],[\"vintage old-time\"],[\"vintage rockabilly\"],[\"vintage schlager\"],[\"vintage spanish pop\"],[\"vintage swedish pop\"],[\"vintage swing\"],[\"vintage tango\"],[\"viola\"],[\"violao\"],[\"violao classico\"],[\"violin\"],[\"viral pop\"],[\"viral rap\"],[\"viral trap\"],[\"virgin islands reggae\"],[\"virginia hip hop\"],[\"virginia metal\"],[\"virginia punk\"],[\"visor\"],[\"visual kei\"],[\"vocal ensemble\"],[\"vocal harmony group\"],[\"vocal house\"],[\"vocal jazz\"],[\"vocal trance\"],[\"vocaloid\"],[\"vogue\"],[\"volksmusik\"],[\"warm drone\"],[\"washboard\"],[\"washington indie\"],[\"wassoulou\"],[\"water\"],[\"wave\"],[\"welsh folk\"],[\"welsh indie\"],[\"welsh metal\"],[\"welsh rock\"],[\"west african jazz\"],[\"west australian hip hop\"],[\"west coast rap\"],[\"west coast reggae\"],[\"west coast trap\"],[\"west end\"],[\"west virginia indie\"],[\"western americana\"],[\"western mass indie\"],[\"western saharan folk\"],[\"western swing\"],[\"white noise\"],[\"wind ensemble\"],[\"wind quintet\"],[\"wisconsin indie\"],[\"witch house\"],[\"women's choir\"],[\"women's music\"],[\"wonky\"],[\"worcester ma indie\"],[\"world\"],[\"world fusion\"],[\"world meditation\"],[\"world worship\"],[\"worship\"],[\"wrestling\"],[\"wu fam\"],[\"wyoming indie\"],[\"wyoming roots\"],[\"xhosa\"],[\"xtra raw\"],[\"yacht rock\"],[\"ye ye\"],[\"yiddish folk\"],[\"yodeling\"],[\"yoga\"],[\"yoik\"],[\"york indie\"],[\"yorkshire folk\"],[\"yugoslav new wave\"],[\"yugoslav rock\"],[\"zambian pop\"],[\"zeuhl\"],[\"zhongguo feng\"],[\"zimdancehall\"],[\"zolo\"],[\"zouglou\"],[\"zouk\"],[\"zurich indie\"],[\"zydeco\"]],\"hovertemplate\":\"x=%{x}<br>y=%{y}<br>genres=%{customdata[0]}<br>cluster=%{marker.color}<extra></extra>\",\"legendgroup\":\"\",\"marker\":{\"color\":[6,5,1,0,3,2,3,1,9,0,9,3,1,6,0,3,3,3,9,3,0,0,1,0,9,1,1,6,9,1,1,9,1,1,1,9,3,9,1,3,7,1,1,9,2,1,9,7,3,7,1,3,3,1,7,1,7,7,1,1,7,3,9,6,2,3,9,2,2,6,9,3,6,6,6,6,6,0,7,0,9,6,2,6,6,2,9,7,6,0,7,7,7,3,3,7,7,3,0,1,0,0,9,9,3,4,6,9,1,7,1,3,1,7,1,1,1,7,3,9,3,6,3,7,3,6,1,3,1,6,7,1,1,7,7,7,6,2,1,4,9,4,7,0,9,3,3,3,3,1,6,1,6,6,6,3,9,9,1,1,1,1,3,7,7,7,7,1,3,2,7,3,9,7,3,7,3,1,1,6,6,6,9,0,9,4,2,6,0,7,1,0,9,1,1,1,6,6,0,3,0,9,0,3,0,2,3,6,6,0,6,1,7,1,1,1,0,0,0,0,0,6,1,0,0,4,6,6,6,6,3,6,6,9,1,3,7,1,9,1,1,1,1,9,7,1,9,0,3,8,1,3,0,3,3,1,7,7,6,2,9,9,7,3,2,0,2,9,2,9,2,3,0,1,1,2,6,0,1,6,0,7,9,6,4,9,1,7,9,7,8,7,7,7,7,2,9,3,0,3,0,9,7,3,1,3,0,1,9,0,9,9,3,9,3,7,1,1,7,7,7,1,7,0,3,1,1,6,6,2,3,6,6,1,6,6,6,1,7,1,3,0,7,3,0,4,1,1,7,9,7,7,1,3,6,7,3,1,9,7,1,7,7,3,1,6,6,1,6,0,2,2,3,7,7,2,3,2,6,6,2,7,3,1,6,7,3,1,1,1,7,7,2,7,7,3,1,3,9,9,7,5,0,0,3,7,0,3,9,1,6,0,1,6,9,1,3,3,1,1,0,6,6,6,3,1,3,3,7,9,6,3,7,1,4,3,3,3,9,1,7,7,9,1,7,7,2,3,7,7,9,3,6,3,7,3,3,2,3,3,3,0,0,7,3,0,1,0,0,0,1,6,6,6,7,1,6,3,6,9,1,3,0,6,3,6,6,3,6,3,3,7,1,3,3,9,7,0,9,1,7,3,0,1,9,9,1,7,7,1,3,7,1,9,3,0,3,1,8,1,9,9,1,2,6,0,2,0,1,3,7,3,3,6,6,6,9,3,9,3,7,6,3,3,6,6,2,1,6,0,3,0,3,7,9,7,1,1,3,7,7,3,1,7,1,6,7,1,3,6,3,1,1,1,7,1,9,1,0,3,1,9,0,1,3,9,3,0,0,7,0,9,9,3,3,9,9,4,7,9,3,0,3,2,0,3,0,3,7,3,0,9,0,9,3,7,3,3,0,7,3,3,6,1,7,1,9,3,3,6,3,6,6,6,6,6,6,6,6,6,6,6,3,6,6,6,6,6,6,6,3,6,6,6,3,0,8,7,1,7,9,1,1,1,7,8,1,3,1,7,0,7,6,9,4,7,7,1,6,6,6,1,3,3,6,0,3,6,0,0,0,9,1,1,9,7,3,2,3,0,0,3,0,1,1,1,3,0,0,1,7,0,3,3,7,1,7,1,3,9,0,1,1,1,1,1,9,9,1,1,0,1,0,1,9,1,1,2,7,0,6,6,0,7,0,9,1,1,1,7,1,7,7,6,7,6,9,6,7,9,4,2,1,7,2,0,7,0,1,7,2,9,7,6,2,7,2,1,2,2,7,7,9,7,7,7,3,2,7,7,9,7,0,9,7,3,1,8,3,1,0,9,1,7,9,1,1,3,1,2,1,9,2,1,1,2,0,7,3,9,7,2,0,3,1,1,0,3,4,2,1,7,1,1,9,3,2,6,0,1,2,3,2,2,9,1,2,0,1,1,1,1,2,9,3,9,3,7,1,1,2,9,0,9,3,1,0,9,6,1,1,1,9,3,1,0,7,7,9,1,1,3,7,7,2,0,3,7,7,7,6,1,2,6,6,2,7,1,2,9,2,7,2,6,3,3,1,2,1,2,9,8,6,7,7,7,0,1,1,0,4,7,9,9,9,3,9,3,0,8,6,6,6,6,1,6,1,7,1,1,2,0,7,3,2,6,3,1,7,1,9,0,9,1,0,3,1,7,1,1,1,7,3,7,1,2,9,1,3,9,1,7,7,7,7,1,7,6,9,6,9,0,4,7,9,0,1,6,2,0,7,2,9,2,6,0,2,1,9,7,9,1,7,9,0,2,6,2,9,4,6,3,9,2,3,3,3,6,0,3,0,7,9,0,1,7,2,6,9,6,6,7,9,7,1,7,9,1,3,9,6,1,2,7,1,2,9,6,1,2,9,1,0,9,0,0,3,3,7,1,3,3,3,3,9,0,0,1,3,1,6,3,1,1,1,7,6,1,3,3,2,6,0,1,0,6,3,7,7,1,2,3,2,0,7,9,6,6,3,9,7,1,3,6,7,0,1,9,7,2,9,7,3,0,9,9,7,7,0,1,9,7,9,2,7,1,9,1,7,1,1,7,2,2,7,1,0,6,7,9,1,1,7,7,7,7,7,7,9,7,3,1,1,7,6,6,6,3,9,9,7,9,1,6,8,9,7,6,6,3,1,1,9,1,6,7,6,6,6,7,7,7,1,9,8,0,2,1,7,7,7,3,2,7,2,1,9,7,3,0,0,8,1,4,0,3,7,3,7,9,1,9,9,9,7,9,1,7,7,0,6,0,0,4,0,9,0,0,1,2,9,7,1,7,7,1,1,9,9,1,3,8,9,0,6,0,4,3,6,7,0,0,3,0,7,1,9,6,2,7,6,7,7,0,2,7,1,7,1,7,7,7,1,0,0,0,6,6,0,6,0,1,1,6,3,1,1,2,9,0,6,0,1,1,1,1,9,5,6,6,6,6,6,6,8,4,3,9,3,3,0,0,1,7,2,9,7,1,1,1,0,9,6,6,6,6,2,8,0,0,2,3,1,1,6,2,6,3,3,2,3,3,2,3,7,0,0,6,0,9,1,6,3,0,9,1,3,3,9,2,2,1,3,2,3,1,3,3,1,1,3,7,3,1,3,7,1,7,3,3,1,3,3,7,1,7,9,1,6,2,9,1,7,7,3,0,0,1,9,7,2,7,7,3,2,7,2,4,1,0,4,0,3,2,0,3,1,6,2,3,0,3,3,9,0,3,0,6,0,1,7,3,3,3,2,3,0,6,6,0,7,6,6,3,9,9,9,1,6,2,0,9,0,2,6,6,3,9,2,2,6,0,6,6,2,0,0,1,9,4,6,3,7,1,7,7,7,1,7,7,9,7,7,3,3,9,7,1,1,1,6,6,6,6,2,6,1,7,2,1,4,7,9,6,3,7,3,2,2,7,7,9,2,7,7,7,7,2,7,9,4,7,9,6,2,2,3,0,0,0,1,0,0,0,9,0,6,0,0,3,2,0,0,7,6,0,2,0,3,0,1,7,0,6,0,0,0,0,0,0,2,6,9,3,9,1,3,0,9,0,7,3,1,9,9,1,0,9,1,0,1,0,1,7,3,7,3,1,3,9,0,9,3,0,4,1,1,3,1,6,3,2,8,0,1,6,0,6,9,6,6,6,9,1,3,1,1,6,2,3,3,7,6,9,9,9,3,6,1,1,1,6,1,3,0,1,1,1,3,7,1,1,1,6,1,4,1,3,1,8,1,1,0,6,3,9,7,7,1,0,3,6,3,7,2,3,2,0,1,3,3,1,3,3,3,2,3,2,1,3,7,7,2,0,3,1,6,3,6,0,7,6,8,4,3,3,1,3,9,3,6,2,0,1,7,3,3,3,1,3,3,0,1,0,0,3,3,1,9,1,3,9,9,6,3,7,6,3,1,1,1,3,7,7,7,7,7,7,9,7,7,1,7,1,3,0,9,9,3,0,1,1,3,3,7,2,7,7,1,3,6,1,1,1,7,7,3,4,1,1,1,1,9,1,2,5,6,4,4,9,7,0,1,3,4,3,2,1,2,2,6,7,7,7,1,1,1,3,6,7,9,1,7,3,7,3,1,3,3,1,7,3,6,6,1,6,7,9,9,7,9,7,7,6,7,7,4,1,0,2,2,9,1,6,1,3,8,1,0,3,3,0,0,9,3,9,1,6,9,1,1,3,1,3,6,0,1,3,3,3,3,9,1,3,4,0,1,9,1,1,0,9,0,4,3,0,9,9,1,5,3,0,0,4,4,9,3,1,3,3,3,6,3,6,1,6,0,7,3,7,0,3,9,3,6,2,3,3,7,7,3,7,7,3,4,6,6,9,1,9,0,0,1,7,9,1,7,6,6,3,9,8,3,3,1,6,3,7,3,7,1,3,0,1,1,0,1,7,1,2,1,7,3,3,2,1,6,7,7,9,1,7,9,2,9,0,1,7,7,7,7,6,4,2,9,6,2,6,0,7,1,1,7,1,3,7,3,7,1,7,1,2,6,6,6,7,6,9,3,6,7,9,9,7,7,9,4,9,1,3,3,1,3,6,1,7,1,7,7,1,7,0,3,0,3,3,0,1,0,3,7,7,1,1,1,7,6,3,7,3,1,7,3,3,1,1,7,3,6,1,3,7,9,9,7,3,1,1,1,7,1,9,0,0,3,7,3,3,6,0,7,6,0,3,5,6,6,2,2,4,2,7,0,0,9,0,6,7,1,2,9,1,0,9,3,3,2,6,7,1,2,1,9,7,0,9,0,4,2,1,1,6,3,1,1,1,3,7,1,3,9,9,1,3,4,7,1,1,1,1,1,0,6,9,3,6,0,1,7,1,7,0,3,3,9,1,1,1,1,1,7,7,8,6,9,6,6,6,4,6,9,7,3,9,1,0,9,1,6,9,1,1,3,1,7,9,7,1,3,9,9,3,1,7,3,1,1,1,3,1,3,1,1,3,1,1,6,3,3,9,3,3,7,3,6,1,1,2,7,7,2,6,7,7,3,2,6,7,1,7,7,7,7,3,6,1,3,3,3,7,7,7,9,2,7,7,7,2,2,2,7,9,2,2,9,2,7,0,3,4,7,2,0,3,1,3,7,3,3,2,2,7,7,1,3,4,0,9,9,7,7,7,7,7,1,1,3,0,6,7,3,1,3,1,3,0,1,1,0,6,0,2,3,1,1,1,1,3,1,1,1,7,9,0,7,1,3,7,7,8,2,9,0,3,3,1,1,1,1,1,1,1,7,9,1,1,3,6,1,2,1,3,9,3,1,9,7,9,1,9,7,9,1,1,3,3,3,7,3,1,1,7,9,7,3,1,1,2,1,1,3,3,0,3,6,2,6,1,0,0,3,1,3,3,0,9,1,2,9,7,9,6,6,7,7,9,9,9,7,7,6,6,9,1,3,9,6,2,2,1,6,0,1,7,1,1,1,1,1,1,1,1,1,3,3,0,1,4,0,9,1,7,1,3,0,6,3,1,9,1,3,6,1,6,3,1,7,3,7,1,7,1,1,1,7,1,3,1,9,2,6,3,0,0,3,9,9,1,0,6,6,0,7,1,1,9,9,2,3,7,6,1,3,3,7,3,6,6,1,1,1,9,9,7,1,7,3,0,2,0,7,7,7,7,3,7,6,2,1,7,1,3,7,3,2,9,3,1,7,1,0,3,1,3,0,1,3,9,3,1,3,9,0,3,6,6,4,1,6,3,0,1,1,1,3,1,9,7,9,3,2,7,3,1,3,1,7,7,3,1,9,1,4,0,6,2,0,0,6,9,1,3,3,9,9,1,9,1,1,6,1,1,2,4,7,9,9,3,0,9,0,1,7,0,9,1,3,3,9,1,7,7,7,6,1,7,6,0,0,6,6,6,1,9,2,3,0,3,3,3,7,7,1,1,3,7,7,3,2,6,1,1,7,7,9,1,9,7,7,1,3,9,7,3,3,7,6,0,7,7,7,1,1,9,7,2,1,3,3,2,2,3,3,9,0,0,9,7,6,6,7,1,7,6,3,9,9,3,1,1,7,0,0,1,4,3,6,3,3,3,3,0,1,1,1,1,0,0,0,7,0,0,7,2,7,3,9,2,7,2,1,1,1,1,1,1,7,1,1,3,1,7,7,0,7,0,0,1,7,0,6,7,7,1,0,9,2,0,6,0,3,9,0,0,0,3,0,3,3,1,1,3,9,4,7,1,1,1,1,3,1,1,1,1,1,1,9,7,7,1,0,0,1,1,1,1,3,3,3,0,3,1,4,1,1,9,4,6,9,9,0,0,2,9,3,4,9,1,7,9,6,2,0,1,1,3,3,1,1,9,4,7,7,9,2,1,9,1,1,9,9,1,7,7,7,1,7,2,3,7,6,6,6,2,1,0,1,1,7,1,6,2,9,1,1,7,3,0,0,9,1,1,3,7,7,3,3,1,1,9,3,4,1,0,7,7,0,1,1,1,1,3,6,2,3,6,2,9,9,9,2,2,7,1,0,3,0,0,8,3,0,0,0,6,0,0,9,0,0,0,0,0,6,0,0,6,3,1,1,1,1,7,7,6,7,6,0,1,0,9,9,1,0,6,0,3,3,4,9,6,7,7,7,9,4,1,9,1,3,9,3,1,3,0,6,6,6,3,3,7,3,3,7,3,2,6,3,3,7,1,7,3,3,7,3,3,6,0,6,6,3,3,1,1,9,7,3,9,3,9,1,0,1],\"coloraxis\":\"coloraxis\",\"symbol\":\"circle\"},\"mode\":\"markers\",\"name\":\"\",\"showlegend\":false,\"x\":[46.897926330566406,37.172550201416016,9.85301685333252,41.032012939453125,13.978059768676758,-2.4770686626434326,-9.568809509277344,-39.5539436340332,9.996858596801758,24.1512393951416,-9.735230445861816,2.3964571952819824,-30.593151092529297,52.267330169677734,32.681278228759766,4.787440299987793,18.892898559570312,2.499114513397217,-19.908437728881836,-9.926373481750488,21.84694480895996,29.372907638549805,5.106131076812744,50.248775482177734,-10.73354434967041,1.4533426761627197,0.35104119777679443,45.242549896240234,-10.487560272216797,8.69613265991211,2.6760897636413574,-6.197657585144043,-7.7693586349487305,-6.456376552581787,-15.788179397583008,-19.83435821533203,5.879384517669678,-6.111540794372559,-45.914405822753906,-11.945928573608398,-40.22469711303711,-38.8902473449707,1.9179388284683228,-0.5995019674301147,-11.838475227355957,-30.586345672607422,-5.175948619842529,-19.264291763305664,-4.872573375701904,-43.58633804321289,-12.522148132324219,-4.124685764312744,7.048989772796631,-43.97727584838867,-36.74922180175781,-36.98186111450195,-46.94614791870117,-22.375812530517578,-12.245723724365234,-17.702350616455078,-24.684696197509766,-14.678680419921875,4.02517557144165,31.316055297851562,-24.49378776550293,11.395906448364258,-10.22818374633789,-0.14317244291305542,-7.259356498718262,38.485687255859375,1.3500723838806152,3.968508005142212,48.49283218383789,52.89201354980469,51.36460876464844,50.47258758544922,45.79071044921875,26.916378021240234,-19.85982322692871,38.51865005493164,19.24788475036621,43.99518966674805,-1.403832197189331,29.824716567993164,52.19668197631836,-23.912433624267578,12.197169303894043,-48.20726013183594,51.103538513183594,35.07475662231445,-46.41543197631836,-47.99266052246094,-46.895721435546875,-6.1652631759643555,4.059324264526367,-37.053001403808594,-11.565825462341309,-3.471604108810425,49.14690017700195,-38.073814392089844,34.901123046875,36.78995132446289,13.233081817626953,8.391334533691406,-1.1884137392044067,16.848770141601562,28.71533966064453,6.084344387054443,-14.340226173400879,-29.488351821899414,-36.6931037902832,-6.081849575042725,-49.96754837036133,-14.503131866455078,1.378609299659729,-7.618910789489746,-12.449273109436035,-40.65209197998047,21.172428131103516,-7.566699981689453,5.104171276092529,47.72508239746094,-4.740910530090332,-20.384218215942383,-16.606136322021484,50.577423095703125,-36.615440368652344,6.137735366821289,-35.88890075683594,35.99943161010742,-20.698148727416992,-39.509613037109375,-41.419918060302734,-21.985027313232422,-47.041141510009766,-53.79573059082031,49.91386032104492,-24.493789672851562,-9.355087280273438,14.226320266723633,-10.578994750976562,14.226238250732422,-23.1839599609375,23.87500762939453,0.2207421362400055,-5.124212741851807,-13.900418281555176,-4.759332180023193,4.180456638336182,-40.84493637084961,45.424110412597656,15.27469539642334,49.57353210449219,41.40070724487305,35.76924514770508,15.153867721557617,-9.190954208374023,-8.94321060180664,-18.70516014099121,-20.250215530395508,-44.6043815612793,-18.896469116210938,-1.438759207725525,-49.28738784790039,-41.21856689453125,-40.30449676513672,-39.456661224365234,-37.83976364135742,-9.838959693908691,-17.25059700012207,-46.922245025634766,3.1436972618103027,1.3526846170425415,-22.565082550048828,-8.053093910217285,-19.802453994750977,-11.850030899047852,-45.23278045654297,-33.67855453491211,56.55282211303711,52.965641021728516,55.235618591308594,4.0865092277526855,52.707244873046875,-2.7651963233947754,12.485679626464844,-35.00245666503906,50.167213439941406,34.84523010253906,-30.39212989807129,-6.705026626586914,13.425793647766113,-9.655832290649414,-15.670238494873047,5.47210693359375,4.879875659942627,52.8040885925293,31.866230010986328,51.79936218261719,15.156535148620605,40.75423812866211,-4.956532001495361,42.226806640625,14.65981674194336,32.944801330566406,-3.4374501705169678,5.8419880867004395,33.05122375488281,37.92634582519531,41.310665130615234,43.1071891784668,-30.34576988220215,-30.59964942932129,6.395572662353516,7.927859306335449,-2.703352451324463,44.66412353515625,40.38588333129883,42.514068603515625,48.82171630859375,23.820520401000977,48.4296875,-4.601208686828613,39.65666961669922,24.678789138793945,11.871827125549316,41.363487243652344,49.869937896728516,34.331912994384766,39.881500244140625,-4.4726457595825195,45.83688735961914,37.99396896362305,14.806764602661133,-24.090192794799805,-7.459497928619385,-21.601276397705078,-31.017271041870117,-7.08587121963501,-44.68592071533203,-9.135607719421387,-39.06769943237305,-35.75360870361328,-9.800320625305176,-16.40069580078125,-5.203379154205322,-4.687201023101807,29.660198211669922,2.152899742126465,35.463401794433594,-19.317163467407227,-19.550708770751953,34.99805450439453,-6.829604148864746,-6.09251594543457,-39.64896774291992,-23.299270629882812,-23.299272537231445,54.278316497802734,28.7047061920166,-12.068349838256836,-11.373570442199707,-54.43796920776367,-16.295734405517578,-10.9922456741333,42.30704879760742,-22.27240753173828,-4.6694817543029785,6.2411088943481445,14.266417503356934,-12.903406143188477,6.244014739990234,48.11171340942383,-7.208648681640625,3.1051628589630127,-11.12296199798584,0.8076403737068176,41.731388092041016,-6.5856242179870605,29.997879028320312,42.57207107543945,-17.231046676635742,-12.152420997619629,51.99717330932617,15.456143379211426,-2.981609344482422,-49.88994598388672,-34.23508834838867,-17.90297508239746,-19.78595542907715,30.343734741210938,-35.48029327392578,-43.48194122314453,-34.97200012207031,-19.785951614379883,-1.4203376770019531,-13.857198715209961,22.715478897094727,32.6788444519043,23.4600887298584,22.36638069152832,-18.83199119567871,-54.33058166503906,-17.93791389465332,-22.77260398864746,26.890268325805664,32.00148391723633,20.563928604125977,-0.9617666602134705,37.91365051269531,-5.847446918487549,-5.633184909820557,26.563600540161133,16.82451057434082,12.056636810302734,-26.435482025146484,-16.737947463989258,-23.99766731262207,-41.37778091430664,-34.41187286376953,-41.78944396972656,-20.028644561767578,-52.80817794799805,40.377742767333984,-0.2354811280965805,-39.27521896362305,-40.48089599609375,51.74443054199219,51.99734878540039,9.564069747924805,30.117490768432617,49.809120178222656,50.820648193359375,3.8175878524780273,42.50643539428711,49.70442199707031,34.70725631713867,-22.73334503173828,-40.16558837890625,-18.160385131835938,21.368558883666992,27.50014305114746,-40.16679382324219,15.656881332397461,30.717784881591797,-33.822689056396484,-12.364166259765625,-2.1874260902404785,-16.87401008605957,7.570099353790283,-40.166526794433594,-26.127674102783203,-30.68084716796875,19.357418060302734,29.028478622436523,-21.64449119567871,21.964794158935547,-47.6019172668457,3.342958688735962,-23.844135284423828,-2.1577539443969727,-12.591875076293945,-29.178884506225586,-17.105749130249023,-5.907524108886719,44.71456527709961,47.90924072265625,12.717260360717773,48.102664947509766,51.11732482910156,-29.330955505371094,-8.857145309448242,22.33437156677246,-36.46244812011719,-32.92241287231445,-8.811298370361328,19.13161849975586,-0.0726417824625969,53.017581939697266,48.889129638671875,25.519807815551758,-47.921627044677734,5.620630264282227,-16.814790725708008,38.252357482910156,-24.804508209228516,14.192028999328613,3.6923532485961914,-37.784481048583984,-22.72613525390625,-24.216556549072266,-46.608219146728516,-27.438838958740234,-18.716999053955078,-28.42560386657715,-7.724891185760498,-13.954977035522461,20.14996337890625,-5.6220903396606445,1.4933511018753052,-27.593353271484375,35.56256103515625,44.830421447753906,21.553842544555664,7.936549186706543,-24.172378540039062,52.202205657958984,17.457624435424805,-16.532764434814453,-41.05161666870117,33.12191390991211,44.417938232421875,-38.44889831542969,47.89707565307617,3.2505416870117188,7.163621425628662,27.32977294921875,-3.7017505168914795,-34.03411865234375,10.614266395568848,30.01535987854004,45.485816955566406,28.536483764648438,49.35696029663086,15.503532409667969,-15.932610511779785,12.070856094360352,15.732688903808594,-45.87211227416992,0.18761295080184937,32.67728805541992,12.044367790222168,-41.32328796386719,-40.592594146728516,8.316590309143066,-4.581070899963379,13.586526870727539,14.977115631103516,-4.997018337249756,-10.439376831054688,-47.45396041870117,-41.55216598510742,1.5217924118041992,-37.65708541870117,-50.55903244018555,-37.472129821777344,38.92132568359375,-3.177609920501709,-33.21596908569336,-29.72465705871582,6.1190900802612305,10.88034725189209,30.287612915039062,9.257230758666992,-21.153095245361328,-4.8175249099731445,24.950483322143555,-13.646864891052246,13.038724899291992,6.676694869995117,9.76956844329834,33.70913314819336,55.54399108886719,-34.05850601196289,10.308737754821777,4.713514804840088,-10.490304946899414,39.06308364868164,43.195133209228516,39.05317687988281,13.93537712097168,47.35227966308594,57.5926628112793,50.408409118652344,-11.523543357849121,-45.349609375,31.37323570251465,12.997499465942383,28.341690063476562,-15.696394920349121,7.139797687530518,-11.099123001098633,35.04965591430664,33.188201904296875,15.267942428588867,45.15010070800781,35.522674560546875,1.4440430402755737,48.63982391357422,4.386617183685303,-5.866415977478027,-29.035507202148438,-11.297823905944824,2.665544271469116,12.34764575958252,7.844603061676025,-50.0450439453125,20.384660720825195,1.1443008184432983,-42.13251495361328,-21.881370544433594,9.158005714416504,22.94871711730957,-40.59130859375,-15.544776916503906,0.3651484549045563,-42.91511535644531,-34.354068756103516,-43.15120315551758,-40.94071578979492,23.253215789794922,-35.06528854370117,-40.03047180175781,4.881300449371338,15.46572208404541,20.685216903686523,21.728626251220703,21.243844985961914,36.35285186767578,-29.55550765991211,3.0056746006011963,2.2236130237579346,-3.539278268814087,-17.583295822143555,49.487831115722656,40.98471450805664,-19.369182586669922,19.73379135131836,-16.250370025634766,3.727363348007202,-46.1303825378418,-17.801376342773438,13.339425086975098,45.26799774169922,52.32594299316406,49.62031555175781,-3.0876729488372803,2.6112160682678223,-2.175304651260376,2.2889516353607178,-55.11722946166992,42.08769607543945,9.083398818969727,1.899926781654358,45.26798629760742,40.4180793762207,29.043100357055664,-18.671855926513672,45.01569366455078,36.491825103759766,-10.422083854675293,58.744266510009766,10.213935852050781,-25.630220413208008,-5.841297626495361,-38.26652145385742,-41.21170425415039,-37.37342834472656,-2.243743896484375,-38.026084899902344,-37.99310302734375,-2.375194787979126,-36.53583908081055,-26.0977725982666,-40.49748611450195,31.734037399291992,-38.299312591552734,-38.333030700683594,4.031890869140625,37.91987991333008,15.223791122436523,-0.7338619232177734,7.878225803375244,-46.31875991821289,-12.527139663696289,-28.331165313720703,2.3486719131469727,-7.1594061851501465,33.54511642456055,18.461103439331055,-10.441919326782227,3.145996570587158,40.30591583251953,-36.598968505859375,8.282028198242188,16.49515724182129,21.491756439208984,48.45455551147461,30.748207092285156,-46.20823669433594,49.10702896118164,10.123451232910156,-6.41098165512085,18.59107780456543,21.10100746154785,16.38257598876953,-14.143827438354492,8.351527214050293,-35.13042449951172,11.776033401489258,11.337967872619629,49.56615447998047,11.550033569335938,-16.486833572387695,30.05558204650879,20.53924560546875,58.371337890625,8.190345764160156,-3.760986804962158,2.1482770442962646,40.14374542236328,12.72206974029541,25.23879051208496,12.034416198730469,23.34770393371582,-1.9501501321792603,21.8869571685791,-18.19426727294922,13.995318412780762,-27.87809181213379,17.121021270751953,17.01848793029785,52.42654037475586,18.066303253173828,9.93770980834961,-9.582418441772461,14.360908508300781,15.760711669921875,16.278045654296875,53.34603500366211,-1.6811898946762085,56.05509567260742,57.27134323120117,50.19804763793945,43.277313232421875,56.289615631103516,29.167442321777344,51.84062576293945,43.947628021240234,52.649593353271484,51.886165618896484,46.8212776184082,26.989038467407227,57.260833740234375,46.94320297241211,48.8625602722168,43.15924072265625,47.66778564453125,52.13011932373047,31.667945861816406,0.7352892160415649,56.81312942504883,56.85322952270508,46.003021240234375,27.08707046508789,39.79787826538086,30.966094970703125,-41.07435607910156,28.755464553833008,-19.586885452270508,-8.387751579284668,-23.280561447143555,-10.858224868774414,-4.318295478820801,-21.036008834838867,30.676034927368164,-20.583232879638672,23.048789978027344,12.075509071350098,-44.772579193115234,45.29826736450195,-26.125640869140625,40.04304504394531,0.5085800290107727,27.4351806640625,-42.322105407714844,-22.08866310119629,-37.007633209228516,48.49281311035156,50.738136291503906,31.9859561920166,-16.9300479888916,20.509225845336914,-0.08321629464626312,34.647239685058594,34.80897903442383,14.626379013061523,40.55461883544922,35.23728561401367,25.104286193847656,16.96742820739746,-23.130659103393555,4.559536457061768,-4.215568542480469,-3.534654378890991,-23.425405502319336,24.120750427246094,-0.26655420660972595,-11.051419258117676,25.363222122192383,35.20348358154297,-12.257986068725586,25.56344223022461,-17.163063049316406,-16.010202407836914,-15.989704132080078,16.035076141357422,52.77738952636719,31.39316177368164,-18.742191314697266,-11.974322319030762,34.258689880371094,-12.481606483459473,-12.481534004211426,-27.79313850402832,-38.95773696899414,-33.98820114135742,-9.040193557739258,16.094938278198242,-11.333460807800293,37.68489074707031,-7.3830389976501465,4.182157039642334,6.234179496765137,-3.9184157848358154,-3.88443660736084,9.505617141723633,1.3663231134414673,2.9659695625305176,-3.7144222259521484,22.530174255371094,-14.142251014709473,31.468137741088867,2.4837234020233154,-3.870515823364258,4.388829708099365,-3.9964678287506104,-20.605953216552734,-49.702999114990234,47.753787994384766,55.63447952270508,54.99968719482422,43.31672668457031,-42.808353424072266,33.1784553527832,-10.44970989227295,-40.10089111328125,-19.07468032836914,0.03102082759141922,-32.499446868896484,-37.26059341430664,-35.130859375,-28.5268611907959,56.30938720703125,-20.6536865234375,26.51422691345215,-8.234307289123535,35.556297302246094,-33.60676193237305,-8.472918510437012,9.730481147766113,-19.6998348236084,-27.95760154724121,-46.112430572509766,-19.69985008239746,29.74216651916504,-3.2930455207824707,47.63277816772461,-14.093483924865723,-30.806142807006836,-5.915243148803711,0.6358018517494202,-16.766923904418945,40.04130172729492,-14.441170692443848,-20.825756072998047,-12.691320419311523,-41.328094482421875,-10.491204261779785,-15.828951835632324,-35.705963134765625,-33.82016372680664,2.390354871749878,-35.637264251708984,-36.19998550415039,-38.87026596069336,-20.88532829284668,-29.40898323059082,-28.136940002441406,-24.436613082885742,-17.271522521972656,-33.01810073852539,26.06875228881836,-11.705367088317871,-7.860951900482178,11.347232818603516,-5.775354385375977,30.81842803955078,18.814495086669922,-45.558589935302734,49.38986587524414,-1.3103888034820557,3.6079142093658447,-51.45713806152344,-10.56287670135498,-15.414600372314453,-13.050793647766113,23.119544982910156,0.9976004362106323,-12.784181594848633,-2.8552258014678955,-7.362111568450928,-18.889476776123047,-23.825502395629883,-4.625025749206543,25.97231101989746,30.00567054748535,-18.774423599243164,16.368406295776367,3.0945117473602295,-39.97397232055664,-11.86601734161377,32.25886154174805,4.675632953643799,0.3457939028739929,3.975769519805908,16.05131721496582,-5.583885192871094,-7.211911201477051,-14.742467880249023,-35.939979553222656,-52.66288375854492,4.298130989074707,6.0020551681518555,12.832283020019531,12.686304092407227,8.691960334777832,50.35721969604492,21.390357971191406,-20.76287078857422,18.518922805786133,-12.634821891784668,8.747024536132812,-12.90341567993164,-1.1293513774871826,-41.60413360595703,-14.234850883483887,34.80324172973633,-31.123046875,-10.442608833312988,-39.511993408203125,-39.939002990722656,-10.573742866516113,4.424062252044678,0.7696879506111145,-4.314308166503906,6.2345290184021,-23.018653869628906,-35.21420669555664,-8.458603858947754,-19.87904167175293,-9.796077728271484,15.97336196899414,14.287225723266602,4.451377868652344,-43.749210357666016,48.75185775756836,-11.815704345703125,28.697710037231445,-39.26889419555664,-40.145294189453125,4.272928714752197,-5.386046886444092,20.149864196777344,-1.8470392227172852,40.650115966796875,-28.176490783691406,-47.67444610595703,-4.21480655670166,4.281821250915527,-34.19573211669922,22.15118980407715,-35.06117248535156,-27.954288482666016,-11.148399353027344,36.58726119995117,-5.6727986335754395,-27.74273681640625,-38.5513916015625,-28.90505027770996,44.277217864990234,-40.36563491821289,-14.867408752441406,40.6381721496582,31.473491668701172,-21.294422149658203,-47.62344741821289,4.055804252624512,-34.81251525878906,-12.321040153503418,25.01583480834961,-26.112384796142578,-11.700105667114258,47.72507095336914,-1.6538466215133667,19.871694564819336,22.11919593811035,-24.492961883544922,7.145688056945801,-8.464574813842773,-23.1763973236084,31.89698028564453,53.95604705810547,-30.309785842895508,-51.70003128051758,-24.274866104125977,52.55413818359375,-12.42802619934082,-46.05138397216797,17.455339431762695,13.679738998413086,-39.235267639160156,1.3172416687011719,2.221872091293335,-5.389751434326172,37.69081497192383,-12.3153715133667,-17.113685607910156,30.642833709716797,35.62111282348633,53.1009635925293,51.021934509277344,45.73278045654297,44.20710372924805,19.438753128051758,54.16123580932617,3.8887906074523926,-44.6025276184082,-37.63249206542969,-3.909183979034424,-5.136440277099609,38.9308967590332,-42.260032653808594,4.112179756164551,-21.672351837158203,40.60268020629883,11.129941940307617,-4.761491298675537,-24.917720794677734,-20.688013076782227,-2.1341054439544678,22.366872787475586,-15.852721214294434,-23.957719802856445,31.294658660888672,-16.880643844604492,-16.16410255432129,-24.876094818115234,-11.297120094299316,-16.674230575561523,-5.571277618408203,-21.756380081176758,-23.508331298828125,-28.973039627075195,-0.2400057464838028,-5.810168743133545,-12.709928512573242,-46.79733657836914,-15.631282806396484,-4.23385763168335,-19.92127799987793,-42.029571533203125,-39.57745361328125,-51.7381591796875,-35.88975143432617,-40.33385467529297,-34.654232025146484,51.01948547363281,-20.91419792175293,50.05712127685547,14.5014009475708,41.52259826660156,18.802648544311523,-28.415197372436523,5.927651405334473,32.304500579833984,-39.9576301574707,51.26479721069336,-18.889476776123047,23.93103790283203,-37.081687927246094,-5.526758193969727,0.6076029539108276,-4.729797840118408,39.205448150634766,47.29878616333008,-9.205793380737305,-34.26860427856445,-14.731435775756836,-49.247257232666016,-10.203519821166992,-12.529050827026367,-55.335872650146484,5.2502641677856445,39.854278564453125,0.5470866560935974,46.38758850097656,27.328495025634766,-12.326621055603027,10.094225883483887,33.259033203125,-9.686100006103516,-1.7889759540557861,-12.636531829833984,1.5627888441085815,-5.361009120941162,-7.629884243011475,27.636011123657227,29.2512264251709,11.73712158203125,17.22271728515625,-23.095491409301758,-11.651829719543457,29.944454193115234,-44.22408676147461,-48.49269485473633,-7.655655860900879,36.10708999633789,0.5119184255599976,56.878509521484375,53.246700286865234,-24.17177963256836,2.55847430229187,-37.46248245239258,-36.91981506347656,-46.59956359863281,-14.907499313354492,-8.402530670166016,14.743000030517578,14.059885025024414,51.495059967041016,-36.79539489746094,-13.138825416564941,-37.02799987792969,-15.402223587036133,25.143810272216797,15.467486381530762,52.97323989868164,0.25361546874046326,-13.471785545349121,9.28488540649414,-7.180964469909668,44.66404342651367,14.855828285217285,47.895530700683594,27.454242706298828,-0.5514563918113708,11.162288665771484,-31.682775497436523,-42.77056884765625,16.666709899902344,8.546998977661133,0.44600406289100647,15.546815872192383,1.1442539691925049,47.43338394165039,17.334827423095703,10.89798355102539,15.865177154541016,28.319494247436523,39.91742706298828,-13.4068021774292,-31.200706481933594,30.000871658325195,29.969114303588867,-35.812950134277344,40.64435958862305,-19.770462036132812,-4.46787166595459,18.64519691467285,-14.372364044189453,35.774505615234375,34.90591812133789,0.7164331674575806,47.66701126098633,51.85417175292969,14.644339561462402,-29.8219051361084,-46.86580276489258,-30.888593673706055,0.6813956499099731,-7.1005635261535645,-10.368599891662598,39.67228698730469,-29.821916580200195,14.85207462310791,53.736000061035156,43.608455657958984,6.273158550262451,-11.893468856811523,-11.482948303222656,2.7826790809631348,-3.289609432220459,53.97783660888672,-36.7761344909668,42.67029571533203,-3.2278125286102295,-10.954519271850586,-49.05353546142578,-14.085936546325684,-3.5541913509368896,-46.47021484375,5.09411096572876,18.80541229248047,-5.9565582275390625,-15.686009407043457,-27.5445499420166,-35.01749038696289,9.566666603088379,-35.23159408569336,-15.66340446472168,-21.657886505126953,-10.186368942260742,-13.481951713562012,-22.460798263549805,-23.15792465209961,1.0704485177993774,-17.08637237548828,-32.96119689941406,3.745081663131714,-38.049468994140625,-49.296817779541016,-6.601405143737793,-23.168052673339844,-35.26651382446289,9.141597747802734,42.81007385253906,49.80834197998047,-47.309844970703125,-9.96246337890625,-38.4442024230957,-0.6713723540306091,-42.91006088256836,-23.554534912109375,-35.08625030517578,-31.10802459716797,-40.816070556640625,-24.5244083404541,-0.07713523507118225,-21.84943962097168,3.888885259628296,7.627671718597412,-2.9289660453796387,-39.92035675048828,50.21080017089844,51.314571380615234,48.00229263305664,2.320096731185913,-4.031080722808838,-15.348536491394043,-28.176475524902344,-1.3793567419052124,-9.735396385192871,31.906816482543945,33.005435943603516,-15.733257293701172,-54.352474212646484,55.5742073059082,55.03560256958008,-5.789403438568115,-36.00920867919922,-7.838992595672607,-17.07245635986328,-18.695058822631836,49.15056610107422,-43.025150299072266,54.362586975097656,58.794151306152344,30.724834442138672,-27.509584426879883,-29.10577964782715,-30.549997329711914,-33.84186935424805,-4.168585300445557,34.35121536254883,40.56570816040039,-10.9922456741333,-12.0570650100708,-27.626432418823242,-43.80070495605469,-20.326181411743164,-16.43174934387207,-10.781614303588867,-20.88694953918457,-5.99396276473999,-20.514963150024414,-5.742364406585693,-36.5650749206543,-0.097127266228199,48.382511138916016,32.69904708862305,32.8588752746582,0.2355175018310547,9.222253799438477,28.260234832763672,18.49159812927246,-26.053878784179688,-3.9112300872802734,-31.594728469848633,-6.184137344360352,-9.372235298156738,-16.293119430541992,-16.985464096069336,-14.270846366882324,-21.23809242248535,-20.19984245300293,-14.378867149353027,-36.587432861328125,-17.878015518188477,48.52846145629883,40.563148498535156,48.98920440673828,38.504241943359375,-7.341645240783691,58.11909866333008,16.649168014526367,18.515945434570312,44.636653900146484,-18.444496154785156,-27.873371124267578,11.610377311706543,-37.96872329711914,7.955499649047852,-24.857240676879883,-37.040771484375,6.651768207550049,6.425240993499756,-2.2389206886291504,-1.4612754583358765,-28.331132888793945,-7.395829200744629,33.41569900512695,8.162945747375488,43.04307556152344,32.13960266113281,18.779123306274414,14.434562683105469,9.109419822692871,32.82767105102539,-46.39813232421875,52.308876037597656,35.53959655761719,-2.512150764465332,45.671878814697266,-55.557655334472656,12.139704704284668,-1.8730416297912598,39.431644439697266,-6.393102645874023,-29.4166259765625,34.741947174072266,-49.800411224365234,-39.2435417175293,34.55579376220703,-12.621892929077148,-27.46550178527832,16.946359634399414,-51.02653121948242,-37.2583122253418,-35.011932373046875,-25.224050521850586,-15.731456756591797,-17.789396286010742,52.051151275634766,34.11941909790039,42.30708694458008,35.95289993286133,44.24467086791992,46.313934326171875,41.625518798828125,31.458148956298828,-23.527942657470703,-10.212170600891113,43.42723083496094,-19.423580169677734,-1.0077811479568481,3.2106833457946777,-10.500716209411621,-1.1430491209030151,37.255409240722656,35.33907699584961,48.52725601196289,-37.991973876953125,-23.65211296081543,-2.224323034286499,-37.15084457397461,-10.225908279418945,35.96248245239258,55.80912780761719,56.67851257324219,52.51237869262695,56.75952911376953,50.57878875732422,39.79851531982422,33.58293533325195,10.722408294677734,12.90301513671875,-7.826552391052246,11.97752857208252,11.977493286132812,33.37860107421875,41.9487419128418,-17.618940353393555,-36.146907806396484,26.511018753051758,-7.035600185394287,-24.11812973022461,-39.73421859741211,-2.0111582279205322,11.198168754577637,24.370559692382812,10.12347412109375,47.392242431640625,48.56064224243164,47.44322967529297,51.604515075683594,-13.415823936462402,34.385929107666016,49.225181579589844,49.225189208984375,-13.415709495544434,-10.054145812988281,-20.874832153320312,-39.180320739746094,53.47195816040039,8.642714500427246,31.494022369384766,8.622611999511719,7.074038505554199,-6.093039035797119,9.265923500061035,1.4896963834762573,-9.225659370422363,-8.24282455444336,-48.03314971923828,20.665485382080078,35.493431091308594,55.422332763671875,37.11644744873047,0.05237375572323799,-39.52326583862305,38.93887710571289,-5.124952793121338,42.10478591918945,14.544452667236328,-42.08891677856445,5.882413864135742,1.388967752456665,4.789679527282715,-5.10890531539917,24.652145385742188,-21.437225341796875,5.381956100463867,-15.873764991760254,-7.79809045791626,-20.010950088500977,7.468790531158447,-15.486818313598633,-41.062931060791016,-19.702816009521484,5.710313320159912,-42.095863342285156,-0.8833886981010437,-17.785015106201172,-15.92220687866211,-51.86460494995117,-17.363683700561523,-39.301025390625,5.406248569488525,-17.220361709594727,-42.827327728271484,14.002628326416016,3.9193432331085205,-20.969541549682617,-35.53861618041992,-35.13043212890625,3.25504732131958,-19.222991943359375,51.42154312133789,-10.187966346740723,-9.705466270446777,-17.301101684570312,-45.69437789916992,-45.34671401977539,4.524988651275635,29.304513931274414,32.39301681518555,-6.042312145233154,-6.250594615936279,-24.122331619262695,-0.7614493370056152,-35.70115280151367,-22.504722595214844,29.544706344604492,-20.442380905151367,-24.708703994750977,-2.430785655975342,28.991762161254883,-5.886973857879639,48.856201171875,12.174433708190918,47.88801574707031,13.359339714050293,0.37834349274635315,40.74213790893555,25.503131866455078,-19.321861267089844,25.28941535949707,-14.11445426940918,0.9500348567962646,12.450536727905273,-2.5202324390411377,4.721494197845459,10.123409271240234,39.97556686401367,19.036632537841797,18.67766571044922,47.0246467590332,49.604000091552734,-8.894063949584961,-55.46061325073242,-34.04330062866211,15.574536323547363,16.03992462158203,-11.146856307983398,7.827527046203613,56.368682861328125,51.373531341552734,33.42414855957031,56.63685989379883,-53.82933044433594,50.65361022949219,47.51068878173828,-1.6811898946762085,-1.6910724639892578,-17.602272033691406,-17.6022891998291,-39.30824661254883,43.788028717041016,9.83352279663086,21.53115463256836,-17.602285385131836,56.21428680419922,-27.63849639892578,51.85615921020508,52.22807312011719,11.585184097290039,-1.1784348487854004,16.63572883605957,-0.469578355550766,50.990657806396484,55.21384048461914,56.453189849853516,30.581310272216797,-12.253941535949707,56.0125846862793,40.18857955932617,-14.376862525939941,-2.0785770416259766,-28.02356719970703,40.97297286987305,1.610459327697754,-39.98011779785156,-24.974632263183594,-48.5010986328125,-50.56474685668945,-46.66891860961914,-7.315791606903076,-46.56591033935547,-46.510215759277344,1.5543458461761475,-39.347747802734375,-31.123003005981445,5.03303861618042,5.536123752593994,-4.738831520080566,-21.428573608398438,-27.46196937561035,3.7393436431884766,0.34450167417526245,34.65101623535156,52.77531814575195,51.470848083496094,42.31660842895508,-14.2858304977417,30.0322265625,-15.674173355102539,-40.183807373046875,-3.2719902992248535,2.775064706802368,-5.978209018707275,-50.28580093383789,-17.687467575073242,30.0322265625,19.801227569580078,-48.76166534423828,28.87154197692871,31.10199737548828,-12.656861305236816,-47.29491424560547,-48.601688385009766,-13.3117094039917,-20.537004470825195,-49.25578308105469,-48.74177932739258,-50.1181755065918,-19.293710708618164,-11.435053825378418,-49.90993881225586,1.5540859699249268,8.734835624694824,-16.62059783935547,6.796511173248291,51.40974807739258,28.46489906311035,-6.6082611083984375,10.692237854003906,34.69137954711914,25.40445899963379,32.17558288574219,-15.425436019897461,36.00649642944336,34.7270622253418,36.9370231628418,8.636500358581543,38.54711151123047,28.12177085876465,34.44498062133789,32.837074279785156,30.48979377746582,32.74690246582031,31.965633392333984,33.65079116821289,-23.70115089416504,36.71990203857422,25.61610984802246,29.707286834716797,35.548404693603516,6.620362758636475,34.158626556396484,-16.199542999267578,-15.095903396606445,34.33055877685547,41.514678955078125,51.38640594482422,35.48468017578125,46.55387878417969,30.568464279174805,35.18271255493164,42.315467834472656,-14.556849479675293,19.153793334960938,-9.871755599975586,11.295571327209473,-2.055584192276001,14.504069328308105,-10.547794342041016,35.660465240478516,-1.000819206237793,32.152976989746094,-46.86614990234375,-15.859016418457031,-12.53854751586914,-4.606362342834473,-5.105854034423828,-38.71428680419922,18.5233097076416,13.354096412658691,-5.718510627746582,48.23047637939453,-41.46220016479492,52.8481330871582,-46.0724983215332,-43.58611297607422,15.80671501159668,0.5065462589263916,-0.2103746384382248,-22.661516189575195,8.488662719726562,-14.98169994354248,34.77125930786133,-14.91431713104248,-4.378870487213135,27.572450637817383,16.013566970825195,-38.437068939208984,5.0221757888793945,21.747879028320312,4.738805770874023,42.851776123046875,-13.480659484863281,-6.601388454437256,32.756378173828125,26.719398498535156,-40.21650695800781,43.4194450378418,57.09129333496094,57.759212493896484,4.19695520401001,39.72071838378906,31.522560119628906,52.3260612487793,-9.958810806274414,-35.88860321044922,-5.486148357391357,-16.928468704223633,-42.45899200439453,28.221891403198242,0.6650514602661133,22.01202964782715,-15.390567779541016,-21.399158477783203,37.02024459838867,-3.280125617980957,16.721267700195312,3.3345587253570557,-3.336982250213623,54.61582565307617,-10.80379867553711,-6.900735378265381,-10.955631256103516,51.55050277709961,-38.21693420410156,-10.08901596069336,42.06911087036133,-3.4293084144592285,-35.75819778442383,-2.2211458683013916,14.804126739501953,-26.66904067993164,-38.800140380859375,-14.044261932373047,-8.022528648376465,7.990900039672852,-23.730472564697266,-8.909005165100098,-37.92997360229492,-10.496753692626953,-27.671661376953125,29.484546661376953,-7.059267044067383,-6.262847900390625,58.37199401855469,42.67904281616211,4.852174282073975,12.365706443786621,-28.34430694580078,-12.16447639465332,-19.241289138793945,40.405025482177734,10.462072372436523,53.62849426269531,6.536798477172852,-31.002357482910156,-31.16629981994629,3.948265552520752,-11.378969192504883,20.790206909179688,-38.995792388916016,-6.761674880981445,3.866631269454956,0.253689169883728,4.033941745758057,15.678627014160156,-4.466399192810059,20.8644962310791,-0.5648810267448425,6.2906107902526855,-13.224383354187012,26.322755813598633,-35.3140983581543,-47.65259552001953,-22.566295623779297,38.827972412109375,8.689252853393555,4.154502868652344,37.90308380126953,3.7830069065093994,46.92207336425781,27.040882110595703,-23.95010757446289,48.77314376831055,34.385929107666016,8.92592716217041,2.909414529800415,-4.583316326141357,3.3941729068756104,3.344249963760376,-12.720010757446289,7.332395076751709,28.24024200439453,-15.813722610473633,37.855552673339844,-14.416531562805176,-47.84722137451172,7.245888710021973,21.72654914855957,1.357109785079956,11.191434860229492,16.771141052246094,2.3658692836761475,41.65505599975586,-2.480459213256836,49.260128021240234,40.738739013671875,21.128982543945312,-10.874512672424316,-54.36417007446289,7.448635578155518,-26.859460830688477,-6.609029769897461,-19.3763427734375,11.877053260803223,49.11150360107422,3.2131195068359375,-18.99680519104004,43.80918502807617,4.356340408325195,-23.06665802001953,-23.156143188476562,-38.1324462890625,15.32009220123291,-36.11566162109375,-39.15633773803711,-31.805522918701172,-40.222110748291016,-30.089448928833008,-36.56210708618164,-15.162947654724121,-38.56571960449219,-51.97609329223633,-40.6221923828125,-40.8740234375,-43.62554931640625,1.5481188297271729,33.344390869140625,-5.459512710571289,-19.908435821533203,21.480989456176758,44.90061950683594,8.251555442810059,9.216546058654785,20.543289184570312,23.087310791015625,-35.286643981933594,-25.758777618408203,-40.16652297973633,-49.08769989013672,-20.53772735595703,18.844675064086914,49.181549072265625,-15.82974910736084,-20.41277503967285,-15.236376762390137,-46.94088363647461,-27.218778610229492,21.92497444152832,11.752408981323242,17.42435073852539,-18.256303787231445,-40.419395446777344,-1.5224361419677734,-14.085489273071289,-39.34905242919922,25.96793556213379,37.06633758544922,47.08073806762695,16.848831176757812,16.013553619384766,1.1300851106643677,-34.56938552856445,16.95005226135254,-19.79913902282715,6.805380821228027,16.424943923950195,-9.464402198791504,-13.699277877807617,-19.875648498535156,-2.753221035003662,-18.483739852905273,42.33225631713867,-19.031171798706055,-26.833507537841797,-47.35573196411133,-2.1300508975982666,-16.14566993713379,-35.47220230102539,-8.693841934204102,29.2982234954834,-45.807090759277344,1.1922109127044678,-43.331600189208984,-12.445629119873047,-16.12592124938965,-15.519954681396484,6.273533344268799,-16.804229736328125,-7.676413536071777,-7.296308517456055,-6.515532970428467,-24.27847671508789,-38.463111877441406,40.4299201965332,38.591819763183594,10.649978637695312,54.9899787902832,-34.02238464355469,-2.717456817626953,-9.79741382598877,-18.004165649414062,4.635395526885986,-43.41218948364258,-23.941112518310547,31.246044158935547,-49.7528076171875,-50.20256042480469,13.788252830505371,-41.19451141357422,46.984195709228516,2.929680109024048,2.929687023162842,-9.510154724121094,-21.914398193359375,35.325592041015625,-45.5732536315918,10.308513641357422,33.41569900512695,19.812891006469727,52.001590728759766,20.25780487060547,16.92854881286621,26.175827026367188,52.59964370727539,-0.745935320854187,9.363893508911133,11.022418022155762,-7.180972099304199,49.06482696533203,-16.71139907836914,11.198075294494629,-7.3942084312438965,1.0511268377304077,-3.949373960494995,5.990742206573486,48.073936462402344,44.66413497924805,-5.941991329193115,19.117450714111328,19.516870498657227,11.946977615356445,16.383750915527344,15.577407836914062,9.528634071350098,19.934160232543945,11.644272804260254,37.840240478515625,7.30698299407959,11.269203186035156,20.735279083251953,-2.627993106842041,45.65620422363281,14.824027061462402,33.7209358215332,-3.2054154872894287,2.9517810344696045,25.954458236694336,-2.9262728691101074,-22.736326217651367,16.33346176147461,35.962467193603516,22.108673095703125,48.78662109375,23.40630340576172,-10.76425552368164,-11.411149978637695,9.005819320678711,4.23468542098999,-15.939498901367188,-17.470020294189453,5.469306945800781,30.759788513183594,29.667638778686523,12.500473022460938,30.607097625732422,-18.764142990112305,28.970043182373047,18.055313110351562,-17.613740921020508,-10.75554370880127,-34.36844253540039,20.40013313293457,-0.5845431685447693,-8.793972969055176,-4.832576274871826,38.2044677734375,18.518957138061523,20.489534378051758,-0.10114802420139313,-18.726181030273438,-5.508327484130859,2.976038932800293,-19.737369537353516,-49.84556198120117,16.595006942749023,12.218194961547852,28.931909561157227,55.17527389526367,7.448617935180664,-44.6966552734375,2.9843146800994873,20.36380958557129,20.363569259643555,-6.720675468444824,-45.394126892089844,-14.310759544372559,-1.5285277366638184,-51.457820892333984,31.85830307006836,31.643938064575195,5.208267688751221,-10.23674488067627,30.909128189086914,15.195255279541016,-33.1899299621582,-24.11259651184082,44.760746002197266,-3.6912384033203125,-38.01676940917969,-15.573114395141602,-37.56475830078125,-20.746145248413086,23.891416549682617,24.05272674560547,3.638183832168579,-9.439288139343262,40.29320526123047,-20.719186782836914,-24.856916427612305,-0.08941949903964996,-0.3472442328929901,0.19436441361904144,-42.34636306762695,-0.623497724533081,11.582701683044434,-23.134672164916992,-19.713443756103516,33.8491325378418,-52.52758026123047,-17.112804412841797,-10.779708862304688,-14.505393981933594,-50.60966110229492,0.0791894793510437,-5.232232093811035,-16.18663787841797,19.919662475585938,24.00314712524414,-19.080190658569336,-24.556737899780273,-30.011863708496094,-29.518787384033203,51.99138259887695,16.66897964477539,9.308305740356445,-1.643378496170044,44.75016403198242,-12.198511123657227,46.0079345703125,51.255496978759766,-49.58265686035156,4.964126110076904,-2.536975622177124,-36.495361328125,-21.691577911376953,4.568488121032715,-40.64149475097656,7.524364948272705,-53.061038970947266,-45.235450744628906,-45.206153869628906,19.668678283691406,-33.67408752441406,30.215646743774414,47.53070831298828,41.3978157043457,-19.785951614379883,32.78615951538086,-5.4745330810546875,-9.147216796875,39.17348098754883,-19.18461036682129,-0.6399705410003662,-23.318347930908203,-50.615928649902344,-45.31129837036133,0.6787083745002747,-4.024386405944824,3.3791961669921875,10.964617729187012,8.935495376586914,15.584205627441406,-5.276909351348877,24.196819305419922,44.740116119384766,-44.047359466552734,-18.922353744506836,-11.234007835388184,-46.87073516845703,-20.50162124633789,-6.339681625366211,-40.128360748291016,22.36638069152832,10.512262344360352,22.34113883972168,18.488367080688477,14.754012107849121,16.76032066345215,4.315121173858643,21.072526931762695,18.34964942932129,-35.549705505371094,-50.32853317260742,-6.397176265716553,-17.965686798095703,-42.732330322265625,-35.30924606323242,45.54901885986328,4.4732184410095215,-44.65270233154297,2.4686455726623535,-36.64628601074219,-44.65263748168945,-21.004852294921875,12.242807388305664,-16.749095916748047,-14.372838973999023,-40.43828582763672,-10.148780822753906,41.5755500793457,-41.08645248413086,-19.53662872314453,-44.84001541137695,6.857792854309082,10.977838516235352,-45.224632263183594,20.440156936645508,3.952821969985962,-16.47220230102539,-30.888750076293945,-36.518882751464844,-22.80782699584961,7.372282028198242,33.782958984375,47.99100875854492,-6.28980827331543,-30.086669921875,-16.00705337524414,-9.971542358398438,57.022186279296875,51.418296813964844,-28.761552810668945,42.42316818237305,55.05593490600586,5.3668317794799805,34.84763717651367,53.94643020629883,43.456851959228516,-21.718114852905273,31.582660675048828,-7.341561794281006,-14.875563621520996,-45.44915008544922,18.83429718017578,52.53480911254883,4.217897415161133,43.46784591674805,44.465667724609375,-15.964305877685547,-43.645660400390625,-13.405649185180664,6.159536361694336,-39.29180908203125,34.37416076660156,-11.320152282714844,16.15743064880371,23.159147262573242,26.340497970581055,37.357601165771484,-26.79494285583496,-0.07821838557720184,-35.00245666503906,11.168420791625977,-4.786942958831787,-21.616769790649414,37.0152587890625,-5.296971797943115,33.128292083740234,16.848833084106445,-7.7201714515686035,-13.352361679077148,-55.18671798706055,37.537078857421875,10.194343566894531,-16.059589385986328,-6.090511322021484,-41.28746795654297,16.23026466369629,-22.456296920776367,-36.88901901245117,18.62310028076172,8.963162422180176,-15.965935707092285,-21.46315574645996,-6.507724285125732,14.365887641906738,-41.654144287109375,-20.177915573120117,19.630126953125,0.5589669942855835,-40.07203674316406,-2.040537118911743,37.776397705078125,33.70048141479492,11.624834060668945,-10.355746269226074,39.45001983642578,27.272384643554688,6.163961887359619,-5.0330939292907715,-35.47585678100586,-7.719855308532715,18.590641021728516,0.469387024641037,-5.878553867340088,19.461536407470703,19.920480728149414,-16.522048950195312,-17.749149322509766,-39.30023193359375,-39.15593338012695,-38.92778396606445,-11.785881042480469,33.601715087890625,29.64936065673828,7.239382743835449,51.74173355102539,55.62841033935547,33.49089050292969,15.214264869689941,46.460960388183594,12.315169334411621,-39.04038619995117,19.635610580444336,7.2393646240234375,-36.56968688964844,35.218360900878906,-6.640596866607666,-4.7940473556518555,45.30320358276367,1.040822148323059,-36.99823760986328,-24.039657592773438,0.007550862617790699,-19.83034896850586,-20.977157592773438,-3.2605371475219727,-38.62382507324219,-1.9818490743637085,5.458921432495117,-10.513999938964844,-4.770449638366699,-0.19937002658843994,-1.8188512325286865,-45.06551742553711,0.06935147196054459,-18.047943115234375,-39.07807922363281,-5.593780517578125,-15.8801851272583,-26.317548751831055,16.544227600097656,-35.26573944091797,-27.439739227294922,-10.245830535888672,-3.126948833465576,-5.019935607910156,43.15889358520508,-12.155194282531738,19.873353958129883,8.526479721069336,-7.616304874420166,0.3742840588092804,-37.11114501953125,-14.507667541503906,51.32126998901367,3.060271739959717,1.9900708198547363,-20.664993286132812,-40.366634368896484,-35.81028747558594,-20.755844116210938,53.642127990722656,-37.60231399536133,-20.434123992919922,-7.082385540008545,-0.7128018140792847,53.47539520263672,-38.97438430786133,-19.126028060913086,-37.71122360229492,-37.54889678955078,-39.07222366333008,-45.265872955322266,-0.1405426561832428,49.90617370605469,14.532597541809082,0.3296394646167755,14.636924743652344,22.086397171020508,-23.484811782836914,-25.127473831176758,-29.33368492126465,-12.912498474121094,-17.88250160217285,-34.37615966796875,-48.620609283447266,-37.38499069213867,-20.6348934173584,-14.634562492370605,0.32922542095184326,-32.458370208740234,-11.640399932861328,-13.985209465026855,-14.162710189819336,-8.094812393188477,-10.030683517456055,-20.65301513671875,58.74464416503906,12.433154106140137,-18.625667572021484,-15.560625076293945,-22.05525779724121,25.047311782836914,18.111648559570312,-35.47455596923828,-14.035201072692871,-34.02528762817383,2.600693702697754,3.0181500911712646,-15.176653861999512,-12.18521499633789,-43.56550979614258,-20.583402633666992,30.95195198059082,-3.399998188018799,9.742388725280762,50.489437103271484,-2.515151023864746,6.124267101287842,-43.79219436645508,-42.78761672973633,-41.935020446777344,-33.791297912597656,-51.737998962402344,-5.9419403076171875,-49.6107292175293,27.275081634521484,41.805152893066406,35.41059112548828,-33.425601959228516,3.2371842861175537,-37.073543548583984,-11.478378295898438,-11.195855140686035,-3.3009696006774902,39.97544860839844,-40.46366500854492,-20.71270179748535,48.369842529296875,43.279136657714844,42.07121276855469,22.70992660522461,21.06553077697754,-39.616756439208984,6.202270984649658,-34.85742950439453,-19.65475845336914,-0.4680255949497223,-5.241328716278076,-38.826114654541016,-35.22138595581055,-39.76715850830078,-5.633187770843506,51.08012771606445,-45.7968635559082,-15.018224716186523,3.964040517807007,-26.083890914916992,-53.95400619506836,33.339813232421875,-23.187196731567383,-0.5409119725227356,49.03384017944336,24.143291473388672,-14.35057258605957,-18.906686782836914,4.0525031089782715,-34.65277862548828,-37.45876693725586,0.6295948028564453,-35.87969970703125,-14.23055648803711,-37.01154327392578,-5.046564102172852,-49.8466911315918,4.739739418029785,13.270394325256348,50.37561798095703,-2.922705888748169,-21.767133712768555,-12.524116516113281,17.183862686157227,-3.745400905609131,22.533056259155273,-37.15872573852539,12.326031684875488,-43.06034469604492,-4.100297451019287,-25.22992515563965,-2.8789403438568115,-23.166231155395508,5.038961887359619,16.94636344909668,7.199524879455566,10.920330047607422,-7.981250762939453,-7.395829200744629,-10.684797286987305,-17.650890350341797,-14.204752922058105,-26.317476272583008,-26.807260513305664,8.505843162536621,-18.148147583007812,-6.973543167114258,-11.382633209228516,22.489877700805664,9.58614444732666,13.868853569030762,-34.42658233642578,21.456134796142578,20.910369873046875,28.581281661987305,13.045262336730957,52.526031494140625,-11.94017505645752,37.537078857421875,-10.020530700683594,41.8022575378418,30.114702224731445,-4.120645999908447,4.04862642288208,15.066853523254395,4.786815643310547,23.909591674804688,13.8576078414917,-3.1046879291534424,27.87374496459961,-17.622085571289062,-35.43059539794922,12.579052925109863,53.760284423828125,47.34638214111328,-24.029020309448242,-43.091705322265625,14.979201316833496,10.095221519470215,14.544624328613281,-43.64223861694336,-43.64179992675781,55.76462936401367,51.23527145385742,1.9937173128128052,-38.981117248535156,13.953219413757324,11.198172569274902,53.67987060546875,-15.158617973327637,-13.573972702026367,-5.882504463195801,49.84908676147461,20.816991806030273,-17.014497756958008,-25.449369430541992,0.39790022373199463,-18.353288650512695,14.070390701293945,-21.63056755065918,-1.7185351848602295,-8.637650489807129,14.403186798095703,5.124068260192871,13.9183931350708,14.354229927062988,26.08099937438965,24.540185928344727,14.96158504486084,11.11915397644043,26.715105056762695,7.444891452789307,-23.11489486694336,-19.703001022338867,-17.647613525390625,-2.899686813354492,45.98218536376953,41.86181640625,8.331872940063477,-25.357738494873047,1.8816889524459839,-18.152311325073242,14.799027442932129,29.661151885986328,-18.560596466064453,39.86654281616211,1.347355842590332,-49.61040115356445,-24.113845825195312,19.919635772705078,-44.49183654785156,-0.4240571856498718,-22.734153747558594,-14.266653060913086,-39.32832336425781,-43.48101806640625,-38.57105255126953,-22.33316421508789,-1.2650266885757446,1.5428634881973267,6.315145969390869,-12.354642868041992,51.88908767700195,16.05185317993164,11.339784622192383,32.26650619506836,20.42769432067871,9.049989700317383,6.76650857925415,-34.53045654296875,46.89348220825195,48.78957748413086,33.57290267944336,28.75567626953125,-29.732730865478516,-6.805033206939697,-18.222135543823242,5.039743900299072,-0.2912686765193939,-6.088046550750732,13.61555290222168,-22.971588134765625,19.455305099487305,3.9250903129577637,1.0434315204620361,3.5838024616241455,-6.339949131011963,10.752578735351562,42.370399475097656,50.55447006225586,6.206918716430664,-10.67665958404541,-29.55551528930664,-13.129707336425781,-10.878588676452637,-43.13279724121094,5.617512226104736,-36.59659194946289,17.22646713256836,17.002561569213867,-14.546075820922852,25.311025619506836,-47.6550407409668,-48.261863708496094,-51.126678466796875,-39.437984466552734,-0.2951556444168091,-30.464994430541992,19.475421905517578,-12.030149459838867,-7.450769424438477,-23.48456573486328,-23.001142501831055,2.5477936267852783,-35.03800964355469,3.211897134780884,-4.245582580566406,3.584993362426758,13.64613151550293,-21.365463256835938,-45.17723083496094,-19.298084259033203,31.302106857299805,15.058701515197754,-23.478580474853516,13.619747161865234,34.69813537597656,10.260223388671875,-0.19692470133304596,10.123513221740723,-5.337170600891113,19.57623863220215,17.945152282714844,-6.601011753082275,32.70587158203125,23.4925594329834,18.909555435180664,47.01347732543945,18.510639190673828,-40.66794967651367,30.743270874023438,-20.35194969177246,22.973939895629883,-6.3120293617248535,-18.230810165405273,-12.885407447814941,26.279212951660156,-37.0346794128418,-5.838466644287109,-24.780832290649414,-4.912294387817383,6.071475028991699,-16.612754821777344,-37.1162223815918,-10.441413879394531,1.825684905052185,10.24881649017334,-39.49409103393555,-36.06656265258789,-18.300189971923828,17.71569061279297,5.443688869476318,-1.368659496307373,-39.648990631103516,18.316198348999023,39.94295883178711,37.858219146728516,-13.4130220413208,21.90892791748047,54.7333869934082,41.62103271484375,-16.909475326538086,-21.4424991607666,1.6660107374191284,18.78990364074707,-15.138355255126953,1.0847395658493042,-17.056852340698242,1.0846844911575317,-38.6915283203125,-4.407214641571045,48.925724029541016,-13.158617973327637,-26.900136947631836,-11.780998229980469,9.4613037109375,-36.816524505615234,-9.705467224121094,-9.806709289550781,31.965858459472656,50.091121673583984,3.0416393280029297,40.19207000732422,-19.726430892944336,-30.266002655029297,39.63218307495117,10.542207717895508,-14.17611026763916,5.1255269050598145,4.207267761230469,8.402624130249023,-20.349781036376953,-24.98409080505371,-24.90410041809082,-34.883487701416016,35.39796829223633,1.056205153465271,-44.86891174316406,43.0986442565918,36.33238983154297,33.971717834472656,40.84639358520508,46.177120208740234,55.20920944213867,-1.5362788438796997,3.402468681335449,10.510835647583008,18.730966567993164,20.665634155273438,20.058765411376953,-23.5556640625,-23.886533737182617,-46.5596809387207,-47.33704376220703,17.958141326904297,20.955289840698242,14.945380210876465,-35.70580291748047,-44.118324279785156,7.0757036209106445,-34.81603240966797,36.44768524169922,-18.183242797851562,-4.832991123199463,-35.746246337890625,-28.415538787841797,5.503044128417969,-19.844846725463867,-9.762961387634277,-44.62012481689453,-29.39533805847168,-18.19407081604004,-7.69205379486084,5.503052711486816,-35.440242767333984,4.156711578369141,-20.55146026611328,-44.50095748901367,36.24452590942383,22.208810806274414,-24.92432403564453,-36.198726654052734,-16.440954208374023,-37.480934143066406,-18.194032669067383,-16.401142120361328,-47.3370361328125,-39.09407043457031,-39.24168014526367,6.257287979125977,0.9111291766166687,1.070236325263977,33.6722526550293,-18.52802085876465,-6.030282497406006,-10.873783111572266,42.46883010864258,37.94577407836914,-13.189287185668945,-23.148250579833984,51.8633918762207,38.2582893371582,-16.60352897644043,-24.920686721801758,-19.350801467895508,43.7288703918457,14.198079109191895,-16.447927474975586,-16.692947387695312,0.7791418433189392,-1.5445390939712524,0.143149271607399,-18.071298599243164,41.82613754272461,43.56511306762695,19.920475006103516,10.234971046447754,12.398258209228516,33.38325500488281,23.340499877929688,-0.48692378401756287,6.066125392913818,2.428229331970215,45.34284210205078,-18.4411678314209,-27.67173194885254,-22.033203125,-3.289423942565918,40.481109619140625,29.912189483642578,44.4789924621582,-43.41817855834961,44.0292854309082,43.2504997253418,-24.20507049560547,-9.848840713500977,-27.457969665527344,-16.993343353271484,-18.79271125793457,-33.04199981689453,-35.29964065551758,-8.738646507263184,1.593957781791687,7.561175346374512,-37.937164306640625,6.252434253692627,-37.7701416015625,-16.466014862060547,-40.20785903930664,4.2352986335754395,20.028902053833008,-13.458074569702148,-15.044410705566406,-45.196868896484375,-19.045759201049805,8.544806480407715,9.466129302978516,42.568206787109375,32.02216339111328,9.235006332397461,-35.70122146606445,41.82592010498047,53.016334533691406,-33.891971588134766,-28.020431518554688,6.011697769165039,47.8599967956543,4.051311492919922,-23.24385643005371,46.956153869628906,41.61326217651367,50.023563385009766,6.725038528442383,-4.743106842041016,41.752620697021484,39.24983215332031,24.7838134765625,14.748270988464355,35.44752883911133,31.341352462768555,15.064803123474121,35.01996612548828,-4.6954474449157715,18.059036254882812,-14.192116737365723,-6.798219680786133,-39.146427154541016,6.257846832275391,-40.10427474975586,-20.667816162109375,-48.710548400878906,-11.33882999420166,-36.23950958251953,-19.551713943481445,-43.13722610473633,-40.2542724609375,-15.102163314819336,-30.966611862182617,-8.079426765441895,-45.90684509277344,-23.343524932861328,-2.638284206390381,22.530963897705078,17.586015701293945,-6.416688919067383,-18.732736587524414,2.8090133666992188,-24.195030212402344,17.647459030151367,10.19827938079834,13.901865005493164,28.64030647277832,22.108474731445312,3.7466959953308105,8.739763259887695,14.96485710144043,-9.582422256469727,8.751216888427734,20.40645408630371,52.076175689697266,-3.0538980960845947,-2.9262959957122803,16.31867027282715,33.030025482177734,21.40937042236328,11.7206449508667,22.16037368774414,9.083230018615723,-13.071383476257324,-38.48765182495117,-22.08791160583496,4.3162522315979,32.539451599121094,-6.601405620574951,38.05895233154297,-20.344316482543945,-38.89305877685547,2.924828290939331,6.711042881011963,-22.03676414489746,-21.12372398376465,-6.577259063720703,-27.965961456298828,-30.970470428466797,-38.263427734375,-12.09515380859375,-3.8369104862213135,-22.23464584350586,-6.1653032302856445,-19.20424461364746,-8.274646759033203,-15.956120491027832,-8.317148208618164,-17.939477920532227,-31.9207763671875,-49.81337356567383,-20.611835479736328,3.5669631958007812,-48.220054626464844,-22.46645736694336,-1.4137606620788574,-44.56987380981445,40.2435417175293,49.239444732666016,50.66441345214844,-13.637421607971191,-10.456571578979492,39.75355529785156,12.197285652160645,-41.28538131713867,-37.647003173828125,-17.81089973449707,37.357452392578125,-11.731668472290039,-16.552379608154297,-40.47208023071289,-31.06043243408203,-49.402435302734375,5.441073894500732,45.342533111572266,52.386512756347656,3.969097852706909,7.188826560974121,-1.3537399768829346,7.365496635437012,-30.5465087890625,-24.85664939880371,-9.2858247756958,-16.446596145629883,-42.86973571777344,-35.695987701416016,-10.32111644744873,1.448067307472229,44.40802764892578,-4.860622406005859,49.80174255371094,-26.629619598388672,-49.95327377319336,34.2501335144043,-15.493694305419922,-2.5604300498962402,5.187053203582764,-39.47578430175781,-17.27785873413086,27.90379524230957,-15.809685707092285,9.079865455627441,55.68064498901367,-0.4249321520328522,5.509236812591553,3.968930244445801,3.9689080715179443,-34.81603240966797,9.308326721191406,-30.437196731567383,12.163661003112793,47.65422821044922,15.316123008728027,54.85214614868164,50.32963180541992,31.66731071472168,-20.602619171142578,50.30876159667969,50.166778564453125,51.6821403503418,43.203392028808594,40.87197494506836,46.32520294189453,8.896086692810059,50.25668716430664,42.77729797363281,50.51898193359375,39.261295318603516,50.11038589477539,54.70515823364258,16.409122467041016,21.55861473083496,53.793643951416016,-10.442403793334961,-43.61661911010742,-46.59077072143555,-40.45513153076172,-17.010831832885742,-49.19013595581055,-36.79268264770508,47.3096923828125,-48.97028732299805,46.1137809753418,31.613502502441406,-2.181469202041626,25.61652183532715,-11.001245498657227,-16.852611541748047,-8.325213432312012,45.00732421875,29.115442276000977,37.85909652709961,-12.721123695373535,17.42156219482422,18.667131423950195,-7.005321025848389,30.274858474731445,-44.06381607055664,-47.016788482666016,-45.68269729614258,12.228327751159668,8.992547988891602,-38.431236267089844,-1.3880289793014526,-39.391944885253906,15.322683334350586,-1.1084338426589966,6.311991214752197,-1.955520510673523,22.108652114868164,33.86071014404297,48.55694580078125,36.36943054199219,36.665958404541016,29.45793342590332,-10.16259765625,-53.769657135009766,10.186675071716309,-10.875940322875977,-36.61114501953125,7.441770553588867,30.99329948425293,41.211544036865234,-7.676330089569092,-7.421606063842773,-40.02823257446289,-23.028255462646484,-44.74645233154297,-0.22228491306304932,24.841405868530273,-47.85457229614258,10.849055290222168,13.07137680053711,15.375405311584473,35.05925750732422,45.996925354003906,30.215972900390625,8.806090354919434,-0.24464234709739685,4.2193145751953125,-12.300713539123535,11.569708824157715,-2.6489875316619873,-4.7793803215026855,-7.763578414916992,-18.129671096801758,-4.121459007263184,-3.993155002593994,54.49797058105469,23.307832717895508],\"xaxis\":\"x\",\"y\":[23.528783798217773,34.5130615234375,8.432689666748047,-11.132364273071289,-4.723934173583984,23.312362670898438,-28.96392250061035,-52.812652587890625,54.89619827270508,-17.085594177246094,63.369930267333984,14.704705238342285,-10.994585037231445,13.841412544250488,-22.712890625,-7.503648281097412,-33.7517204284668,0.09335938096046448,66.99835205078125,-5.236456871032715,-13.677541732788086,-19.437843322753906,-40.70932388305664,-13.188072204589844,51.25629806518555,-46.41250228881836,-34.452491760253906,17.0484619140625,70.37451934814453,-39.694461822509766,-37.95793533325195,69.59757232666016,-57.479122161865234,16.264678955078125,-30.85603141784668,61.5691032409668,-37.10495376586914,72.72926330566406,-27.495437622070312,-21.292583465576172,-7.114377021789551,-44.254058837890625,-50.9458122253418,69.32514953613281,33.358192443847656,-27.663684844970703,70.91120147705078,-1.4043186902999878,-25.32109260559082,-13.543265342712402,-58.7121467590332,-0.13617150485515594,-3.8641977310180664,-25.307275772094727,-4.309684753417969,-51.71996307373047,-16.998889923095703,2.6445846557617188,-39.57774353027344,-31.728052139282227,0.480258971452713,-15.118131637573242,64.0678482055664,21.881881713867188,25.36553192138672,-1.8115724325180054,63.19053268432617,4.824150085449219,26.94254493713379,26.489086151123047,64.86176300048828,4.1753973960876465,36.45137405395508,1.5707597732543945,27.676977157592773,24.88733673095703,16.235883712768555,-13.660703659057617,57.23500061035156,6.304347515106201,58.59842300415039,23.231111526489258,22.669843673706055,20.708852767944336,10.303753852844238,22.562244415283203,61.69763946533203,5.202271938323975,8.976840019226074,-28.709293365478516,-20.762962341308594,-20.42629051208496,-1.8125066757202148,-0.03164881467819214,-19.058521270751953,-4.391905307769775,-7.2281880378723145,-0.2813900411128998,-19.464677810668945,-35.9398078918457,-20.17011260986328,7.046360015869141,55.09325408935547,59.61494064331055,-2.576981544494629,20.011951446533203,46.12171173095703,51.128623962402344,-12.088319778442383,-14.614389419555664,-42.97837829589844,-19.848005294799805,-35.63951873779297,-11.941696166992188,-50.7913818359375,-20.905466079711914,-34.30769729614258,5.212460994720459,-33.68851089477539,61.81049728393555,-17.372905731201172,28.712139129638672,0.33049532771110535,1.2437013387680054,-0.09481802582740784,-0.5048744678497314,-28.348804473876953,9.289423942565918,-40.60558319091797,43.2819709777832,4.3102192878723145,-46.15798568725586,-46.30434799194336,-5.282253742218018,-16.537134170532227,-4.958789348602295,33.69043731689453,25.365537643432617,-54.824249267578125,29.974611282348633,47.900978088378906,29.974475860595703,-21.469972610473633,-6.718278408050537,55.416046142578125,-21.573137283325195,-5.169833660125732,-28.464832305908203,-10.89281940460205,-21.81473159790039,33.65666580200195,-48.85808181762695,-0.560341477394104,19.851396560668945,22.61196517944336,-17.16217803955078,61.076908111572266,59.740299224853516,-23.056432723999023,-30.472288131713867,-27.308439254760742,-21.007827758789062,-8.735225677490234,-31.56822967529297,-18.671220779418945,11.45169448852539,4.434133052825928,-32.128170013427734,-22.729530334472656,2.8469252586364746,-22.27753257751465,-16.274154663085938,55.00287628173828,-4.220743656158447,-25.432209014892578,57.2686653137207,-31.353572845458984,-46.55657958984375,-51.73169708251953,10.356795310974121,26.619714736938477,22.14310073852539,53.1106071472168,14.004169464111328,69.49134063720703,18.30170440673828,20.50042724609375,24.04847526550293,7.545726776123047,13.248485565185547,-42.277374267578125,61.87345504760742,71.69586944580078,-7.754477500915527,-48.8668212890625,-48.274349212646484,33.05540084838867,18.0963077545166,-6.175113677978516,6.991986274719238,-23.866329193115234,68.81343078613281,-21.042755126953125,2.9341890811920166,-26.095653533935547,34.159454345703125,-20.50505256652832,43.60703659057617,13.742186546325684,1.5514495372772217,32.508880615234375,-42.06159973144531,4.335328102111816,-50.592254638671875,-49.784149169921875,-57.77325439453125,-13.144665718078613,-22.49457359313965,-16.64409637451172,-6.814878463745117,-27.548561096191406,31.37251091003418,-47.98918151855469,-28.686534881591797,-13.298023223876953,16.141489028930664,14.7241792678833,10.998946189880371,18.818132400512695,14.451641082763672,-23.960927963256836,19.223705291748047,13.519336700439453,66.00282287597656,-26.240808486938477,0.09522712230682373,-23.9329833984375,-42.57513427734375,62.95425796508789,-25.006805419921875,-35.13203811645508,-46.538230895996094,-52.30207443237305,74.07569122314453,-17.74068832397461,-44.586822509765625,57.64864730834961,-21.818771362304688,12.872467041015625,-10.016261100769043,-47.976524353027344,-2.7080423831939697,5.492797374725342,-28.226449966430664,-28.211374282836914,-14.351627349853516,61.28539276123047,61.2854118347168,29.25399398803711,22.408849716186523,65.04134368896484,65.054931640625,12.949278831481934,8.339929580688477,55.737091064453125,-2.7905349731445312,14.3439359664917,58.32658386230469,53.75783157348633,59.41873550415039,41.343360900878906,-36.06782913208008,-7.827024936676025,-34.98550796508789,-51.16688537597656,30.18688201904297,25.53002166748047,-9.916191101074219,-60.05006790161133,41.365352630615234,-11.693153381347656,9.935749053955078,64.14022827148438,36.25160217285156,29.83426284790039,61.99894714355469,-36.926212310791016,14.464000701904297,59.16048049926758,53.67950439453125,-8.252057075500488,17.73410415649414,-3.7515721321105957,17.91364288330078,53.67955780029297,25.304101943969727,60.58856201171875,-27.408554077148438,-16.016427993774414,-27.923009872436523,-16.33847427368164,59.74187088012695,3.4770586490631104,-1.5435574054718018,-19.69928741455078,-20.333730697631836,-25.075054168701172,-18.366304397583008,68.43475341796875,-14.27488899230957,53.763328552246094,51.52272415161133,-21.173023223876953,64.03273010253906,-0.2065102458000183,-2.6729166507720947,-45.50826644897461,-15.379867553710938,7.623072147369385,3.755408763885498,-20.640033721923828,-50.9068603515625,-0.34244662523269653,-21.01982879638672,19.861940383911133,-31.943199157714844,-23.407726287841797,25.147315979003906,36.25160598754883,52.72982406616211,3.657010793685913,12.982699394226074,27.94343376159668,-33.700347900390625,12.928349494934082,28.068984985351562,23.396146774291992,-10.814225196838379,14.243870735168457,-48.275203704833984,-34.468624114990234,-3.584437608718872,14.244149208068848,-2.7958340644836426,-35.6873893737793,-52.23005294799805,-47.77417755126953,-27.736743927001953,47.67835235595703,66.22528076171875,14.245756149291992,-10.507996559143066,-12.27064323425293,-26.79728889465332,48.823219299316406,-7.8668999671936035,-30.034242630004883,-31.419418334960938,50.59293746948242,6.874159336090088,-34.500144958496094,-3.594998359680176,20.633968353271484,-2.1982314586639404,-50.71761703491211,21.101238250732422,34.25081253051758,-44.872642517089844,21.907970428466797,-9.782602310180664,23.060733795166016,21.26817512512207,-13.54163646697998,18.105714797973633,-21.485200881958008,21.431106567382812,-32.877716064453125,17.928342819213867,9.909981727600098,24.824350357055664,19.288999557495117,-18.4191951751709,-13.97094440460205,-30.063304901123047,26.252927780151367,-4.488924026489258,-7.6915388107299805,-36.0002326965332,-52.675636291503906,-47.970211029052734,-6.988567352294922,-25.393917083740234,23.785253524780273,-5.465967655181885,-9.622745513916016,-14.81816577911377,-35.79539108276367,-30.76352882385254,52.83045196533203,68.79228973388672,23.13544273376465,35.24979782104492,-2.336840867996216,-3.6283788681030273,-7.909298419952393,4.402359962463379,-13.706340789794922,-26.973604202270508,64.64399719238281,-50.858436584472656,20.12006187438965,-22.75426483154297,-17.965187072753906,21.62495994567871,54.48618698120117,-58.476261138916016,10.134079933166504,-31.450790405273438,-24.315711975097656,-31.508756637573242,-26.114377975463867,20.187463760375977,44.74882888793945,34.926918029785156,-8.772870063781738,-22.833221435546875,-8.507221221923828,-16.354936599731445,-24.95136833190918,61.22684097290039,16.512048721313477,-0.22652895748615265,16.178476333618164,-45.14731216430664,19.513395309448242,-24.5010929107666,4.237112998962402,-18.173276901245117,59.33539581298828,-40.579071044921875,-14.02341365814209,9.609132766723633,62.438072204589844,-31.98747444152832,-0.8562983870506287,-1.539928674697876,33.204898834228516,1.4472702741622925,-1.9694011211395264,-5.349534511566162,66.81914520263672,-4.142430305480957,18.676403045654297,-4.829689979553223,-16.88206672668457,-21.231142044067383,-29.452739715576172,3.501565456390381,-1.0616912841796875,-7.759403705596924,-3.1641340255737305,-19.009258270263672,4.536462783813477,-5.945598602294922,-17.09038734436035,-60.77302169799805,-55.71379470825195,-8.81547737121582,-18.269445419311523,-8.78161334991455,-49.532257080078125,20.610565185546875,18.000423431396484,37.934486389160156,-7.275688171386719,-22.693307876586914,15.271254539489746,-5.993139743804932,40.23245620727539,61.31249237060547,-43.197914123535156,-24.336950302124023,-24.034099578857422,40.317626953125,-3.1840133666992188,22.062807083129883,21.764541625976562,-6.576135635375977,25.931455612182617,-1.0502556562423706,1.6269670724868774,-12.722662925720215,-43.67331314086914,-3.7064404487609863,-6.38744592666626,67.2730712890625,-15.401978492736816,-42.95838928222656,73.11614227294922,-43.775177001953125,-21.400386810302734,-18.73945426940918,-16.1066951751709,-44.21431350708008,59.77288818359375,64.214599609375,-22.55359649658203,-5.2913594245910645,3.0223138332366943,-46.42341232299805,-29.92814064025879,2.126291275024414,-52.05634307861328,64.81144714355469,-25.43729591369629,-10.962394714355469,-20.856163024902344,-21.02243423461914,-9.677603721618652,-16.201269149780273,69.37028503417969,69.95801544189453,-58.43783187866211,12.663296699523926,32.832786560058594,-23.997657775878906,16.859712600708008,-44.854522705078125,-32.27315139770508,-25.577899932861328,9.543404579162598,7.115105628967285,3.936190128326416,8.82221794128418,32.18629455566406,35.445281982421875,54.496028900146484,-20.30422592163086,60.73184585571289,-3.1612308025360107,3.6984314918518066,24.016916275024414,-22.860464096069336,-3.8049190044403076,8.82234001159668,16.343223571777344,18.897981643676758,-45.51299285888672,20.57498550415039,-23.04513168334961,5.871915817260742,2.0609073638916016,-0.4617253541946411,-5.481339931488037,59.47662353515625,-2.2466981410980225,-27.40223503112793,-44.963558197021484,-14.805108070373535,2.9302515983581543,6.7826337814331055,-14.017292022705078,-26.726980209350586,2.023233413696289,-23.117746353149414,16.670276641845703,-3.157331943511963,-47.03826141357422,-9.34972095489502,20.420875549316406,7.600994110107422,-41.099151611328125,-46.84282302856445,-41.10363006591797,22.549739837646484,-23.419309616088867,56.36491012573242,-60.48716354370117,1.9386662244796753,-14.568692207336426,-25.616783142089844,64.29524993896484,-13.28425407409668,-21.377490997314453,-7.868039131164551,64.19734954833984,-28.898571014404297,-3.738166093826294,-23.294801712036133,9.549835205078125,-4.405304431915283,71.5973892211914,66.17730712890625,-32.75327682495117,-33.353965759277344,62.158905029296875,46.521915435791016,19.210403442382812,-13.104904174804688,68.26207733154297,-6.654210567474365,-5.841300010681152,-5.1496806144714355,10.611926078796387,8.091058731079102,-0.0540691576898098,3.393406391143799,-8.508600234985352,-6.532652378082275,-13.874643325805664,-13.261700630187988,59.105525970458984,-32.052059173583984,64.035400390625,0.38048040866851807,2.425189733505249,-35.39310073852539,-1.392680048942566,64.59807586669922,3.526609182357788,-15.216883659362793,-30.373077392578125,15.944868087768555,-17.765411376953125,-27.154388427734375,-58.6710090637207,58.9652099609375,-30.481365203857422,-43.4638671875,19.496049880981445,-11.08238697052002,7.266922950744629,9.18388843536377,27.835952758789062,24.455554962158203,18.820297241210938,40.468257904052734,17.204498291015625,26.492507934570312,30.34882164001465,31.743438720703125,32.086788177490234,7.211618900299072,8.592784881591797,25.814788818359375,24.182918548583984,24.018800735473633,33.1804313659668,35.05918502807617,42.61406707763672,5.479740619659424,7.803899765014648,7.879319667816162,12.3480806350708,7.687937259674072,-17.55816078186035,-7.54671049118042,14.22986888885498,-36.56049728393555,-10.902762413024902,72.322509765625,-53.5476188659668,-40.3016357421875,-54.22835159301758,-5.649465084075928,-7.962390422821045,-52.17384338378906,-11.896761894226074,-24.672029495239258,-17.159053802490234,-19.017988204956055,-13.316167831420898,25.251182556152344,71.02516174316406,39.85000991821289,4.936661720275879,-22.99831199645996,-51.60530090332031,36.45121383666992,25.454002380371094,42.13016128540039,-22.701160430908203,-15.012076377868652,12.176085472106934,14.8185396194458,6.76395320892334,-2.442369222640991,27.55422592163086,5.517927169799805,-14.055728912353516,6.372766017913818,58.61386489868164,-50.07432174682617,-40.66017150878906,66.27778625488281,8.312607765197754,-24.667524337768555,23.68975067138672,-20.828290939331055,-15.636035919189453,-26.989477157592773,-20.34940528869629,-16.431623458862305,-23.24980926513672,-43.00719451904297,-21.95956039428711,-29.962848663330078,-17.188833236694336,-20.694442749023438,-3.9989428520202637,-0.8652969598770142,-1.9987577199935913,-22.471607208251953,-22.471101760864258,21.57794189453125,-48.239227294921875,7.137404441833496,-39.22147750854492,-43.655216217041016,73.18431091308594,-24.422842025756836,-47.487449645996094,-46.601409912109375,-50.04490661621094,-49.525211334228516,-39.665714263916016,68.60134887695312,64.77424621582031,-49.006126403808594,-48.824462890625,-9.128783226013184,-37.57725143432617,-30.652023315429688,-46.550559997558594,69.9000473022461,-48.83408737182617,-48.73109817504883,22.892223358154297,-31.6413631439209,-15.168831825256348,18.8111629486084,19.05155372619629,0.11392311006784439,6.1587114334106445,-1.825847864151001,66.73120880126953,-20.23334503173828,-26.986921310424805,-31.370708465576172,-2.85830020904541,-48.374027252197266,-13.104904174804688,9.257997512817383,16.117595672607422,11.566874504089355,44.13882064819336,69.14411163330078,11.068161010742188,14.50715446472168,67.7305679321289,17.962604522705078,17.51917266845703,-19.72749900817871,-16.62804412841797,17.519174575805664,-34.8024787902832,-5.157687187194824,-11.123183250427246,-37.178810119628906,-6.194106578826904,20.52264976501465,70.03382110595703,46.984161376953125,27.754344940185547,30.209440231323242,6.608064651489258,32.74620056152344,-43.496315002441406,20.968469619750977,16.314716339111328,-2.931043863296509,6.487048625946045,53.05716323852539,17.55314064025879,16.544178009033203,9.493551254272461,-8.103469848632812,23.357093811035156,22.253047943115234,8.21463680267334,56.38175964355469,-8.527058601379395,-15.696701049804688,64.32318115234375,-4.090035438537598,-11.783007621765137,-63.61574935913086,-7.647995948791504,-31.671955108642578,-40.491844177246094,-5.009255886077881,71.59669494628906,9.88421630859375,7.378345966339111,73.31340026855469,-26.233867645263672,-58.18989562988281,-1.5553408861160278,-43.14412307739258,30.27558708190918,-56.81025314331055,55.71506881713867,26.944021224975586,-26.431228637695312,-44.24234390258789,45.889007568359375,-23.198162078857422,58.392005920410156,-21.459442138671875,55.48215866088867,-8.56988525390625,30.023681640625,-27.1202449798584,-6.541786193847656,-42.31849670410156,-45.8485107421875,9.253236770629883,-8.986590385437012,35.8574104309082,32.23958969116211,-17.153385162353516,1.0538325309753418,-56.26240158081055,-50.817298889160156,54.50059127807617,-34.71550750732422,48.38243865966797,33.247318267822266,-42.37149429321289,-49.24101257324219,52.34917068481445,-21.240808486938477,52.54497528076172,41.34357833862305,59.45462417602539,-45.16810989379883,44.6344108581543,-20.036205291748047,-44.22407531738281,-30.31302833557129,-26.076616287231445,-25.459815979003906,31.38291358947754,58.534759521484375,4.22493839263916,65.34783172607422,-37.85122299194336,-23.60897445678711,-51.62639236450195,15.653908729553223,14.49425983428955,71.11639404296875,9.232950210571289,65.10816192626953,-18.821462631225586,-46.77458953857422,-11.61481761932373,61.62109375,43.52127456665039,-48.309818267822266,-49.59209442138672,-38.37226867675781,64.85126495361328,-12.093582153320312,-43.56464767456055,-19.29877471923828,4.548378944396973,-14.800395965576172,57.063621520996094,-48.23725128173828,-41.96904754638672,-30.23496437072754,16.27318572998047,3.242983818054199,9.473770141601562,-9.887614250183105,3.8512167930603027,-10.285517692565918,18.607311248779297,-2.0958495140075684,30.481985092163086,-44.56979751586914,8.656790733337402,25.4904842376709,14.604503631591797,24.169754028320312,-14.630252838134766,-54.512977600097656,21.99972152709961,72.70430755615234,16.256696701049805,-12.755542755126953,31.16931915283203,28.71212387084961,-26.26557731628418,-11.276857376098633,-21.696508407592773,25.36418342590332,-49.94876480102539,23.451904296875,60.63034439086914,-8.841991424560547,27.705385208129883,19.67147445678711,6.318667411804199,-13.060400009155273,-18.40074348449707,-44.56569290161133,-26.34467315673828,-3.330068588256836,27.36182975769043,14.565752029418945,67.2842025756836,70.67894744873047,69.93024444580078,-25.616823196411133,61.30720520019531,-3.393958330154419,-25.878652572631836,-9.897615432739258,17.937952041625977,18.778942108154297,17.86348533630371,19.8452205657959,-44.41058349609375,16.553319931030273,12.44540786743164,2.1161062717437744,-52.22626876831055,-34.75815200805664,18.953277587890625,-1.8599597215652466,-1.6436032056808472,0.777431309223175,13.522562026977539,24.35236358642578,-0.7641705870628357,-38.175994873046875,-12.87826156616211,-29.34735107421875,66.24312591552734,-4.742839336395264,58.62935256958008,-24.035110473632812,4.527210235595703,-1.1950719356536865,-50.67362594604492,-13.081934928894043,11.218995094299316,-37.452789306640625,-44.82152557373047,13.762228012084961,-33.92233657836914,-12.654561996459961,-48.614009857177734,22.475557327270508,63.59621047973633,-25.504840850830078,9.331388473510742,62.540802001953125,-25.261320114135742,-3.1776905059814453,3.193528413772583,0.475189745426178,7.407495498657227,-41.8473014831543,5.6500701904296875,10.49404525756836,61.239925384521484,9.745183944702148,58.81007385253906,-14.059381484985352,29.739103317260742,18.29802894592285,53.18624496459961,-1.9174752235412598,-43.886985778808594,14.930360794067383,26.944021224975586,-7.348004341125488,-7.738334655761719,4.118224143981934,59.97518539428711,17.793302536010742,28.00598907470703,-20.26263427734375,38.37957000732422,-24.038522720336914,46.733131408691406,-22.09115219116211,66.22608184814453,-36.083229064941406,-3.5975847244262695,63.899139404296875,-1.1307599544525146,17.165565490722656,28.02702522277832,47.62222671508789,72.75469970703125,19.71045684814453,21.943988800048828,-30.813873291015625,62.37681579589844,32.00600814819336,5.750197887420654,0.5336484313011169,2.881638288497925,10.245475769042969,-19.360851287841797,-11.97453498840332,0.1641189604997635,61.6705207824707,66.21417236328125,-23.439044952392578,-28.232406616210938,-16.13553810119629,20.479673385620117,18.87938117980957,57.13053512573242,13.35795783996582,11.937276840209961,19.20209503173828,58.8529167175293,-23.34459114074707,-24.360450744628906,-13.843804359436035,53.47491455078125,-55.308223724365234,-38.29013442993164,53.972816467285156,7.58440637588501,-50.493682861328125,11.178564071655273,16.067062377929688,-44.45248031616211,19.332677841186523,59.26316833496094,32.656463623046875,-53.56310272216797,30.25373077392578,69.48171997070312,-58.3187370300293,-23.47822380065918,62.95870590209961,-3.6861302852630615,-13.020731925964355,10.651116371154785,-4.907619476318359,11.81165599822998,-20.21117401123047,-29.84337043762207,-3.131861448287964,-15.86401081085205,-11.180065155029297,73.11648559570312,-6.420869827270508,61.66725158691406,-53.22807693481445,-43.06774139404297,-36.46754455566406,12.015621185302734,-2.9910728931427,-37.49966812133789,-35.6244010925293,-35.635074615478516,-9.326066017150879,25.126018524169922,-28.054513931274414,0.8232959508895874,-32.616458892822266,12.874224662780762,8.676107406616211,7.393124580383301,-43.236663818359375,10.822932243347168,31.554407119750977,2.9686055183410645,19.84491539001465,19.13603973388672,-48.218910217285156,21.76831817626953,-22.231271743774414,10.43418025970459,-0.36457687616348267,19.844928741455078,59.85273742675781,9.482779502868652,22.44968032836914,-6.327773571014404,69.13386535644531,-5.376410484313965,-48.96014404296875,-28.574382781982422,9.405167579650879,11.566055297851562,1.9101792573928833,-42.88902282714844,56.307373046875,13.539752006530762,43.244815826416016,72.7239761352539,13.465883255004883,-37.640445709228516,44.56800079345703,62.815643310546875,70.59382629394531,-0.9506844282150269,-25.030176162719727,59.52547073364258,-42.9483642578125,70.57720947265625,-3.181687116622925,67.88835144042969,33.15793991088867,-21.719074249267578,-14.273139953613281,54.50229263305664,-37.78974533081055,0.30521661043167114,-31.105060577392578,-51.786746978759766,13.431448936462402,26.592790603637695,22.267797470092773,-30.683046340942383,-49.863922119140625,-0.17274099588394165,13.448856353759766,-41.4791145324707,59.69508361816406,-50.55977249145508,-44.12910079956055,1.7097694873809814,1.590883493423462,0.757012128829956,7.796980381011963,2.16796875,-7.031389236450195,59.412322998046875,2.626448631286621,-8.393508911132812,-44.78129959106445,13.324224472045898,-8.260114669799805,10.781659126281738,1.7053356170654297,33.453857421875,-5.506321907043457,63.383460998535156,59.51755905151367,0.4242291748523712,63.7587890625,-54.64685821533203,19.638986587524414,-8.824969291687012,55.31988525390625,12.856823921203613,8.813882827758789,17.970054626464844,-28.093324661254883,-33.28508377075195,-34.701324462890625,58.79997253417969,-10.699203491210938,29.478715896606445,-18.460784912109375,16.526718139648438,7.9825439453125,18.146331787109375,-10.645196914672852,21.6513671875,-11.00965404510498,-47.194190979003906,65.23767852783203,-10.0137300491333,-13.217229843139648,55.737091064453125,-36.9039192199707,0.3382493555545807,3.197450637817383,-2.2727930545806885,-20.53508758544922,8.360722541809082,12.036428451538086,20.674278259277344,-30.850196838378906,66.71773529052734,17.629791259765625,12.075730323791504,-4.664618015289307,-19.622142791748047,-9.481026649475098,10.814689636230469,23.10099220275879,-24.77724838256836,-28.233957290649414,8.384458541870117,-15.008975982666016,11.826767921447754,64.26374816894531,-35.93292236328125,52.82349395751953,58.10271072387695,59.984596252441406,4.985876083374023,61.117523193359375,-40.07524490356445,-5.20283842086792,9.449384689331055,-15.390531539916992,2.983400583267212,-16.760677337646484,0.6338725686073303,36.73058319091797,17.796993255615234,62.775184631347656,62.908626556396484,2.5862667560577393,-37.75959396362305,24.6392822265625,57.093421936035156,8.087555885314941,-28.98590660095215,1.7062190771102905,4.052684783935547,-45.88984680175781,-45.97144317626953,67.36009216308594,62.694026947021484,-23.419231414794922,-11.11928939819336,-7.272371292114258,58.187843322753906,-2.422924518585205,43.8804931640625,63.119686126708984,21.348669052124023,-16.530244827270508,39.56167984008789,-19.13010597229004,-11.602598190307617,-15.660062789916992,-24.51616859436035,-16.829744338989258,-3.1046502590179443,-24.656164169311523,64.99232482910156,17.394861221313477,17.44803237915039,-13.754166603088379,28.56997299194336,13.705564498901367,0.13156697154045105,5.3184380531311035,32.22317123413086,0.552615225315094,-37.3813362121582,-15.130123138427734,-52.598388671875,2.663480043411255,12.22234058380127,46.74296951293945,-45.97507858276367,-14.524871826171875,-21.929420471191406,-2.79061222076416,16.11441421508789,11.917797088623047,-5.619269847869873,28.561513900756836,-18.165285110473633,-47.88373565673828,-55.63219451904297,30.01190948486328,-2.3250529766082764,-42.42264175415039,-39.73836898803711,13.998407363891602,70.44860076904297,6.303625583648682,9.864007949829102,-11.845682144165039,-50.583988189697266,-50.32423782348633,-36.075164794921875,-46.444801330566406,45.576297760009766,34.9318733215332,17.61103630065918,12.140848159790039,18.62009048461914,21.032127380371094,22.82942008972168,14.118658065795898,-8.325166702270508,16.127668380737305,-7.9473676681518555,65.33929443359375,-20.46013641357422,-20.460128784179688,-26.033143997192383,-3.948657989501953,-23.557323455810547,0.5669901967048645,19.1678409576416,54.559295654296875,-11.95794677734375,-49.180641174316406,-51.41880416870117,-53.281246185302734,-1.5903868675231934,71.59733581542969,26.217758178710938,25.909690856933594,32.86526870727539,35.80004119873047,40.03842544555664,-7.003170967102051,-19.312963485717773,-19.312875747680664,40.038291931152344,6.952661514282227,-30.951465606689453,-51.9971809387207,32.531494140625,48.42620849609375,18.046573638916016,-9.59582805633545,-11.478777885437012,26.94685935974121,-9.744464874267578,21.336978912353516,6.8187456130981445,-14.524840354919434,1.582533359527588,61.79263687133789,-15.741540908813477,12.747044563293457,5.402409553527832,69.39896392822266,-34.908294677734375,25.663570404052734,-29.859840393066406,-14.163142204284668,56.09700393676758,-46.947837829589844,-10.872486114501953,-15.438682556152344,61.068023681640625,20.187536239624023,16.081544876098633,-25.063119888305664,-7.127048015594482,13.46441650390625,-14.450716018676758,-47.518035888671875,4.437932968139648,-19.854167938232422,-45.54824447631836,-24.724849700927734,-15.31391716003418,-20.98478126525879,-19.57307243347168,-31.61486053466797,-18.00339698791504,2.472567558288574,-25.086095809936523,19.753175735473633,11.284482955932617,-31.542461395263672,-22.400999069213867,-12.577239036560059,-7.127079486846924,-14.982685089111328,-39.320350646972656,-13.104970932006836,53.01145553588867,-33.92399215698242,6.718843460083008,21.52885627746582,44.288394927978516,-44.775978088378906,-16.302722930908203,-15.17093276977539,-2.655137300491333,2.0276596546173096,-16.4721622467041,17.030052185058594,69.96932983398438,55.72536849975586,24.368667602539062,-17.049028396606445,8.875472068786621,7.9502973556518555,26.49234962463379,5.460374355316162,22.426645278930664,-8.645989418029785,-62.90261459350586,-3.5703744888305664,21.322158813476562,1.7129569053649902,-16.33767318725586,22.09980583190918,-21.951711654663086,-27.142227172851562,-33.81128692626953,11.5256929397583,53.11415100097656,-3.6825406551361084,19.643556594848633,-13.382567405700684,-14.027241706848145,71.59740447998047,-29.814502716064453,-0.45320308208465576,44.70595169067383,33.91880798339844,-1.3749778270721436,-36.40435791015625,3.7826709747314453,-33.39515686035156,-17.651899337768555,-19.561479568481445,29.234853744506836,-3.890998601913452,5.734879970550537,18.660280227661133,18.518802642822266,6.227417945861816,11.544955253601074,38.02556610107422,33.93717575073242,-11.08238697052002,70.94361114501953,57.9234504699707,57.9234504699707,-33.044288635253906,27.81537437438965,53.961639404296875,55.21378707885742,57.92344665527344,6.252572536468506,17.913455963134766,3.6102232933044434,2.6902129650115967,-19.168941497802734,55.71707534790039,10.88400650024414,15.527996063232422,20.069005966186523,6.095198154449463,6.578370094299316,17.307554244995117,30.519853591918945,5.119954586029053,13.56727123260498,-36.25458526611328,69.83940887451172,43.77555847167969,29.93769073486328,-21.14352798461914,-8.619783401489258,-30.160076141357422,0.44836556911468506,-0.39151373505592346,-2.2498550415039062,-39.65431213378906,-20.378841400146484,0.6511797308921814,69.6021957397461,-4.241067886352539,-4.198425769805908,-31.580665588378906,-31.381399154663086,73.31216430664062,-0.20645025372505188,-29.12470054626465,-25.935823440551758,-33.33513641357422,15.837491989135742,20.3778076171875,29.07688331604004,31.47501564025879,10.706414222717285,22.314311981201172,-35.602760314941406,2.0518500804901123,21.798126220703125,10.36629867553711,9.079517364501953,-20.017311096191406,59.655723571777344,22.314311981201172,-5.364568710327148,-3.092277765274048,13.759750366210938,8.18825912475586,14.370308876037598,0.9366565346717834,2.6406304836273193,63.43484878540039,14.809859275817871,-19.802623748779297,2.5181567668914795,1.4333772659301758,-6.783519268035889,22.810396194458008,-19.991029739379883,69.60260772705078,38.012664794921875,-10.224416732788086,52.77804183959961,22.062219619750977,18.748884201049805,25.75537109375,-35.7028694152832,5.6324262619018555,-1.2798696756362915,-22.179746627807617,-47.0073127746582,4.90234899520874,-27.628026962280273,3.1189935207366943,65.02031707763672,-22.66716194152832,45.31547164916992,6.362617492675781,8.029745101928711,4.304747581481934,6.325727462768555,8.658295631408691,7.277526378631592,9.630748748779297,15.220800399780273,-3.9531984329223633,4.146310329437256,6.044571399688721,-11.728732109069824,3.9737820625305176,-49.53228759765625,2.513561725616455,4.702347278594971,11.894546508789062,-15.4080171585083,3.5570554733276367,-7.258859634399414,-27.97384262084961,4.1001715660095215,-16.79019546508789,10.076676368713379,44.170963287353516,73.9878158569336,13.049342155456543,64.58112335205078,-41.668949127197266,-12.364320755004883,-19.09222984313965,68.01087188720703,-25.147903442382812,19.136131286621094,-32.42123794555664,-39.90351486206055,63.06897735595703,63.4113655090332,-43.22158432006836,61.505916595458984,63.05925369262695,-49.10475158691406,-13.486096382141113,-48.49184799194336,-17.105735778808594,-27.29334259033203,-13.543279647827148,-14.289606094360352,-1.7983723878860474,-11.525293350219727,-43.170650482177734,-6.214089393615723,72.90701293945312,-18.35128402709961,72.88013458251953,-26.2293758392334,-15.063905715942383,21.503015518188477,-17.925460815429688,-55.024375915527344,-20.496440887451172,-43.89262771606445,30.086599349975586,-4.194934844970703,26.592809677124023,-8.308639526367188,-16.109270095825195,-20.682344436645508,17.522470474243164,5.3667311668396,4.485109806060791,67.01390075683594,12.230325698852539,43.16427230834961,35.38692092895508,57.49599838256836,-39.59020233154297,-29.145221710205078,-32.33513641357422,-42.63645935058594,46.56117248535156,25.410621643066406,-17.88274383544922,-21.58387565612793,-24.95078468322754,9.47695541381836,72.49851989746094,62.86187744140625,50.37846755981445,-12.66124439239502,18.197233200073242,-39.383914947509766,-42.52375793457031,-38.23344039916992,27.347747802734375,-32.713809967041016,-5.232562065124512,0.09486076235771179,-48.2774658203125,-45.43225860595703,-47.702938079833984,-40.301605224609375,-4.626849174499512,-33.08709716796875,-25.250457763671875,-40.332515716552734,54.33845138549805,-29.603132247924805,38.31459045410156,-35.922447204589844,-5.117697715759277,-32.050838470458984,-8.537700653076172,-45.12028884887695,-44.829673767089844,3.393414258956909,16.039052963256836,-9.678346633911133,60.66902542114258,-3.8618342876434326,-31.384191513061523,-39.954620361328125,1.413232684135437,15.682601928710938,15.668194770812988,-3.9240498542785645,4.423882484436035,-37.461673736572266,14.982276916503906,9.818156242370605,-5.831784248352051,-22.44342041015625,1.9627207517623901,-25.41687774658203,-53.56299591064453,-24.962209701538086,58.10371017456055,2.527646780014038,13.61994457244873,20.46881103515625,55.1020393371582,-44.28364562988281,-27.564546585083008,14.57696533203125,-23.309123992919922,24.0341854095459,-2.0022709369659424,-0.18421721458435059,-55.16835021972656,20.95872688293457,0.2858421504497528,10.31192398071289,-30.87098503112793,-4.509735107421875,4.4120049476623535,-7.003170967102051,24.258928298950195,-11.857370376586914,-7.951646327972412,-36.37477493286133,-10.7097749710083,58.427955627441406,3.3274924755096436,47.63911437988281,13.638248443603516,-23.277267456054688,-26.932331085205078,-9.656193733215332,2.8059048652648926,-26.20849609375,-13.49195671081543,-44.038673400878906,-21.560693740844727,-2.2949416637420654,-8.526171684265137,-59.40070343017578,-13.034786224365234,0.16464033722877502,-15.860283851623535,-18.965423583984375,-5.221713066101074,52.770835876464844,-28.447914123535156,2.7360665798187256,57.320068359375,57.28402328491211,15.76474666595459,3.1427829265594482,8.005597114562988,29.186481475830078,-0.3992641866207123,-29.22566795349121,-10.909100532531738,-25.090686798095703,-29.986221313476562,9.469812393188477,9.937801361083984,3.813141107559204,8.376069068908691,1.8155789375305176,-0.11198889464139938,54.3053092956543,8.154964447021484,5.691398620605469,-42.71450424194336,8.30385971069336,-45.25698471069336,-11.571176528930664,-23.70789909362793,56.52882385253906,66.99842071533203,-16.805883407592773,-24.109296798706055,-48.38771438598633,-48.97636795043945,-30.746109008789062,0.9745841026306152,13.521018028259277,21.47376251220703,14.243753433227539,-15.256570816040039,-21.217052459716797,-29.840097427368164,15.49897575378418,-45.43802261352539,-20.517253875732422,-25.618297576904297,-2.7560179233551025,-15.378955841064453,-29.346206665039062,21.464038848876953,-46.518863677978516,-51.48922348022461,-46.894378662109375,-53.71858596801758,65.195068359375,-29.465757369995117,14.951081275939941,34.565433502197266,20.640287399291992,20.01194953918457,21.502988815307617,56.55832290649414,-3.0626652240753174,-7.070121765136719,-36.28504943847656,-19.800811767578125,30.078716278076172,-28.93833351135254,41.81296920776367,-19.408851623535156,19.855388641357422,10.85558795928955,25.021913528442383,0.36713334918022156,13.604954719543457,3.9054579734802246,-34.44487762451172,-43.883121490478516,-46.976417541503906,-30.740859985351562,44.13332748413086,5.222560405731201,61.615718841552734,-23.60322380065918,1.9164478778839111,-1.023193359375,-18.205305099487305,-37.917415618896484,-22.305309295654297,19.709924697875977,-21.678131103515625,16.49026870727539,-5.420642852783203,-40.1793327331543,26.869388580322266,20.44245147705078,-31.462556838989258,23.28728675842285,-1.6511907577514648,70.66082763671875,72.50000762939453,-21.300935745239258,65.90664672851562,-0.35174158215522766,-5.480699062347412,21.284217834472656,12.53872013092041,-1.2903192043304443,27.738800048828125,-29.026830673217773,-12.252821922302246,31.685373306274414,31.685409545898438,50.45322799682617,-33.22345733642578,13.50383472442627,-26.82010269165039,-17.090059280395508,-7.272371292114258,-17.306346893310547,-0.8264443874359131,-12.084770202636719,-17.209009170532227,-0.36749526858329773,-17.41318702697754,65.39971160888672,-34.387874603271484,60.300865173339844,-58.318641662597656,14.286558151245117,60.909019470214844,-53.28002166748047,-49.38998794555664,-12.39299201965332,-57.895870208740234,-20.61827278137207,36.59009552001953,-13.144664764404297,-54.93219757080078,-22.015432357788086,-43.704742431640625,-35.897499084472656,-43.35514831542969,62.304237365722656,-38.618858337402344,-12.914185523986816,17.131772994995117,-18.13681983947754,-48.08674621582031,63.234642028808594,-21.135717391967773,-51.497379302978516,-17.279809951782227,63.835670471191406,-24.4649715423584,34.929786682128906,-17.952838897705078,-18.00588035583496,37.74528884887695,58.29458999633789,-49.2111701965332,34.931915283203125,5.542020797729492,-7.7636003494262695,-20.962247848510742,-1.867089033126831,-0.30861303210258484,63.49806594848633,-13.474596977233887,-45.85391616821289,-20.02815055847168,-4.303030967712402,-20.907976150512695,44.018272399902344,-34.9676399230957,43.618019104003906,-48.30281066894531,37.46235656738281,61.00718307495117,46.46847152709961,-21.621767044067383,13.089519500732422,55.3812370300293,-15.28675651550293,72.98572540283203,-32.605377197265625,21.16425895690918,52.34956359863281,-0.07974095642566681,15.324877738952637,6.704774856567383,8.980745315551758,-4.344635009765625,-21.266828536987305,-12.142780303955078,-25.76473617553711,19.98419952392578,16.843156814575195,12.151453971862793,52.77141571044922,-21.153640747070312,58.89188003540039,64.90594482421875,64.90557098388672,12.237478256225586,-15.484766006469727,63.47428894042969,-33.111358642578125,7.378344535827637,20.219409942626953,20.93001937866211,-6.59859037399292,65.29178619384766,-7.253917217254639,-12.354822158813477,-24.21959686279297,-24.796968460083008,20.910188674926758,-33.487335205078125,5.996450901031494,-17.120590209960938,6.333157539367676,-48.97064971923828,-30.232091903686523,-16.480449676513672,-33.98080062866211,-41.366065979003906,-19.970083236694336,-50.60506820678711,-11.240772247314453,-32.10892868041992,25.0734806060791,-31.495445251464844,10.33247184753418,-31.85123062133789,-3.767930746078491,26.85093116760254,-43.97504425048828,39.301002502441406,1.7277418375015259,-25.146541595458984,70.05022430419922,-41.598384857177734,-31.249134063720703,57.53167724609375,21.153615951538086,56.20914077758789,59.35503005981445,-35.27859115600586,3.8857839107513428,0.9151890277862549,10.17339038848877,8.138692855834961,32.66291427612305,23.081274032592773,50.553157806396484,60.65370559692383,28.89775848388672,22.722475051879883,27.4928035736084,-9.970478057861328,-9.084837913513184,-49.47919464111328,-51.550472259521484,-2.639418840408325,-48.18996810913086,-3.5258336067199707,-6.5611114501953125,-7.26754903793335,2.7809600830078125,-21.988872528076172,5.02547550201416,-18.125261306762695,19.626462936401367,50.25233840942383,28.815582275390625,11.782821655273438,53.67955780029297,41.46925735473633,60.111541748046875,-16.76453399658203,23.80221939086914,54.06644058227539,60.79857635498047,58.79959487915039,2.823024272918701,9.771163940429688,59.89383316040039,34.6108512878418,51.54404830932617,-40.718685150146484,-5.51249361038208,-17.2791690826416,-36.84241485595703,-35.14030075073242,31.512754440307617,-28.598142623901367,7.614383697509766,10.659533500671387,-17.22749900817871,12.659483909606934,-59.5232048034668,4.74318265914917,-4.742807865142822,-3.9194207191467285,-14.822251319885254,-28.400487899780273,-37.34660339355469,6.633296966552734,-50.43860626220703,55.758033752441406,-13.643399238586426,13.113465309143066,-12.340994834899902,-57.81514358520508,-30.12742042541504,-48.03364944458008,5.337578296661377,14.537352561950684,-18.696212768554688,-5.21090841293335,15.423969268798828,-32.566139221191406,-5.211000442504883,-18.74434471130371,-13.829451560974121,-46.023895263671875,-29.190593719482422,-13.328346252441406,-31.171180725097656,19.938587188720703,-47.520668029785156,-7.597121715545654,3.9686965942382812,62.72675704956055,57.51353073120117,-2.207689046859741,-29.2178955078125,-55.896827697753906,-50.47315979003906,-48.21897888183594,15.937216758728027,-12.063560485839844,51.44632339477539,-21.196271896362305,3.905771017074585,-14.612275123596191,8.787575721740723,-4.478261947631836,-20.945079803466797,7.658909320831299,1.0583291053771973,18.45540428161621,16.084056854248047,5.001704216003418,-8.673995971679688,-6.209316253662109,20.227500915527344,23.448503494262695,26.41584014892578,12.546157836914062,36.73042297363281,30.468399047851562,1.8513836860656738,44.53533935546875,4.027438163757324,61.28092575073242,-18.89454460144043,30.973495483398438,-11.654239654541016,-23.17559242248535,14.16875171661377,63.40108108520508,-37.055782318115234,1.6524804830551147,47.342018127441406,-31.316225051879883,-15.369267463684082,46.28440856933594,42.80210494995117,-4.168026447296143,-37.477787017822266,20.50042724609375,-44.19453811645508,61.684261322021484,1.7884622812271118,-14.286404609680176,61.10610580444336,1.0444755554199219,20.011972427368164,20.08240509033203,-42.09379959106445,-5.354195594787598,27.804025650024414,-8.527886390686035,-7.274185657501221,-62.16709518432617,-29.29372215270996,0.12268759310245514,-2.6884467601776123,-44.69105911254883,-22.215364456176758,59.372833251953125,62.9366569519043,-44.971885681152344,-39.308311462402344,50.616371154785156,-22.370161056518555,-49.227317810058594,-17.095521926879883,-44.782005310058594,-43.174232482910156,-54.11152648925781,-14.427831649780273,21.77124786376953,62.88956832885742,-8.821203231811523,17.321643829345703,-19.075031280517578,-48.96158218383789,-7.948446273803711,-26.369613647460938,-5.868185997009277,63.514583587646484,-5.201021194458008,-5.149965286254883,57.44790267944336,-41.49712371826172,-9.969877243041992,-41.908138275146484,-41.48078155517578,-28.056598663330078,-3.1113836765289307,-1.3331762552261353,-9.009306907653809,46.02197265625,72.19193267822266,16.759138107299805,13.405444145202637,39.98162841796875,49.36366271972656,29.615880966186523,63.7139778137207,1.1863254308700562,-25.320844650268555,72.1919937133789,-51.584877014160156,-22.796049118041992,61.41664505004883,-37.61931610107422,19.40764045715332,67.33222961425781,-33.273033142089844,-30.175159454345703,-12.529888153076172,-26.13164520263672,-23.390933990478516,64.03521728515625,-3.4143168926239014,8.505358695983887,-13.603653907775879,52.193458557128906,63.1777458190918,-20.525487899780273,-56.53339385986328,-20.69524383544922,-16.18463897705078,-31.449316024780273,-44.808807373046875,-38.550865173339844,-20.854381561279297,-20.444198608398438,-15.267806053161621,-34.62129211425781,-26.08355712890625,3.929051160812378,-38.027767181396484,-36.960411071777344,14.232261657714844,-7.933027744293213,-0.16835232079029083,68.30409240722656,-31.869726181030273,-26.622241973876953,14.417799949645996,-16.341012954711914,5.239216327667236,-40.3302116394043,-42.01327896118164,23.36841583251953,3.7590785026550293,7.347277641296387,23.918344497680664,31.444101333618164,4.153928756713867,2.404444694519043,-20.473966598510742,23.454275131225586,18.107845306396484,-1.2193659543991089,-26.227710723876953,8.177169799804688,-21.352941513061523,15.063048362731934,3.5116591453552246,12.267267227172852,14.956526756286621,-49.144187927246094,2.5466463565826416,-12.572287559509277,-26.82123374938965,55.09377670288086,-12.65261173248291,20.433225631713867,61.8665771484375,8.909388542175293,13.339734077453613,-16.229433059692383,5.1568827629089355,52.24311828613281,31.03104019165039,15.663066864013672,14.013959884643555,51.12831497192383,33.43050765991211,44.27033233642578,74.85089111328125,22.675506591796875,0.1453118622303009,2.06095552444458,-9.798436164855957,22.04950714111328,2.5016281604766846,25.951631546020508,-2.144568920135498,-26.38973045349121,-50.02823257446289,-3.7519161701202393,11.95799446105957,14.39448356628418,13.116186141967773,30.91522979736328,8.788668632507324,1.419128179550171,-0.2917548418045044,-31.01665496826172,-23.139568328857422,21.583688735961914,-14.463889122009277,64.57511901855469,65.46532440185547,1.91628897190094,3.31581974029541,2.0453364849090576,4.575715065002441,0.4753062129020691,-54.93122863769531,-39.37553024291992,8.627758979797363,6.9332275390625,24.1878719329834,20.367834091186523,-20.826953887939453,-52.84201431274414,-19.4064998626709,-23.175556182861328,-33.53102111816406,-29.814931869506836,-32.5221061706543,-42.81399154663086,-5.580959796905518,23.321395874023438,-19.710460662841797,7.346719264984131,-15.700583457946777,-47.57169723510742,-58.306312561035156,-48.32099914550781,-42.83155822753906,-14.500694274902344,-48.40900421142578,-45.41945266723633,-44.12224578857422,-2.351963758468628,51.52321243286133,-0.384976327419281,-18.187461853027344,-48.0479850769043,-34.7138671875,-10.560564994812012,12.211884498596191,-8.164311408996582,24.23686981201172,56.69984817504883,-15.549234390258789,-7.890571594238281,-19.394927978515625,-27.197160720825195,-54.544979095458984,-45.26683807373047,-46.46570587158203,-46.20224380493164,-44.30768966674805,-41.09998321533203,-10.813223838806152,57.26921081542969,-37.0349006652832,-49.82384490966797,-1.7649263143539429,10.09196949005127,-39.04104232788086,20.5772647857666,-24.55790901184082,-26.00290870666504,57.42753982543945,-30.370718002319336,-53.87482452392578,58.51288604736328,2.486616373062134,60.2699089050293,-23.681957244873047,67.33847045898438,-2.7215442657470703,65.9471664428711,-37.381500244140625,-42.65800476074219,-31.154823303222656,-18.982572555541992,-11.11928939819336,-4.886229991912842,1.1014174222946167,-25.34211540222168,-20.44435691833496,-6.530764102935791,65.69671630859375,0.9302783012390137,-20.58619499206543,-25.066965103149414,-42.888153076171875,53.43983840942383,-47.02052307128906,-23.457176208496094,-30.794801712036133,-32.234798431396484,-34.97834777832031,-44.98966598510742,21.747638702392578,41.1491813659668,27.804025650024414,-52.382545471191406,-9.772791862487793,1.5750073194503784,-24.28057098388672,-55.07261276245117,-29.782615661621094,-2.341984510421753,-0.03542095795273781,54.08373260498047,13.348403930664062,16.093687057495117,61.625423431396484,-12.92651653289795,61.98522186279297,29.11857032775879,33.709232330322266,15.788891792297363,-15.59304428100586,61.533912658691406,62.24905776977539,65.17349243164062,-16.593923568725586,-16.594024658203125,12.297232627868652,26.931224822998047,67.77865600585938,-13.836958885192871,-8.869688987731934,61.6529541015625,19.330251693725586,7.167463779449463,42.20877456665039,-58.785667419433594,17.914854049682617,64.76289367675781,-46.873207092285156,-2.378161907196045,9.346471786499023,-33.61408233642578,-40.712303161621094,-52.84178161621094,-58.14424133300781,-58.83502197265625,-40.7118034362793,-40.79740905761719,-40.68278884887695,-38.54033660888672,-27.244178771972656,-5.587578773498535,-45.36787414550781,21.371721267700195,-21.72970199584961,66.39627838134766,-42.79961395263672,9.421177864074707,-42.82658386230469,-23.284029006958008,-11.047558784484863,23.138221740722656,-17.875097274780273,-17.083995819091797,61.23085403442383,-28.965892791748047,-15.628901481628418,18.34561538696289,-17.996660232543945,16.788114547729492,1.9790199995040894,-39.37538146972656,0.6871236562728882,-5.253921985626221,-1.7199593782424927,-31.424610137939453,-3.5962886810302734,-29.186338424682617,-53.51801300048828,-47.92931365966797,5.484735488891602,-48.38239669799805,-15.07211971282959,-39.6418571472168,67.52159118652344,39.954593658447266,18.601938247680664,-32.72373962402344,13.052964210510254,-22.852323532104492,-35.32991409301758,62.617393493652344,61.788368225097656,-38.367794036865234,-5.52912712097168,24.532333374023438,14.674686431884766,-27.84422492980957,-1.7276861667633057,16.220794677734375,-21.958131790161133,59.618919372558594,58.918861389160156,4.392782211303711,-7.990462779998779,8.961612701416016,30.629777908325195,-50.80410385131836,-14.027234077453613,-4.243858814239502,-6.234668254852295,-4.516327857971191,33.48336410522461,22.430665969848633,-44.49956130981445,-38.04401397705078,-16.20123863220215,73.89900970458984,67.61003112792969,-0.5443046689033508,-45.6429328918457,-0.006422305479645729,-12.62928581237793,8.285964012145996,33.54300308227539,-2.506274938583374,-24.786209106445312,-13.787951469421387,1.867351770401001,3.8226919174194336,4.908790111541748,0.6762906908988953,30.408777236938477,40.48139953613281,-47.33549499511719,55.092384338378906,-32.2391471862793,3.0026395320892334,15.829682350158691,-0.7560755610466003,17.339651107788086,59.656925201416016,-31.298362731933594,-52.91795349121094,-20.150970458984375,-30.93794822692871,-34.28950500488281,-30.1486873626709,-14.832858085632324,-34.73824691772461,-25.985939025878906,-43.006553649902344,-33.12039566040039,71.59745788574219,14.753307342529297,-16.96643829345703,-23.190765380859375,54.0385627746582,5.1753435134887695,-29.104963302612305,30.09441375732422,30.44639778137207,30.252487182617188,-21.58621597290039,18.527559280395508,-34.87953567504883,-5.129292964935303,-57.00743103027344,-43.95835876464844,-59.6143913269043,-24.93901252746582,-36.644046783447266,69.60458374023438,-20.236526489257812,58.116966247558594,-0.917457640171051,51.911834716796875,-24.41630744934082,-6.107428550720215,-48.89303207397461,-5.629607200622559,-47.670143127441406,9.351861953735352,-2.4838716983795166,-30.31642723083496,-38.366031646728516,66.29530334472656,-14.351591110229492,30.936582565307617,-1.359424114227295,27.675365447998047,5.4274420738220215,55.03535461425781,4.08789587020874,30.816373825073242,60.8453254699707,-44.942657470703125,-7.733635902404785,-18.982261657714844,55.47169876098633,51.04025650024414,-10.998940467834473,51.040184020996094,-33.55846405029297,-28.21793556213379,11.302124977111816,-24.49100112915039,-20.1114559173584,30.680110931396484,21.00030517578125,15.20817756652832,44.28834915161133,75.22069549560547,6.23759651184082,-3.1785051822662354,56.879722595214844,2.250547409057617,-36.84619903564453,-6.142014980316162,0.6071296334266663,64.19092559814453,-22.70302391052246,-13.230290412902832,-6.713968753814697,71.91740417480469,-26.23386001586914,21.625667572021484,21.604263305664062,3.2937228679656982,14.801596641540527,-39.183937072753906,4.240516185760498,25.732418060302734,4.331594467163086,-20.675674438476562,15.502524375915527,27.681886672973633,22.814218521118164,-42.41829299926758,51.135013580322266,50.438438415527344,-16.398664474487305,61.792388916015625,-31.798694610595703,-0.7754985690116882,5.520557403564453,-13.162343978881836,-10.247247695922852,-40.89351272583008,-17.83448028564453,-31.12676429748535,-2.1563804149627686,-21.36854362487793,-13.371212005615234,19.88137435913086,43.272857666015625,-24.379730224609375,-49.17436599731445,9.9591646194458,18.2974796295166,58.44804000854492,-22.66533088684082,58.09390640258789,-0.5010765194892883,2.362943649291992,-13.945241928100586,1.4174375534057617,58.448158264160156,-25.3216495513916,-15.323196411132812,-15.072068214416504,-20.040401458740234,15.249807357788086,54.9273567199707,12.265081405639648,15.007575988769531,54.6341438293457,-33.675289154052734,-13.945256233215332,57.30508804321289,-10.246756553649902,19.57171058654785,-19.9285831451416,-9.849303245544434,-7.02068567276001,17.512969970703125,22.7279052734375,-18.357563018798828,-9.721131324768066,61.76406478881836,-11.791228294372559,-18.547523498535156,62.4736213684082,54.822471618652344,17.75023078918457,19.251449584960938,54.17072677612305,-26.05577278137207,2.4241268634796143,16.86133575439453,0.10306109488010406,52.719852447509766,58.66456604003906,15.605232238769531,-35.7473258972168,-32.314247131347656,8.546687126159668,-7.073605537414551,-18.045207977294922,-41.49726486206055,17.163959503173828,-3.7130227088928223,26.353979110717773,0.05308049917221069,-5.783855438232422,-7.707779407501221,-13.381807327270508,-24.980453491210938,-25.6584415435791,-32.050899505615234,-45.567832946777344,-57.25120544433594,-18.404775619506836,-23.028884887695312,-22.462642669677734,-10.36116886138916,-15.575782775878906,-16.49871826171875,4.524637699127197,24.536033630371094,23.52984619140625,-5.0801682472229,55.4305534362793,20.99095344543457,18.614049911499023,23.690656661987305,10.268241882324219,-50.73274612426758,-34.37805938720703,-46.688167572021484,-21.65444564819336,-43.90568923950195,12.787590980529785,-47.38576889038086,-17.083194732666016,-19.53761863708496,-49.688385009765625,-2.6187829971313477,-5.982333183288574,-28.66396713256836,-27.81215476989746,-9.206278800964355,-30.912574768066406,-28.08586883544922,-17.049123764038086,1.8605836629867554,11.868106842041016,7.245893478393555,21.77045249938965,-58.09709167480469,-8.894968032836914,69.20062255859375,23.89458656311035,-11.753216743469238,32.19939041137695,-6.49207067489624,-10.163365364074707,57.05833435058594,-23.726696014404297,-22.17629623413086,-16.02820587158203,6.464232921600342,-20.928619384765625,-18.690326690673828,7.7408599853515625,-29.304580688476562,-58.12760543823242,-34.15583801269531,45.77732467651367,36.997230529785156,-0.8206329941749573,-43.302513122558594,-46.07790756225586,-41.518375396728516,-31.507244110107422,-1.988800287246704,-43.805301666259766,-53.58211135864258,-45.55966567993164,-40.9009895324707,-40.04938507080078,-43.68391418457031,59.5817756652832,6.001781463623047,2.6464121341705322,-43.85614776611328,-42.80895233154297,65.04891204833984,19.243785858154297,-51.5464973449707,-47.69065856933594,-14.155889511108398,-16.709150314331055,-2.35644793510437,4.5956926345825195,-26.83753776550293,5.542239665985107,-43.33995819091797,38.0288200378418,-45.91862869262695,-58.67085647583008,63.575836181640625,59.3333854675293,28.11024284362793,54.58381652832031,37.745296478271484,-6.221912384033203,-1.798730731010437,52.18904113769531,61.40644836425781,-9.553376197814941,20.87380027770996,47.03554916381836,-52.29781723022461,4.188582420349121,69.38038635253906,41.68228530883789,26.592838287353516,1.10189688205719,-42.20964050292969,-30.950496673583984,-13.318534851074219,2.1489667892456055,-30.87255096435547,-28.238422393798828,66.03443145751953,43.9882926940918,4.536426544189453,18.282474517822266,71.91834259033203,22.913375854492188,-29.105552673339844,56.99901580810547,-38.77103805541992,-18.16484832763672,54.79027557373047,71.4987564086914,-28.91356086730957,-6.394690036773682,-16.368173599243164,2.5101797580718994,-53.647491455078125,5.4442877769470215,26.431428909301758,-12.85700511932373,4.346079349517822,32.18146514892578,19.847408294677734,29.104328155517578,31.792551040649414,-55.8416633605957,2.305006980895996,-43.77855682373047,-44.582427978515625,-21.275793075561523,-46.73807907104492,42.80146789550781,51.07299041748047,46.89191818237305,-32.41169357299805,-42.6307487487793,-12.072667121887207,-10.335184097290039,-24.980680465698242,-6.11933708190918,72.95989227294922,-48.763187408447266,-58.67284393310547,-9.199234962463379,13.120341300964355,-0.4790807366371155,-16.350126266479492,-28.905210494995117,-44.61568069458008,-31.827136993408203,62.099510192871094,-6.435780048370361,-20.49149513244629,8.830856323242188,-14.015180587768555,-2.937898874282837,-1.0910133123397827,-23.432437896728516,-41.19560241699219,-47.772830963134766,-47.42607879638672,-33.90169143676758,-33.34186553955078,42.85069274902344,16.316808700561523,-22.93120574951172,19.780628204345703,20.709613800048828,52.77312088012695,72.95986938476562,72.9607162475586,19.88137435913086,50.5531120300293,9.495162963867188,-46.648948669433594,-10.237597465515137,-6.22039794921875,6.659050464630127,-15.659381866455078,-8.871732711791992,3.704921245574951,-5.194141864776611,-7.1888532638549805,-13.66070556640625,12.480523109436035,-19.040714263916016,-8.846687316894531,68.43317413330078,-7.822148323059082,-23.443470001220703,-6.418782711029053,-18.96674156188965,-15.218706130981445,21.76695442199707,61.124202728271484,-3.5046496391296387,23.198089599609375,-16.37557029724121,-44.911224365234375,-41.199947357177734,-39.60319519042969,-43.90886688232422,-14.333366394042969,0.6756703853607178,6.285745143890381,0.41611674427986145,17.709062576293945,-20.104894638061523,-43.35337829589844,-3.3782296180725098,51.18055725097656,63.89472961425781,-56.12192916870117,-15.41665267944336,40.23876190185547,-22.06428337097168,-19.48703956604004,-40.04755401611328,29.55928611755371,73.21590423583984,46.00349426269531,-18.443666458129883,-18.282245635986328,-17.632850646972656,58.344669342041016,23.996498107910156,-51.398719787597656,69.05577850341797,-51.619319915771484,-7.005252838134766,57.569278717041016,-2.077254295349121,-44.37607192993164,5.54230260848999,-26.071853637695312,37.40700912475586,20.419469833374023,45.433265686035156,14.731420516967773,-30.50189781188965,3.374093532562256,-2.8508212566375732,-28.395536422729492,-7.890789031982422,3.366209030151367,13.163650512695312,30.359893798828125,-4.516060829162598,-4.504178047180176,-2.736797332763672,-50.065181732177734,-0.2961054742336273,-20.66354751586914,-34.487701416015625,13.863822937011719,-34.811317443847656,-6.462271213531494,49.18545913696289,-20.776824951171875,37.19695281982422,50.2510986328125,-18.11500358581543,2.27677845954895,-43.79865646362305,-22.770780563354492,71.84915161132812,4.207071304321289,-7.752045631408691,65.61670684814453,-0.5205385684967041,68.209716796875,-53.58000564575195,-16.4688663482666,-32.485172271728516],\"yaxis\":\"y\",\"type\":\"scattergl\"}],                        {\"template\":{\"data\":{\"bar\":[{\"error_x\":{\"color\":\"#2a3f5f\"},\"error_y\":{\"color\":\"#2a3f5f\"},\"marker\":{\"line\":{\"color\":\"#E5ECF6\",\"width\":0.5},\"pattern\":{\"fillmode\":\"overlay\",\"size\":10,\"solidity\":0.2}},\"type\":\"bar\"}],\"barpolar\":[{\"marker\":{\"line\":{\"color\":\"#E5ECF6\",\"width\":0.5},\"pattern\":{\"fillmode\":\"overlay\",\"size\":10,\"solidity\":0.2}},\"type\":\"barpolar\"}],\"carpet\":[{\"aaxis\":{\"endlinecolor\":\"#2a3f5f\",\"gridcolor\":\"white\",\"linecolor\":\"white\",\"minorgridcolor\":\"white\",\"startlinecolor\":\"#2a3f5f\"},\"baxis\":{\"endlinecolor\":\"#2a3f5f\",\"gridcolor\":\"white\",\"linecolor\":\"white\",\"minorgridcolor\":\"white\",\"startlinecolor\":\"#2a3f5f\"},\"type\":\"carpet\"}],\"choropleth\":[{\"colorbar\":{\"outlinewidth\":0,\"ticks\":\"\"},\"type\":\"choropleth\"}],\"contour\":[{\"colorbar\":{\"outlinewidth\":0,\"ticks\":\"\"},\"colorscale\":[[0.0,\"#0d0887\"],[0.1111111111111111,\"#46039f\"],[0.2222222222222222,\"#7201a8\"],[0.3333333333333333,\"#9c179e\"],[0.4444444444444444,\"#bd3786\"],[0.5555555555555556,\"#d8576b\"],[0.6666666666666666,\"#ed7953\"],[0.7777777777777778,\"#fb9f3a\"],[0.8888888888888888,\"#fdca26\"],[1.0,\"#f0f921\"]],\"type\":\"contour\"}],\"contourcarpet\":[{\"colorbar\":{\"outlinewidth\":0,\"ticks\":\"\"},\"type\":\"contourcarpet\"}],\"heatmap\":[{\"colorbar\":{\"outlinewidth\":0,\"ticks\":\"\"},\"colorscale\":[[0.0,\"#0d0887\"],[0.1111111111111111,\"#46039f\"],[0.2222222222222222,\"#7201a8\"],[0.3333333333333333,\"#9c179e\"],[0.4444444444444444,\"#bd3786\"],[0.5555555555555556,\"#d8576b\"],[0.6666666666666666,\"#ed7953\"],[0.7777777777777778,\"#fb9f3a\"],[0.8888888888888888,\"#fdca26\"],[1.0,\"#f0f921\"]],\"type\":\"heatmap\"}],\"heatmapgl\":[{\"colorbar\":{\"outlinewidth\":0,\"ticks\":\"\"},\"colorscale\":[[0.0,\"#0d0887\"],[0.1111111111111111,\"#46039f\"],[0.2222222222222222,\"#7201a8\"],[0.3333333333333333,\"#9c179e\"],[0.4444444444444444,\"#bd3786\"],[0.5555555555555556,\"#d8576b\"],[0.6666666666666666,\"#ed7953\"],[0.7777777777777778,\"#fb9f3a\"],[0.8888888888888888,\"#fdca26\"],[1.0,\"#f0f921\"]],\"type\":\"heatmapgl\"}],\"histogram\":[{\"marker\":{\"pattern\":{\"fillmode\":\"overlay\",\"size\":10,\"solidity\":0.2}},\"type\":\"histogram\"}],\"histogram2d\":[{\"colorbar\":{\"outlinewidth\":0,\"ticks\":\"\"},\"colorscale\":[[0.0,\"#0d0887\"],[0.1111111111111111,\"#46039f\"],[0.2222222222222222,\"#7201a8\"],[0.3333333333333333,\"#9c179e\"],[0.4444444444444444,\"#bd3786\"],[0.5555555555555556,\"#d8576b\"],[0.6666666666666666,\"#ed7953\"],[0.7777777777777778,\"#fb9f3a\"],[0.8888888888888888,\"#fdca26\"],[1.0,\"#f0f921\"]],\"type\":\"histogram2d\"}],\"histogram2dcontour\":[{\"colorbar\":{\"outlinewidth\":0,\"ticks\":\"\"},\"colorscale\":[[0.0,\"#0d0887\"],[0.1111111111111111,\"#46039f\"],[0.2222222222222222,\"#7201a8\"],[0.3333333333333333,\"#9c179e\"],[0.4444444444444444,\"#bd3786\"],[0.5555555555555556,\"#d8576b\"],[0.6666666666666666,\"#ed7953\"],[0.7777777777777778,\"#fb9f3a\"],[0.8888888888888888,\"#fdca26\"],[1.0,\"#f0f921\"]],\"type\":\"histogram2dcontour\"}],\"mesh3d\":[{\"colorbar\":{\"outlinewidth\":0,\"ticks\":\"\"},\"type\":\"mesh3d\"}],\"parcoords\":[{\"line\":{\"colorbar\":{\"outlinewidth\":0,\"ticks\":\"\"}},\"type\":\"parcoords\"}],\"pie\":[{\"automargin\":true,\"type\":\"pie\"}],\"scatter\":[{\"marker\":{\"colorbar\":{\"outlinewidth\":0,\"ticks\":\"\"}},\"type\":\"scatter\"}],\"scatter3d\":[{\"line\":{\"colorbar\":{\"outlinewidth\":0,\"ticks\":\"\"}},\"marker\":{\"colorbar\":{\"outlinewidth\":0,\"ticks\":\"\"}},\"type\":\"scatter3d\"}],\"scattercarpet\":[{\"marker\":{\"colorbar\":{\"outlinewidth\":0,\"ticks\":\"\"}},\"type\":\"scattercarpet\"}],\"scattergeo\":[{\"marker\":{\"colorbar\":{\"outlinewidth\":0,\"ticks\":\"\"}},\"type\":\"scattergeo\"}],\"scattergl\":[{\"marker\":{\"colorbar\":{\"outlinewidth\":0,\"ticks\":\"\"}},\"type\":\"scattergl\"}],\"scattermapbox\":[{\"marker\":{\"colorbar\":{\"outlinewidth\":0,\"ticks\":\"\"}},\"type\":\"scattermapbox\"}],\"scatterpolar\":[{\"marker\":{\"colorbar\":{\"outlinewidth\":0,\"ticks\":\"\"}},\"type\":\"scatterpolar\"}],\"scatterpolargl\":[{\"marker\":{\"colorbar\":{\"outlinewidth\":0,\"ticks\":\"\"}},\"type\":\"scatterpolargl\"}],\"scatterternary\":[{\"marker\":{\"colorbar\":{\"outlinewidth\":0,\"ticks\":\"\"}},\"type\":\"scatterternary\"}],\"surface\":[{\"colorbar\":{\"outlinewidth\":0,\"ticks\":\"\"},\"colorscale\":[[0.0,\"#0d0887\"],[0.1111111111111111,\"#46039f\"],[0.2222222222222222,\"#7201a8\"],[0.3333333333333333,\"#9c179e\"],[0.4444444444444444,\"#bd3786\"],[0.5555555555555556,\"#d8576b\"],[0.6666666666666666,\"#ed7953\"],[0.7777777777777778,\"#fb9f3a\"],[0.8888888888888888,\"#fdca26\"],[1.0,\"#f0f921\"]],\"type\":\"surface\"}],\"table\":[{\"cells\":{\"fill\":{\"color\":\"#EBF0F8\"},\"line\":{\"color\":\"white\"}},\"header\":{\"fill\":{\"color\":\"#C8D4E3\"},\"line\":{\"color\":\"white\"}},\"type\":\"table\"}]},\"layout\":{\"annotationdefaults\":{\"arrowcolor\":\"#2a3f5f\",\"arrowhead\":0,\"arrowwidth\":1},\"autotypenumbers\":\"strict\",\"coloraxis\":{\"colorbar\":{\"outlinewidth\":0,\"ticks\":\"\"}},\"colorscale\":{\"diverging\":[[0,\"#8e0152\"],[0.1,\"#c51b7d\"],[0.2,\"#de77ae\"],[0.3,\"#f1b6da\"],[0.4,\"#fde0ef\"],[0.5,\"#f7f7f7\"],[0.6,\"#e6f5d0\"],[0.7,\"#b8e186\"],[0.8,\"#7fbc41\"],[0.9,\"#4d9221\"],[1,\"#276419\"]],\"sequential\":[[0.0,\"#0d0887\"],[0.1111111111111111,\"#46039f\"],[0.2222222222222222,\"#7201a8\"],[0.3333333333333333,\"#9c179e\"],[0.4444444444444444,\"#bd3786\"],[0.5555555555555556,\"#d8576b\"],[0.6666666666666666,\"#ed7953\"],[0.7777777777777778,\"#fb9f3a\"],[0.8888888888888888,\"#fdca26\"],[1.0,\"#f0f921\"]],\"sequentialminus\":[[0.0,\"#0d0887\"],[0.1111111111111111,\"#46039f\"],[0.2222222222222222,\"#7201a8\"],[0.3333333333333333,\"#9c179e\"],[0.4444444444444444,\"#bd3786\"],[0.5555555555555556,\"#d8576b\"],[0.6666666666666666,\"#ed7953\"],[0.7777777777777778,\"#fb9f3a\"],[0.8888888888888888,\"#fdca26\"],[1.0,\"#f0f921\"]]},\"colorway\":[\"#636efa\",\"#EF553B\",\"#00cc96\",\"#ab63fa\",\"#FFA15A\",\"#19d3f3\",\"#FF6692\",\"#B6E880\",\"#FF97FF\",\"#FECB52\"],\"font\":{\"color\":\"#2a3f5f\"},\"geo\":{\"bgcolor\":\"white\",\"lakecolor\":\"white\",\"landcolor\":\"#E5ECF6\",\"showlakes\":true,\"showland\":true,\"subunitcolor\":\"white\"},\"hoverlabel\":{\"align\":\"left\"},\"hovermode\":\"closest\",\"mapbox\":{\"style\":\"light\"},\"paper_bgcolor\":\"white\",\"plot_bgcolor\":\"#E5ECF6\",\"polar\":{\"angularaxis\":{\"gridcolor\":\"white\",\"linecolor\":\"white\",\"ticks\":\"\"},\"bgcolor\":\"#E5ECF6\",\"radialaxis\":{\"gridcolor\":\"white\",\"linecolor\":\"white\",\"ticks\":\"\"}},\"scene\":{\"xaxis\":{\"backgroundcolor\":\"#E5ECF6\",\"gridcolor\":\"white\",\"gridwidth\":2,\"linecolor\":\"white\",\"showbackground\":true,\"ticks\":\"\",\"zerolinecolor\":\"white\"},\"yaxis\":{\"backgroundcolor\":\"#E5ECF6\",\"gridcolor\":\"white\",\"gridwidth\":2,\"linecolor\":\"white\",\"showbackground\":true,\"ticks\":\"\",\"zerolinecolor\":\"white\"},\"zaxis\":{\"backgroundcolor\":\"#E5ECF6\",\"gridcolor\":\"white\",\"gridwidth\":2,\"linecolor\":\"white\",\"showbackground\":true,\"ticks\":\"\",\"zerolinecolor\":\"white\"}},\"shapedefaults\":{\"line\":{\"color\":\"#2a3f5f\"}},\"ternary\":{\"aaxis\":{\"gridcolor\":\"white\",\"linecolor\":\"white\",\"ticks\":\"\"},\"baxis\":{\"gridcolor\":\"white\",\"linecolor\":\"white\",\"ticks\":\"\"},\"bgcolor\":\"#E5ECF6\",\"caxis\":{\"gridcolor\":\"white\",\"linecolor\":\"white\",\"ticks\":\"\"}},\"title\":{\"x\":0.05},\"xaxis\":{\"automargin\":true,\"gridcolor\":\"white\",\"linecolor\":\"white\",\"ticks\":\"\",\"title\":{\"standoff\":15},\"zerolinecolor\":\"white\",\"zerolinewidth\":2},\"yaxis\":{\"automargin\":true,\"gridcolor\":\"white\",\"linecolor\":\"white\",\"ticks\":\"\",\"title\":{\"standoff\":15},\"zerolinecolor\":\"white\",\"zerolinewidth\":2}}},\"xaxis\":{\"anchor\":\"y\",\"domain\":[0.0,1.0],\"title\":{\"text\":\"x\"}},\"yaxis\":{\"anchor\":\"x\",\"domain\":[0.0,1.0],\"title\":{\"text\":\"y\"}},\"coloraxis\":{\"colorbar\":{\"title\":{\"text\":\"cluster\"}},\"colorscale\":[[0.0,\"#0d0887\"],[0.1111111111111111,\"#46039f\"],[0.2222222222222222,\"#7201a8\"],[0.3333333333333333,\"#9c179e\"],[0.4444444444444444,\"#bd3786\"],[0.5555555555555556,\"#d8576b\"],[0.6666666666666666,\"#ed7953\"],[0.7777777777777778,\"#fb9f3a\"],[0.8888888888888888,\"#fdca26\"],[1.0,\"#f0f921\"]]},\"legend\":{\"tracegroupgap\":0},\"margin\":{\"t\":60}},                        {\"responsive\": true}                    ).then(function(){\n",
              "                            \n",
              "var gd = document.getElementById('9207e998-f4d6-4a6b-b8db-cdeb0c8e00d2');\n",
              "var x = new MutationObserver(function (mutations, observer) {{\n",
              "        var display = window.getComputedStyle(gd).display;\n",
              "        if (!display || display === 'none') {{\n",
              "            console.log([gd, 'removed!']);\n",
              "            Plotly.purge(gd);\n",
              "            observer.disconnect();\n",
              "        }}\n",
              "}});\n",
              "\n",
              "// Listen for the removal of the full notebook cells\n",
              "var notebookContainer = gd.closest('#notebook-container');\n",
              "if (notebookContainer) {{\n",
              "    x.observe(notebookContainer, {childList: true});\n",
              "}}\n",
              "\n",
              "// Listen for the clearing of the current output cell\n",
              "var outputEl = gd.closest('.output');\n",
              "if (outputEl) {{\n",
              "    x.observe(outputEl, {childList: true});\n",
              "}}\n",
              "\n",
              "                        })                };                            </script>        </div>\n",
              "</body>\n",
              "</html>"
            ]
          },
          "metadata": {}
        }
      ],
      "source": [
        "from sklearn.manifold import TSNE\n",
        "\n",
        "tsne_pipeline = Pipeline([('scaler', StandardScaler()), ('tsne', TSNE(n_components=2, verbose=1))])\n",
        "genre_embedding = tsne_pipeline.fit_transform(X)\n",
        "projection = pd.DataFrame(columns=['x', 'y'], data=genre_embedding)\n",
        "projection['genres'] = genre_data['genres']\n",
        "projection['cluster'] = genre_data['cluster']\n",
        "\n",
        "fig = px.scatter(\n",
        "    projection, x='x', y='y', color='cluster', hover_data=['x', 'y', 'genres'])\n",
        "fig.show()"
      ]
    },
    {
      "cell_type": "code",
      "execution_count": null,
      "metadata": {
        "colab": {
          "base_uri": "https://localhost:8080/"
        },
        "id": "JHSC-veKi3wl",
        "outputId": "c2a55dae-9923-4415-ae2f-a18d14cf8667"
      },
      "outputs": [
        {
          "output_type": "stream",
          "name": "stdout",
          "text": [
            "Requirement already satisfied: spotipy in /usr/local/lib/python3.7/dist-packages (2.19.0)\n",
            "Requirement already satisfied: requests>=2.25.0 in /usr/local/lib/python3.7/dist-packages (from spotipy) (2.27.1)\n",
            "Requirement already satisfied: urllib3>=1.26.0 in /usr/local/lib/python3.7/dist-packages (from spotipy) (1.26.9)\n",
            "Requirement already satisfied: six>=1.15.0 in /usr/local/lib/python3.7/dist-packages (from spotipy) (1.15.0)\n",
            "Requirement already satisfied: idna<4,>=2.5 in /usr/local/lib/python3.7/dist-packages (from requests>=2.25.0->spotipy) (2.10)\n",
            "Requirement already satisfied: certifi>=2017.4.17 in /usr/local/lib/python3.7/dist-packages (from requests>=2.25.0->spotipy) (2021.10.8)\n",
            "Requirement already satisfied: charset-normalizer~=2.0.0 in /usr/local/lib/python3.7/dist-packages (from requests>=2.25.0->spotipy) (2.0.12)\n"
          ]
        }
      ],
      "source": [
        "!pip install spotipy"
      ]
    },
    {
      "cell_type": "code",
      "execution_count": null,
      "metadata": {
        "id": "b6365qq-i9_K"
      },
      "outputs": [],
      "source": [
        "import spotipy\n",
        "from spotipy.oauth2 import SpotifyClientCredentials\n",
        "from collections import defaultdict"
      ]
    },
    {
      "cell_type": "code",
      "execution_count": null,
      "metadata": {
        "colab": {
          "base_uri": "https://localhost:8080/",
          "height": 547
        },
        "id": "ZGHOHAUY0zQH",
        "outputId": "33a41336-4ec8-4bfd-8f11-e8659d3cbd95"
      },
      "outputs": [
        {
          "output_type": "execute_result",
          "data": {
            "text/plain": [
              "   valence  year  acousticness  \\\n",
              "0   0.0594  1921         0.982   \n",
              "1   0.9630  1921         0.732   \n",
              "2   0.0394  1921         0.961   \n",
              "3   0.1650  1921         0.967   \n",
              "4   0.2530  1921         0.957   \n",
              "\n",
              "                                             artists  danceability  \\\n",
              "0  ['Sergei Rachmaninoff', 'James Levine', 'Berli...         0.279   \n",
              "1                                     ['Dennis Day']         0.819   \n",
              "2  ['KHP Kridhamardawa Karaton Ngayogyakarta Hadi...         0.328   \n",
              "3                                   ['Frank Parker']         0.275   \n",
              "4                                     ['Phil Regan']         0.418   \n",
              "\n",
              "   duration_ms  energy  explicit                      id  instrumentalness  \\\n",
              "0       831667   0.211         0  4BJqT0PrAfrxzMOxytFOIz          0.878000   \n",
              "1       180533   0.341         0  7xPhfUan2yNtyFG0cUWkt8          0.000000   \n",
              "2       500062   0.166         0  1o6I8BglA6ylDMrIELygv1          0.913000   \n",
              "3       210000   0.309         0  3ftBPsC5vPBKxYSee08FDH          0.000028   \n",
              "4       166693   0.193         0  4d6HGyGT8e121BsdKmw9v6          0.000002   \n",
              "\n",
              "   key  liveness  loudness  mode  \\\n",
              "0   10     0.665   -20.096   1.0   \n",
              "1    7     0.160   -12.441   1.0   \n",
              "2    3     0.101   -14.850   1.0   \n",
              "3    5     0.381    -9.316   1.0   \n",
              "4    3     0.229   -10.096   1.0   \n",
              "\n",
              "                                                name  popularity release_date  \\\n",
              "0  Piano Concerto No. 3 in D Minor, Op. 30: III. ...         4.0         1921   \n",
              "1                            Clancy Lowered the Boom         5.0         1921   \n",
              "2                                          Gati Bali         5.0         1921   \n",
              "3                                          Danny Boy         3.0         1921   \n",
              "4                        When Irish Eyes Are Smiling         2.0         1921   \n",
              "\n",
              "   speechiness    tempo  \n",
              "0       0.0366   80.954  \n",
              "1       0.4150   60.936  \n",
              "2       0.0339  110.339  \n",
              "3       0.0354  100.109  \n",
              "4       0.0380  101.665  "
            ],
            "text/html": [
              "\n",
              "  <div id=\"df-00afd40f-0c3a-4815-bd86-86bb6f022497\">\n",
              "    <div class=\"colab-df-container\">\n",
              "      <div>\n",
              "<style scoped>\n",
              "    .dataframe tbody tr th:only-of-type {\n",
              "        vertical-align: middle;\n",
              "    }\n",
              "\n",
              "    .dataframe tbody tr th {\n",
              "        vertical-align: top;\n",
              "    }\n",
              "\n",
              "    .dataframe thead th {\n",
              "        text-align: right;\n",
              "    }\n",
              "</style>\n",
              "<table border=\"1\" class=\"dataframe\">\n",
              "  <thead>\n",
              "    <tr style=\"text-align: right;\">\n",
              "      <th></th>\n",
              "      <th>valence</th>\n",
              "      <th>year</th>\n",
              "      <th>acousticness</th>\n",
              "      <th>artists</th>\n",
              "      <th>danceability</th>\n",
              "      <th>duration_ms</th>\n",
              "      <th>energy</th>\n",
              "      <th>explicit</th>\n",
              "      <th>id</th>\n",
              "      <th>instrumentalness</th>\n",
              "      <th>key</th>\n",
              "      <th>liveness</th>\n",
              "      <th>loudness</th>\n",
              "      <th>mode</th>\n",
              "      <th>name</th>\n",
              "      <th>popularity</th>\n",
              "      <th>release_date</th>\n",
              "      <th>speechiness</th>\n",
              "      <th>tempo</th>\n",
              "    </tr>\n",
              "  </thead>\n",
              "  <tbody>\n",
              "    <tr>\n",
              "      <th>0</th>\n",
              "      <td>0.0594</td>\n",
              "      <td>1921</td>\n",
              "      <td>0.982</td>\n",
              "      <td>['Sergei Rachmaninoff', 'James Levine', 'Berli...</td>\n",
              "      <td>0.279</td>\n",
              "      <td>831667</td>\n",
              "      <td>0.211</td>\n",
              "      <td>0</td>\n",
              "      <td>4BJqT0PrAfrxzMOxytFOIz</td>\n",
              "      <td>0.878000</td>\n",
              "      <td>10</td>\n",
              "      <td>0.665</td>\n",
              "      <td>-20.096</td>\n",
              "      <td>1.0</td>\n",
              "      <td>Piano Concerto No. 3 in D Minor, Op. 30: III. ...</td>\n",
              "      <td>4.0</td>\n",
              "      <td>1921</td>\n",
              "      <td>0.0366</td>\n",
              "      <td>80.954</td>\n",
              "    </tr>\n",
              "    <tr>\n",
              "      <th>1</th>\n",
              "      <td>0.9630</td>\n",
              "      <td>1921</td>\n",
              "      <td>0.732</td>\n",
              "      <td>['Dennis Day']</td>\n",
              "      <td>0.819</td>\n",
              "      <td>180533</td>\n",
              "      <td>0.341</td>\n",
              "      <td>0</td>\n",
              "      <td>7xPhfUan2yNtyFG0cUWkt8</td>\n",
              "      <td>0.000000</td>\n",
              "      <td>7</td>\n",
              "      <td>0.160</td>\n",
              "      <td>-12.441</td>\n",
              "      <td>1.0</td>\n",
              "      <td>Clancy Lowered the Boom</td>\n",
              "      <td>5.0</td>\n",
              "      <td>1921</td>\n",
              "      <td>0.4150</td>\n",
              "      <td>60.936</td>\n",
              "    </tr>\n",
              "    <tr>\n",
              "      <th>2</th>\n",
              "      <td>0.0394</td>\n",
              "      <td>1921</td>\n",
              "      <td>0.961</td>\n",
              "      <td>['KHP Kridhamardawa Karaton Ngayogyakarta Hadi...</td>\n",
              "      <td>0.328</td>\n",
              "      <td>500062</td>\n",
              "      <td>0.166</td>\n",
              "      <td>0</td>\n",
              "      <td>1o6I8BglA6ylDMrIELygv1</td>\n",
              "      <td>0.913000</td>\n",
              "      <td>3</td>\n",
              "      <td>0.101</td>\n",
              "      <td>-14.850</td>\n",
              "      <td>1.0</td>\n",
              "      <td>Gati Bali</td>\n",
              "      <td>5.0</td>\n",
              "      <td>1921</td>\n",
              "      <td>0.0339</td>\n",
              "      <td>110.339</td>\n",
              "    </tr>\n",
              "    <tr>\n",
              "      <th>3</th>\n",
              "      <td>0.1650</td>\n",
              "      <td>1921</td>\n",
              "      <td>0.967</td>\n",
              "      <td>['Frank Parker']</td>\n",
              "      <td>0.275</td>\n",
              "      <td>210000</td>\n",
              "      <td>0.309</td>\n",
              "      <td>0</td>\n",
              "      <td>3ftBPsC5vPBKxYSee08FDH</td>\n",
              "      <td>0.000028</td>\n",
              "      <td>5</td>\n",
              "      <td>0.381</td>\n",
              "      <td>-9.316</td>\n",
              "      <td>1.0</td>\n",
              "      <td>Danny Boy</td>\n",
              "      <td>3.0</td>\n",
              "      <td>1921</td>\n",
              "      <td>0.0354</td>\n",
              "      <td>100.109</td>\n",
              "    </tr>\n",
              "    <tr>\n",
              "      <th>4</th>\n",
              "      <td>0.2530</td>\n",
              "      <td>1921</td>\n",
              "      <td>0.957</td>\n",
              "      <td>['Phil Regan']</td>\n",
              "      <td>0.418</td>\n",
              "      <td>166693</td>\n",
              "      <td>0.193</td>\n",
              "      <td>0</td>\n",
              "      <td>4d6HGyGT8e121BsdKmw9v6</td>\n",
              "      <td>0.000002</td>\n",
              "      <td>3</td>\n",
              "      <td>0.229</td>\n",
              "      <td>-10.096</td>\n",
              "      <td>1.0</td>\n",
              "      <td>When Irish Eyes Are Smiling</td>\n",
              "      <td>2.0</td>\n",
              "      <td>1921</td>\n",
              "      <td>0.0380</td>\n",
              "      <td>101.665</td>\n",
              "    </tr>\n",
              "  </tbody>\n",
              "</table>\n",
              "</div>\n",
              "      <button class=\"colab-df-convert\" onclick=\"convertToInteractive('df-00afd40f-0c3a-4815-bd86-86bb6f022497')\"\n",
              "              title=\"Convert this dataframe to an interactive table.\"\n",
              "              style=\"display:none;\">\n",
              "        \n",
              "  <svg xmlns=\"http://www.w3.org/2000/svg\" height=\"24px\"viewBox=\"0 0 24 24\"\n",
              "       width=\"24px\">\n",
              "    <path d=\"M0 0h24v24H0V0z\" fill=\"none\"/>\n",
              "    <path d=\"M18.56 5.44l.94 2.06.94-2.06 2.06-.94-2.06-.94-.94-2.06-.94 2.06-2.06.94zm-11 1L8.5 8.5l.94-2.06 2.06-.94-2.06-.94L8.5 2.5l-.94 2.06-2.06.94zm10 10l.94 2.06.94-2.06 2.06-.94-2.06-.94-.94-2.06-.94 2.06-2.06.94z\"/><path d=\"M17.41 7.96l-1.37-1.37c-.4-.4-.92-.59-1.43-.59-.52 0-1.04.2-1.43.59L10.3 9.45l-7.72 7.72c-.78.78-.78 2.05 0 2.83L4 21.41c.39.39.9.59 1.41.59.51 0 1.02-.2 1.41-.59l7.78-7.78 2.81-2.81c.8-.78.8-2.07 0-2.86zM5.41 20L4 18.59l7.72-7.72 1.47 1.35L5.41 20z\"/>\n",
              "  </svg>\n",
              "      </button>\n",
              "      \n",
              "  <style>\n",
              "    .colab-df-container {\n",
              "      display:flex;\n",
              "      flex-wrap:wrap;\n",
              "      gap: 12px;\n",
              "    }\n",
              "\n",
              "    .colab-df-convert {\n",
              "      background-color: #E8F0FE;\n",
              "      border: none;\n",
              "      border-radius: 50%;\n",
              "      cursor: pointer;\n",
              "      display: none;\n",
              "      fill: #1967D2;\n",
              "      height: 32px;\n",
              "      padding: 0 0 0 0;\n",
              "      width: 32px;\n",
              "    }\n",
              "\n",
              "    .colab-df-convert:hover {\n",
              "      background-color: #E2EBFA;\n",
              "      box-shadow: 0px 1px 2px rgba(60, 64, 67, 0.3), 0px 1px 3px 1px rgba(60, 64, 67, 0.15);\n",
              "      fill: #174EA6;\n",
              "    }\n",
              "\n",
              "    [theme=dark] .colab-df-convert {\n",
              "      background-color: #3B4455;\n",
              "      fill: #D2E3FC;\n",
              "    }\n",
              "\n",
              "    [theme=dark] .colab-df-convert:hover {\n",
              "      background-color: #434B5C;\n",
              "      box-shadow: 0px 1px 3px 1px rgba(0, 0, 0, 0.15);\n",
              "      filter: drop-shadow(0px 1px 2px rgba(0, 0, 0, 0.3));\n",
              "      fill: #FFFFFF;\n",
              "    }\n",
              "  </style>\n",
              "\n",
              "      <script>\n",
              "        const buttonEl =\n",
              "          document.querySelector('#df-00afd40f-0c3a-4815-bd86-86bb6f022497 button.colab-df-convert');\n",
              "        buttonEl.style.display =\n",
              "          google.colab.kernel.accessAllowed ? 'block' : 'none';\n",
              "\n",
              "        async function convertToInteractive(key) {\n",
              "          const element = document.querySelector('#df-00afd40f-0c3a-4815-bd86-86bb6f022497');\n",
              "          const dataTable =\n",
              "            await google.colab.kernel.invokeFunction('convertToInteractive',\n",
              "                                                     [key], {});\n",
              "          if (!dataTable) return;\n",
              "\n",
              "          const docLinkHtml = 'Like what you see? Visit the ' +\n",
              "            '<a target=\"_blank\" href=https://colab.research.google.com/notebooks/data_table.ipynb>data table notebook</a>'\n",
              "            + ' to learn more about interactive tables.';\n",
              "          element.innerHTML = '';\n",
              "          dataTable['output_type'] = 'display_data';\n",
              "          await google.colab.output.renderOutput(dataTable, element);\n",
              "          const docLink = document.createElement('div');\n",
              "          docLink.innerHTML = docLinkHtml;\n",
              "          element.appendChild(docLink);\n",
              "        }\n",
              "      </script>\n",
              "    </div>\n",
              "  </div>\n",
              "  "
            ]
          },
          "metadata": {},
          "execution_count": 97
        }
      ],
      "source": [
        "data.head()"
      ]
    },
    {
      "cell_type": "code",
      "execution_count": null,
      "metadata": {
        "id": "JF5S0KyljI1_"
      },
      "outputs": [],
      "source": [
        "from collections import defaultdict\n",
        "from sklearn.metrics import euclidean_distances\n",
        "from scipy.spatial.distance import cdist\n",
        "import difflib\n",
        "\n",
        "number_cols = ['valence', 'year', 'acousticness', 'danceability', 'duration_ms', 'energy', 'explicit',\n",
        " 'instrumentalness', 'key', 'liveness', 'loudness', 'mode', 'popularity', 'speechiness', 'tempo']\n",
        "\n",
        "\n",
        "def get_song_data(song, spotify_data):\n",
        "\n",
        "    try:\n",
        "        song_data = spotify_data[(spotify_data['name'] == song['name'])\n",
        "                                & (spotify_data['year'] == song['year'])].iloc[0]\n",
        "        return song_data\n",
        "\n",
        "    except IndexError:\n",
        "        return find_song(song['name'], song['year'])\n",
        "\n",
        "\n",
        "def get_mean_vector(song_list, spotify_data):\n",
        "\n",
        "    song_vectors = []\n",
        "\n",
        "    for song in song_list:\n",
        "        song_data = get_song_data(song, spotify_data)\n",
        "        if song_data is None:\n",
        "            print('Warning: {} does not exist in Spotify or in database'.format(song['name']))\n",
        "            continue\n",
        "        song_vector = song_data[number_cols].values\n",
        "        song_vectors.append(song_vector)\n",
        "\n",
        "    song_matrix = np.array(list(song_vectors))\n",
        "    return np.mean(song_matrix, axis=0)\n",
        "\n",
        "\n",
        "def flatten_dict_list(dict_list):\n",
        "\n",
        "    flattened_dict = defaultdict()\n",
        "    for key in dict_list[0].keys():\n",
        "        flattened_dict[key] = []\n",
        "\n",
        "    for dictionary in dict_list:\n",
        "        for key, value in dictionary.items():\n",
        "            flattened_dict[key].append(value)\n",
        "\n",
        "    return flattened_dict\n",
        "\n",
        "\n",
        "def recommend_songs( song_list, spotify_data, n_songs=10):\n",
        "\n",
        "    metadata_cols = ['name', 'year', 'artists']\n",
        "    song_dict = flatten_dict_list(song_list)\n",
        "\n",
        "    song_center = get_mean_vector(song_list, spotify_data)\n",
        "    scaler = song_cluster_pipeline.steps[0][1]\n",
        "    scaled_data = scaler.transform(spotify_data[number_cols])\n",
        "    scaled_song_center = scaler.transform(song_center.reshape(1, -1))\n",
        "    distances = cdist(scaled_song_center, scaled_data, 'cosine')\n",
        "    index = list(np.argsort(distances)[:, :n_songs][0])\n",
        "\n",
        "    rec_songs = spotify_data.iloc[index]\n",
        "    rec_songs = rec_songs[~rec_songs['name'].isin(song_dict['name'])]\n",
        "    return rec_songs[metadata_cols].to_dict(orient='records')"
      ]
    },
    {
      "cell_type": "code",
      "execution_count": null,
      "metadata": {
        "colab": {
          "base_uri": "https://localhost:8080/"
        },
        "id": "LhlvwapFjKzL",
        "outputId": "2a14ec71-80b1-4da7-e733-b2613f71b490"
      },
      "outputs": [
        {
          "output_type": "execute_result",
          "data": {
            "text/plain": [
              "[{'artists': \"['Linkin Park']\", 'name': 'In the End', 'year': 2000},\n",
              " {'artists': \"['Fuel']\", 'name': 'Shimmer', 'year': 1997},\n",
              " {'artists': \"['Megadeth']\", 'name': 'Symphony Of Destruction', 'year': 1992},\n",
              " {'artists': \"['TV Girl']\", 'name': 'Lovers Rock', 'year': 2014},\n",
              " {'artists': \"['Linkin Park']\", 'name': 'Breaking the Habit', 'year': 2003},\n",
              " {'artists': \"['Linkin Park']\", 'name': 'New Divide', 'year': 2009},\n",
              " {'artists': \"['Ted Nugent']\", 'name': 'Cat Scratch Fever', 'year': 1977},\n",
              " {'artists': \"['Soundgarden']\", 'name': 'Fell On Black Days', 'year': 1994},\n",
              " {'artists': \"['The Marshall Tucker Band']\",\n",
              "  'name': 'Fire on the Mountain',\n",
              "  'year': 1975}]"
            ]
          },
          "metadata": {},
          "execution_count": 98
        }
      ],
      "source": [
        "recommend_songs([{'name': 'Come As You Are', 'year':1991}],  data)"
      ]
    },
    {
      "cell_type": "code",
      "execution_count": null,
      "metadata": {
        "id": "QR9msxVpAmca"
      },
      "outputs": [],
      "source": [
        "def lts(d):\n",
        "    p=\"\"\n",
        "    for i in range(len(d)):\n",
        "        p=p+listToString(d[i][\"artists\"])+str(d[i][\"name\"])+str(d[i][\"year\"])+\"\\n\"\n",
        "        # for j in d[i].keys():\n",
        "        #     p=p+str(d[i][j])\n",
        "        # p=p+\"\\n\"\n",
        "    return p"
      ]
    },
    {
      "cell_type": "code",
      "execution_count": null,
      "metadata": {
        "id": "CKUki4I_AAfs"
      },
      "outputs": [],
      "source": [
        "def listToString(s):\n",
        "\n",
        "    # initialize an empty string\n",
        "    str1 = \"\"\n",
        "\n",
        "    # traverse in the string\n",
        "    for ele in s:\n",
        "        str1 += (ele)\n",
        "\n",
        "    # return string\n",
        "    return str1\n"
      ]
    },
    {
      "cell_type": "code",
      "execution_count": null,
      "metadata": {
        "colab": {
          "base_uri": "https://localhost:8080/",
          "height": 71
        },
        "id": "cHR3SdBWBJQB",
        "outputId": "df9e20bf-03f0-4337-ed17-8a8ac70f32c9"
      },
      "outputs": [
        {
          "output_type": "execute_result",
          "data": {
            "text/plain": [
              "\"['Linkin Park']In the End2000\\n['Fuel']Shimmer1997\\n['Megadeth']Symphony Of Destruction1992\\n['TV Girl']Lovers Rock2014\\n['Linkin Park']Breaking the Habit2003\\n['Linkin Park']New Divide2009\\n['Ted Nugent']Cat Scratch Fever1977\\n['Soundgarden']Fell On Black Days1994\\n['The Marshall Tucker Band']Fire on the Mountain1975\\n\""
            ],
            "application/vnd.google.colaboratory.intrinsic+json": {
              "type": "string"
            }
          },
          "metadata": {},
          "execution_count": 101
        }
      ],
      "source": [
        "lts(recommend_songs([{'name': 'Come As You Are', 'year':1991}],  data))"
      ]
    },
    {
      "cell_type": "markdown",
      "metadata": {
        "id": "U7xoC4fLLtii"
      },
      "source": [
        "CHATBOT"
      ]
    },
    {
      "cell_type": "code",
      "execution_count": null,
      "metadata": {
        "id": "jlrrkKhddgxx",
        "colab": {
          "base_uri": "https://localhost:8080/"
        },
        "outputId": "246797c3-6554-48ec-f0d4-7db10c100b9f"
      },
      "outputs": [
        {
          "output_type": "stream",
          "name": "stdout",
          "text": [
            "Requirement already satisfied: python-telegram-bot in /usr/local/lib/python3.7/dist-packages (13.11)\n",
            "Requirement already satisfied: certifi in /usr/local/lib/python3.7/dist-packages (from python-telegram-bot) (2021.10.8)\n",
            "Requirement already satisfied: tornado>=6.1 in /usr/local/lib/python3.7/dist-packages (from python-telegram-bot) (6.1)\n",
            "Requirement already satisfied: pytz>=2018.6 in /usr/local/lib/python3.7/dist-packages (from python-telegram-bot) (2022.1)\n",
            "Requirement already satisfied: APScheduler==3.6.3 in /usr/local/lib/python3.7/dist-packages (from python-telegram-bot) (3.6.3)\n",
            "Requirement already satisfied: cachetools==4.2.2 in /usr/local/lib/python3.7/dist-packages (from python-telegram-bot) (4.2.2)\n",
            "Requirement already satisfied: setuptools>=0.7 in /usr/local/lib/python3.7/dist-packages (from APScheduler==3.6.3->python-telegram-bot) (57.4.0)\n",
            "Requirement already satisfied: six>=1.4.0 in /usr/local/lib/python3.7/dist-packages (from APScheduler==3.6.3->python-telegram-bot) (1.15.0)\n",
            "Requirement already satisfied: tzlocal>=1.2 in /usr/local/lib/python3.7/dist-packages (from APScheduler==3.6.3->python-telegram-bot) (1.5.1)\n"
          ]
        }
      ],
      "source": [
        "pip install python-telegram-bot"
      ]
    },
    {
      "cell_type": "code",
      "execution_count": null,
      "metadata": {
        "id": "bFNVJjOBX0o7",
        "colab": {
          "base_uri": "https://localhost:8080/"
        },
        "outputId": "476fae7c-b473-44a5-91e2-0f761b61c117"
      },
      "outputs": [
        {
          "output_type": "execute_result",
          "data": {
            "text/plain": [
              "<queue.Queue at 0x7fc8f0328f10>"
            ]
          },
          "metadata": {},
          "execution_count": 104
        }
      ],
      "source": [
        "from telegram.ext.updater import Updater\n",
        "from telegram.update import Update\n",
        "from telegram.ext.callbackcontext import CallbackContext\n",
        "from telegram.ext.commandhandler import CommandHandler\n",
        "from telegram.ext.messagehandler import MessageHandler\n",
        "from telegram.ext.filters import Filters\n",
        "\n",
        "m=False\n",
        "b=False\n",
        "s=False\n",
        "updater = Updater(\"5127631642:AAGOM_ecT1bqvo4Mc_x4YbL1dRSNCY67eik\",\n",
        "                use_context=True)\n",
        "\n",
        "\n",
        "def start(update: Update, context: CallbackContext):\n",
        "    global m,s,b\n",
        "    update.message.reply_text(\n",
        "        \"Hello , Welcome to Recbot. Do you want recommendation?\")\n",
        "    m=False\n",
        "    s=False\n",
        "    b=False\n",
        "    #update.message.reply_text('m'+str(m)+'b'+str(b)+'s'+str(s))\n",
        "\n",
        "def help(update: Update, context: CallbackContext):\n",
        "    update.message.reply_text(\"\"\"Alright Please enter your domain :-\n",
        "    /movies - To get movies recommendation\n",
        "    /books - To get books recommendation\n",
        "    /songs - To get songs recommendation\"\"\")\n",
        "def next_step(update: Update, context: CallbackContext):\n",
        "    update.message.reply_text(\n",
        "        \"Please enter your previous watched movie.\")\n",
        "def movie(update: Update, context: CallbackContext):\n",
        "    global m\n",
        "    m=True\n",
        "    update.message.reply_text(\n",
        "        \"Please enter your previous watched movie.\")\n",
        "\n",
        "\n",
        "def book(update: Update, context: CallbackContext):\n",
        "    global b\n",
        "    b = True\n",
        "    update.message.reply_text(\"Please enter your previous book read.\")\n",
        "\n",
        "\n",
        "def song(update: Update, context: CallbackContext):\n",
        "    global s\n",
        "    s=True\n",
        "    update.message.reply_text(\n",
        "        \"Please enter your previous listened song.\")\n",
        "\n",
        "def inlinequery(update, context):\n",
        " query = update.inline_query.query\n",
        " text = query.message_text\n",
        " print(text)\n",
        " update.message.reply_text(text)\n",
        "\n",
        "def unknown(update: Update, context: CallbackContext):\n",
        "    update.message.reply_text(\n",
        "        \"Sorry '%s' is not a valid command\" % update.message.text)\n",
        "\n",
        "    # update.message.reply_text(\n",
        "    #   \"Sorry I can't recognize you , you said '%s'\" % update.message.text)\n",
        "\n",
        "def unknown_text(update: Update, context: CallbackContext):\n",
        "    if s:\n",
        "        x = update.message.text\n",
        "        res = x.split(',')\n",
        "        t = recommend_songs([{'name': res[0], 'year':int(res[1])}],  data)\n",
        "        s=False\n",
        "        update.message.reply_text(lts(t))\n",
        "    if b:\n",
        "        x = update.message.text\n",
        "        res = x.split(',')\n",
        "        t = recommend(res[0],res[1])\n",
        "        b=False\n",
        "        update.message.reply_text(str(t)[:-1])\n",
        "    if m:\n",
        "        m=False\n",
        "        t=get_movie_recommendation(update.message.text)\n",
        "        update.message.reply_text(t.to_string(index=False))\n",
        "\n",
        "\n",
        "updater.dispatcher.add_handler(CommandHandler('start', start))\n",
        "updater.dispatcher.add_handler(CommandHandler('yes',help))\n",
        "updater.dispatcher.add_handler(CommandHandler('movies',movie))\n",
        "updater.dispatcher.add_handler(CommandHandler('books',book))\n",
        "updater.dispatcher.add_handler(CommandHandler('songs',song))\n",
        "#updater.dispatcher.add_handler(CommandHandler(reply))\n",
        "\n",
        "updater.dispatcher.add_handler(MessageHandler(Filters.text, unknown_text))\n",
        "updater.dispatcher.add_handler(MessageHandler(Filters.command, unknown)) # Filters out unknown commands\n",
        "\n",
        "updater.start_polling()"
      ]
    },
    {
      "cell_type": "code",
      "source": [],
      "metadata": {
        "id": "ucYvXUGfnktj"
      },
      "execution_count": null,
      "outputs": []
    }
  ],
  "metadata": {
    "colab": {
      "provenance": []
    },
    "kernelspec": {
      "display_name": "Python 3",
      "name": "python3"
    },
    "language_info": {
      "name": "python"
    }
  },
  "nbformat": 4,
  "nbformat_minor": 0
}